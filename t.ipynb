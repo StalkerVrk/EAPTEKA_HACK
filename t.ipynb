{
 "metadata": {
  "language_info": {
   "codemirror_mode": {
    "name": "ipython",
    "version": 3
   },
   "file_extension": ".py",
   "mimetype": "text/x-python",
   "name": "python",
   "nbconvert_exporter": "python",
   "pygments_lexer": "ipython3",
   "version": "3.8.0"
  },
  "orig_nbformat": 2,
  "kernelspec": {
   "name": "python380jvsc74a57bd0b977b1c54e1ae8995c85ab62d32bcef0fe2b3afde370ca3cc67a760e8e35de10",
   "display_name": "Python 3.8.0 64-bit ('python38')"
  },
  "metadata": {
   "interpreter": {
    "hash": "b977b1c54e1ae8995c85ab62d32bcef0fe2b3afde370ca3cc67a760e8e35de10"
   }
  }
 },
 "nbformat": 4,
 "nbformat_minor": 2,
 "cells": [
  {
   "cell_type": "code",
   "execution_count": 18,
   "metadata": {},
   "outputs": [],
   "source": [
    "import requests as rq\n",
    "import hashlib as hl"
   ]
  },
  {
   "cell_type": "code",
   "execution_count": 33,
   "metadata": {},
   "outputs": [
    {
     "output_type": "execute_result",
     "data": {
      "text/plain": [
       "b'asdasd'"
      ]
     },
     "metadata": {},
     "execution_count": 33
    }
   ],
   "source": [
    "a = 'asdasd'\n",
    "bytes(a,encoding='utf-8')\n"
   ]
  },
  {
   "cell_type": "code",
   "execution_count": 58,
   "metadata": {},
   "outputs": [],
   "source": [
    "r = rq.get('http://45.128.207.185:8000', params={'phone':'89112268515'})"
   ]
  },
  {
   "cell_type": "code",
   "execution_count": 52,
   "metadata": {},
   "outputs": [
    {
     "output_type": "execute_result",
     "data": {
      "text/plain": [
       "True"
      ]
     },
     "metadata": {},
     "execution_count": 52
    }
   ],
   "source": [
    "r.content.decode(encoding='utf-8') == hl.sha256().hexdigest()"
   ]
  },
  {
   "cell_type": "code",
   "execution_count": 59,
   "metadata": {},
   "outputs": [
    {
     "output_type": "execute_result",
     "data": {
      "text/plain": [
       "'4a8e6d5dd4d03e4cb6a690bce6e1e0d390e7b047a46fa6209585bc5743caae5d'"
      ]
     },
     "metadata": {},
     "execution_count": 59
    }
   ],
   "source": [
    "r.content.decode(encoding='utf-8')"
   ]
  },
  {
   "cell_type": "code",
   "execution_count": null,
   "metadata": {},
   "outputs": [],
   "source": []
  }
 ]
}