{
 "metadata": {
  "language_info": {
   "codemirror_mode": {
    "name": "ipython",
    "version": 3
   },
   "file_extension": ".py",
   "mimetype": "text/x-python",
   "name": "python",
   "nbconvert_exporter": "python",
   "pygments_lexer": "ipython3",
   "version": "3.8.0"
  },
  "orig_nbformat": 2,
  "kernelspec": {
   "name": "python380jvsc74a57bd0b977b1c54e1ae8995c85ab62d32bcef0fe2b3afde370ca3cc67a760e8e35de10",
   "display_name": "Python 3.8.0 64-bit ('python38')"
  },
  "metadata": {
   "interpreter": {
    "hash": "b977b1c54e1ae8995c85ab62d32bcef0fe2b3afde370ca3cc67a760e8e35de10"
   }
  }
 },
 "nbformat": 4,
 "nbformat_minor": 2,
 "cells": [
  {
   "cell_type": "code",
   "execution_count": 2,
   "metadata": {},
   "outputs": [],
   "source": [
    "import pandas as pd\n",
    "import numpy as np"
   ]
  },
  {
   "cell_type": "code",
   "execution_count": 24,
   "metadata": {},
   "outputs": [
    {
     "output_type": "execute_result",
     "data": {
      "text/plain": [
       "       MNN_ID  PRODUCT_ID                    MNN_NAME  \\\n",
       "0          53    461363.0                  Силденафил   \n",
       "1          53    461364.0                  Силденафил   \n",
       "2          53    461365.0                  Силденафил   \n",
       "3          53    461366.0                  Силденафил   \n",
       "4          53    461367.0                  Силденафил   \n",
       "...       ...         ...                         ...   \n",
       "17226    1662         NaN  Дифенгидрамин, Парацетамол   \n",
       "17227      93    494984.0                 Ганцикловир   \n",
       "17228     231    963082.0                  Метоксален   \n",
       "17229     746    494985.0                   Мелатонин   \n",
       "17230     746    494986.0                   Мелатонин   \n",
       "\n",
       "                         MNN_CODE  \n",
       "0                      sildenafil  \n",
       "1                      sildenafil  \n",
       "2                      sildenafil  \n",
       "3                      sildenafil  \n",
       "4                      sildenafil  \n",
       "...                           ...  \n",
       "17226  difengidramin_paratsetamol  \n",
       "17227                gantsiklovir  \n",
       "17228                  metoksalen  \n",
       "17229                   melatonin  \n",
       "17230                   melatonin  \n",
       "\n",
       "[17231 rows x 4 columns]"
      ],
      "text/html": "<div>\n<style scoped>\n    .dataframe tbody tr th:only-of-type {\n        vertical-align: middle;\n    }\n\n    .dataframe tbody tr th {\n        vertical-align: top;\n    }\n\n    .dataframe thead th {\n        text-align: right;\n    }\n</style>\n<table border=\"1\" class=\"dataframe\">\n  <thead>\n    <tr style=\"text-align: right;\">\n      <th></th>\n      <th>MNN_ID</th>\n      <th>PRODUCT_ID</th>\n      <th>MNN_NAME</th>\n      <th>MNN_CODE</th>\n    </tr>\n  </thead>\n  <tbody>\n    <tr>\n      <th>0</th>\n      <td>53</td>\n      <td>461363.0</td>\n      <td>Силденафил</td>\n      <td>sildenafil</td>\n    </tr>\n    <tr>\n      <th>1</th>\n      <td>53</td>\n      <td>461364.0</td>\n      <td>Силденафил</td>\n      <td>sildenafil</td>\n    </tr>\n    <tr>\n      <th>2</th>\n      <td>53</td>\n      <td>461365.0</td>\n      <td>Силденафил</td>\n      <td>sildenafil</td>\n    </tr>\n    <tr>\n      <th>3</th>\n      <td>53</td>\n      <td>461366.0</td>\n      <td>Силденафил</td>\n      <td>sildenafil</td>\n    </tr>\n    <tr>\n      <th>4</th>\n      <td>53</td>\n      <td>461367.0</td>\n      <td>Силденафил</td>\n      <td>sildenafil</td>\n    </tr>\n    <tr>\n      <th>...</th>\n      <td>...</td>\n      <td>...</td>\n      <td>...</td>\n      <td>...</td>\n    </tr>\n    <tr>\n      <th>17226</th>\n      <td>1662</td>\n      <td>NaN</td>\n      <td>Дифенгидрамин, Парацетамол</td>\n      <td>difengidramin_paratsetamol</td>\n    </tr>\n    <tr>\n      <th>17227</th>\n      <td>93</td>\n      <td>494984.0</td>\n      <td>Ганцикловир</td>\n      <td>gantsiklovir</td>\n    </tr>\n    <tr>\n      <th>17228</th>\n      <td>231</td>\n      <td>963082.0</td>\n      <td>Метоксален</td>\n      <td>metoksalen</td>\n    </tr>\n    <tr>\n      <th>17229</th>\n      <td>746</td>\n      <td>494985.0</td>\n      <td>Мелатонин</td>\n      <td>melatonin</td>\n    </tr>\n    <tr>\n      <th>17230</th>\n      <td>746</td>\n      <td>494986.0</td>\n      <td>Мелатонин</td>\n      <td>melatonin</td>\n    </tr>\n  </tbody>\n</table>\n<p>17231 rows × 4 columns</p>\n</div>"
     },
     "metadata": {},
     "execution_count": 24
    }
   ],
   "source": [
    "data = pd.read_json('productToMNN.json')\n",
    "data"
   ]
  },
  {
   "cell_type": "code",
   "execution_count": 8,
   "metadata": {},
   "outputs": [
    {
     "output_type": "execute_result",
     "data": {
      "text/plain": [
       "         ORDER_ID  PRODUCT_ID  QANTITY   PRICE            DETAIL_PAGE_URL\n",
       "0        11881925      873128        1  2554.0           /goods/id303563/\n",
       "1        11881927      461853        4   675.0           /goods/id116631/\n",
       "2        11881937      466634        4   222.0       /spb/goods/id215482/\n",
       "3        11881937      465982        4   179.0       /spb/goods/id214008/\n",
       "4        11881937      477396        4   126.0       /spb/goods/id241663/\n",
       "...           ...         ...      ...     ...                        ...\n",
       "1254293  13584077      466585        1   520.0   /saratov/goods/id215398/\n",
       "1254294  13584321      463097        2   348.0       /perm/goods/id20631/\n",
       "1254295  13584324      468104        1  2382.0  /tolyatti/goods/id219056/\n",
       "1254296  13584488      464160        1   828.0           /goods/id209967/\n",
       "1254297  13584488      463081        1   921.0           /goods/id206251/\n",
       "\n",
       "[1254298 rows x 5 columns]"
      ],
      "text/html": "<div>\n<style scoped>\n    .dataframe tbody tr th:only-of-type {\n        vertical-align: middle;\n    }\n\n    .dataframe tbody tr th {\n        vertical-align: top;\n    }\n\n    .dataframe thead th {\n        text-align: right;\n    }\n</style>\n<table border=\"1\" class=\"dataframe\">\n  <thead>\n    <tr style=\"text-align: right;\">\n      <th></th>\n      <th>ORDER_ID</th>\n      <th>PRODUCT_ID</th>\n      <th>QANTITY</th>\n      <th>PRICE</th>\n      <th>DETAIL_PAGE_URL</th>\n    </tr>\n  </thead>\n  <tbody>\n    <tr>\n      <th>0</th>\n      <td>11881925</td>\n      <td>873128</td>\n      <td>1</td>\n      <td>2554.0</td>\n      <td>/goods/id303563/</td>\n    </tr>\n    <tr>\n      <th>1</th>\n      <td>11881927</td>\n      <td>461853</td>\n      <td>4</td>\n      <td>675.0</td>\n      <td>/goods/id116631/</td>\n    </tr>\n    <tr>\n      <th>2</th>\n      <td>11881937</td>\n      <td>466634</td>\n      <td>4</td>\n      <td>222.0</td>\n      <td>/spb/goods/id215482/</td>\n    </tr>\n    <tr>\n      <th>3</th>\n      <td>11881937</td>\n      <td>465982</td>\n      <td>4</td>\n      <td>179.0</td>\n      <td>/spb/goods/id214008/</td>\n    </tr>\n    <tr>\n      <th>4</th>\n      <td>11881937</td>\n      <td>477396</td>\n      <td>4</td>\n      <td>126.0</td>\n      <td>/spb/goods/id241663/</td>\n    </tr>\n    <tr>\n      <th>...</th>\n      <td>...</td>\n      <td>...</td>\n      <td>...</td>\n      <td>...</td>\n      <td>...</td>\n    </tr>\n    <tr>\n      <th>1254293</th>\n      <td>13584077</td>\n      <td>466585</td>\n      <td>1</td>\n      <td>520.0</td>\n      <td>/saratov/goods/id215398/</td>\n    </tr>\n    <tr>\n      <th>1254294</th>\n      <td>13584321</td>\n      <td>463097</td>\n      <td>2</td>\n      <td>348.0</td>\n      <td>/perm/goods/id20631/</td>\n    </tr>\n    <tr>\n      <th>1254295</th>\n      <td>13584324</td>\n      <td>468104</td>\n      <td>1</td>\n      <td>2382.0</td>\n      <td>/tolyatti/goods/id219056/</td>\n    </tr>\n    <tr>\n      <th>1254296</th>\n      <td>13584488</td>\n      <td>464160</td>\n      <td>1</td>\n      <td>828.0</td>\n      <td>/goods/id209967/</td>\n    </tr>\n    <tr>\n      <th>1254297</th>\n      <td>13584488</td>\n      <td>463081</td>\n      <td>1</td>\n      <td>921.0</td>\n      <td>/goods/id206251/</td>\n    </tr>\n  </tbody>\n</table>\n<p>1254298 rows × 5 columns</p>\n</div>"
     },
     "metadata": {},
     "execution_count": 8
    }
   ],
   "source": [
    "basket = pd.read_json('Data/basket.json')\n",
    "basket"
   ]
  },
  {
   "cell_type": "code",
   "execution_count": 10,
   "metadata": {},
   "outputs": [
    {
     "output_type": "execute_result",
     "data": {
      "text/plain": [
       "              ID  PERSON_TYPE_ID          DATE_INSERT STATUS_ID LID  USER_ID\n",
       "0       12076390               1  2021-03-11 22:06:59         F  s1       44\n",
       "1       12389466               1  2021-03-25 16:05:36         F  s1       44\n",
       "2       12608530               1  2021-04-04 18:18:30         F  s1       44\n",
       "3       12728691               1  2021-04-09 19:18:28         F  s1       44\n",
       "4       12730596               1  2021-04-09 21:00:28         F  s1       44\n",
       "...          ...             ...                  ...       ...  ..      ...\n",
       "468664  13576933               1  2021-05-21 12:12:59         F  s1  4937213\n",
       "468665  13577180               1  2021-05-21 12:24:27         F  s1  4937213\n",
       "468666  13576906               1  2021-05-21 12:11:58         F  s1  4938814\n",
       "468667  13579468               1  2021-05-21 14:02:33         F  s1  4938814\n",
       "468668  13581791               1  2021-05-21 15:43:30         F  s1  4938814\n",
       "\n",
       "[468669 rows x 6 columns]"
      ],
      "text/html": "<div>\n<style scoped>\n    .dataframe tbody tr th:only-of-type {\n        vertical-align: middle;\n    }\n\n    .dataframe tbody tr th {\n        vertical-align: top;\n    }\n\n    .dataframe thead th {\n        text-align: right;\n    }\n</style>\n<table border=\"1\" class=\"dataframe\">\n  <thead>\n    <tr style=\"text-align: right;\">\n      <th></th>\n      <th>ID</th>\n      <th>PERSON_TYPE_ID</th>\n      <th>DATE_INSERT</th>\n      <th>STATUS_ID</th>\n      <th>LID</th>\n      <th>USER_ID</th>\n    </tr>\n  </thead>\n  <tbody>\n    <tr>\n      <th>0</th>\n      <td>12076390</td>\n      <td>1</td>\n      <td>2021-03-11 22:06:59</td>\n      <td>F</td>\n      <td>s1</td>\n      <td>44</td>\n    </tr>\n    <tr>\n      <th>1</th>\n      <td>12389466</td>\n      <td>1</td>\n      <td>2021-03-25 16:05:36</td>\n      <td>F</td>\n      <td>s1</td>\n      <td>44</td>\n    </tr>\n    <tr>\n      <th>2</th>\n      <td>12608530</td>\n      <td>1</td>\n      <td>2021-04-04 18:18:30</td>\n      <td>F</td>\n      <td>s1</td>\n      <td>44</td>\n    </tr>\n    <tr>\n      <th>3</th>\n      <td>12728691</td>\n      <td>1</td>\n      <td>2021-04-09 19:18:28</td>\n      <td>F</td>\n      <td>s1</td>\n      <td>44</td>\n    </tr>\n    <tr>\n      <th>4</th>\n      <td>12730596</td>\n      <td>1</td>\n      <td>2021-04-09 21:00:28</td>\n      <td>F</td>\n      <td>s1</td>\n      <td>44</td>\n    </tr>\n    <tr>\n      <th>...</th>\n      <td>...</td>\n      <td>...</td>\n      <td>...</td>\n      <td>...</td>\n      <td>...</td>\n      <td>...</td>\n    </tr>\n    <tr>\n      <th>468664</th>\n      <td>13576933</td>\n      <td>1</td>\n      <td>2021-05-21 12:12:59</td>\n      <td>F</td>\n      <td>s1</td>\n      <td>4937213</td>\n    </tr>\n    <tr>\n      <th>468665</th>\n      <td>13577180</td>\n      <td>1</td>\n      <td>2021-05-21 12:24:27</td>\n      <td>F</td>\n      <td>s1</td>\n      <td>4937213</td>\n    </tr>\n    <tr>\n      <th>468666</th>\n      <td>13576906</td>\n      <td>1</td>\n      <td>2021-05-21 12:11:58</td>\n      <td>F</td>\n      <td>s1</td>\n      <td>4938814</td>\n    </tr>\n    <tr>\n      <th>468667</th>\n      <td>13579468</td>\n      <td>1</td>\n      <td>2021-05-21 14:02:33</td>\n      <td>F</td>\n      <td>s1</td>\n      <td>4938814</td>\n    </tr>\n    <tr>\n      <th>468668</th>\n      <td>13581791</td>\n      <td>1</td>\n      <td>2021-05-21 15:43:30</td>\n      <td>F</td>\n      <td>s1</td>\n      <td>4938814</td>\n    </tr>\n  </tbody>\n</table>\n<p>468669 rows × 6 columns</p>\n</div>"
     },
     "metadata": {},
     "execution_count": 10
    }
   ],
   "source": [
    "order = pd.read_json('Data/orders.json') # заказ\n",
    "order"
   ]
  },
  {
   "cell_type": "code",
   "execution_count": 12,
   "metadata": {},
   "outputs": [
    {
     "output_type": "execute_result",
     "data": {
      "text/plain": [
       "            ID                                               NAME\n",
       "0       461363                     Виагра, таблетки 100 мг, 2 шт.\n",
       "1       461364                      Виагра, таблетки 50 мг, 2 шт.\n",
       "2       461365                      Виагра, таблетки 25 мг, 1 шт.\n",
       "3       461366                      Виагра, таблетки 50 мг, 1 шт.\n",
       "4       461367                      Виагра, таблетки 50 мг, 4 шт.\n",
       "...        ...                                                ...\n",
       "40017  1311472  Medhelp Лейкопластырь фиксирующий на шелковой ...\n",
       "40018  1311513        Топинамбур Премиум сироп без сахара, 250 мл\n",
       "40019  1311514  Maneki Диски ватные двусторонние косметические...\n",
       "40020  1311515  Vichy Purete Thermale набор Тоник 200 мл+Гель ...\n",
       "40021  1316818                  Магнерот таблетки 500 мг, 100 шт.\n",
       "\n",
       "[40022 rows x 2 columns]"
      ],
      "text/html": "<div>\n<style scoped>\n    .dataframe tbody tr th:only-of-type {\n        vertical-align: middle;\n    }\n\n    .dataframe tbody tr th {\n        vertical-align: top;\n    }\n\n    .dataframe thead th {\n        text-align: right;\n    }\n</style>\n<table border=\"1\" class=\"dataframe\">\n  <thead>\n    <tr style=\"text-align: right;\">\n      <th></th>\n      <th>ID</th>\n      <th>NAME</th>\n    </tr>\n  </thead>\n  <tbody>\n    <tr>\n      <th>0</th>\n      <td>461363</td>\n      <td>Виагра, таблетки 100 мг, 2 шт.</td>\n    </tr>\n    <tr>\n      <th>1</th>\n      <td>461364</td>\n      <td>Виагра, таблетки 50 мг, 2 шт.</td>\n    </tr>\n    <tr>\n      <th>2</th>\n      <td>461365</td>\n      <td>Виагра, таблетки 25 мг, 1 шт.</td>\n    </tr>\n    <tr>\n      <th>3</th>\n      <td>461366</td>\n      <td>Виагра, таблетки 50 мг, 1 шт.</td>\n    </tr>\n    <tr>\n      <th>4</th>\n      <td>461367</td>\n      <td>Виагра, таблетки 50 мг, 4 шт.</td>\n    </tr>\n    <tr>\n      <th>...</th>\n      <td>...</td>\n      <td>...</td>\n    </tr>\n    <tr>\n      <th>40017</th>\n      <td>1311472</td>\n      <td>Medhelp Лейкопластырь фиксирующий на шелковой ...</td>\n    </tr>\n    <tr>\n      <th>40018</th>\n      <td>1311513</td>\n      <td>Топинамбур Премиум сироп без сахара, 250 мл</td>\n    </tr>\n    <tr>\n      <th>40019</th>\n      <td>1311514</td>\n      <td>Maneki Диски ватные двусторонние косметические...</td>\n    </tr>\n    <tr>\n      <th>40020</th>\n      <td>1311515</td>\n      <td>Vichy Purete Thermale набор Тоник 200 мл+Гель ...</td>\n    </tr>\n    <tr>\n      <th>40021</th>\n      <td>1316818</td>\n      <td>Магнерот таблетки 500 мг, 100 шт.</td>\n    </tr>\n  </tbody>\n</table>\n<p>40022 rows × 2 columns</p>\n</div>"
     },
     "metadata": {},
     "execution_count": 12
    }
   ],
   "source": [
    "products = pd.read_json('Data/products.json')\n",
    "products"
   ]
  },
  {
   "cell_type": "code",
   "execution_count": 13,
   "metadata": {},
   "outputs": [
    {
     "output_type": "execute_result",
     "data": {
      "text/plain": [
       "     ID                     CODE                           NAME\n",
       "0   276                 ALSO_BUY  С этим товаром также покупают\n",
       "1   429                  ANALOGS                        Аналоги\n",
       "2   326                 BRAND_ID                          Бренд\n",
       "3   574                BUY_COUNT                 Кол-во покупок\n",
       "4   265                  COUNTRY                         Страна\n",
       "5   284          COURSE_QUANTITY     Количество на курс лечения\n",
       "6   541                   DOSAGE                      Дозировка\n",
       "7   542                DRUG_FORM            Лекарственная форма\n",
       "8   343                 FEATURES                 Характеристики\n",
       "9   428                     FORM                  Форма выпуска\n",
       "10  274                FORM_NAME                 Название формы\n",
       "11  263                IS_RECIPE                     По рецепту\n",
       "12  264             MANUFACTURER                  Производитель\n",
       "13  595             MANUFACTURER                  Производитель\n",
       "14  344          MANUFACTURER_ID               Производитель 1С\n",
       "15  483              NEED_RECIPE               Необходим рецепт\n",
       "16  536               OFFER_TYPE                     Тип товара\n",
       "17  540                  PACKING          Количество в упаковке\n",
       "18  356  PHARMACOLOGICAL_SECTION       Фармакологическая группа\n",
       "19  567               SPECIAL_s1               Акции eapteka.ru\n",
       "20  298                     TYPE                     Тип отзыва\n",
       "21  325                     TYPE                      Тип акции\n",
       "22  332                     TYPE               Тип номенклатуры\n",
       "23  507                     TYPE                     Тип отзыва\n",
       "24  283              VENDOR_CODE                        Артикул"
      ],
      "text/html": "<div>\n<style scoped>\n    .dataframe tbody tr th:only-of-type {\n        vertical-align: middle;\n    }\n\n    .dataframe tbody tr th {\n        vertical-align: top;\n    }\n\n    .dataframe thead th {\n        text-align: right;\n    }\n</style>\n<table border=\"1\" class=\"dataframe\">\n  <thead>\n    <tr style=\"text-align: right;\">\n      <th></th>\n      <th>ID</th>\n      <th>CODE</th>\n      <th>NAME</th>\n    </tr>\n  </thead>\n  <tbody>\n    <tr>\n      <th>0</th>\n      <td>276</td>\n      <td>ALSO_BUY</td>\n      <td>С этим товаром также покупают</td>\n    </tr>\n    <tr>\n      <th>1</th>\n      <td>429</td>\n      <td>ANALOGS</td>\n      <td>Аналоги</td>\n    </tr>\n    <tr>\n      <th>2</th>\n      <td>326</td>\n      <td>BRAND_ID</td>\n      <td>Бренд</td>\n    </tr>\n    <tr>\n      <th>3</th>\n      <td>574</td>\n      <td>BUY_COUNT</td>\n      <td>Кол-во покупок</td>\n    </tr>\n    <tr>\n      <th>4</th>\n      <td>265</td>\n      <td>COUNTRY</td>\n      <td>Страна</td>\n    </tr>\n    <tr>\n      <th>5</th>\n      <td>284</td>\n      <td>COURSE_QUANTITY</td>\n      <td>Количество на курс лечения</td>\n    </tr>\n    <tr>\n      <th>6</th>\n      <td>541</td>\n      <td>DOSAGE</td>\n      <td>Дозировка</td>\n    </tr>\n    <tr>\n      <th>7</th>\n      <td>542</td>\n      <td>DRUG_FORM</td>\n      <td>Лекарственная форма</td>\n    </tr>\n    <tr>\n      <th>8</th>\n      <td>343</td>\n      <td>FEATURES</td>\n      <td>Характеристики</td>\n    </tr>\n    <tr>\n      <th>9</th>\n      <td>428</td>\n      <td>FORM</td>\n      <td>Форма выпуска</td>\n    </tr>\n    <tr>\n      <th>10</th>\n      <td>274</td>\n      <td>FORM_NAME</td>\n      <td>Название формы</td>\n    </tr>\n    <tr>\n      <th>11</th>\n      <td>263</td>\n      <td>IS_RECIPE</td>\n      <td>По рецепту</td>\n    </tr>\n    <tr>\n      <th>12</th>\n      <td>264</td>\n      <td>MANUFACTURER</td>\n      <td>Производитель</td>\n    </tr>\n    <tr>\n      <th>13</th>\n      <td>595</td>\n      <td>MANUFACTURER</td>\n      <td>Производитель</td>\n    </tr>\n    <tr>\n      <th>14</th>\n      <td>344</td>\n      <td>MANUFACTURER_ID</td>\n      <td>Производитель 1С</td>\n    </tr>\n    <tr>\n      <th>15</th>\n      <td>483</td>\n      <td>NEED_RECIPE</td>\n      <td>Необходим рецепт</td>\n    </tr>\n    <tr>\n      <th>16</th>\n      <td>536</td>\n      <td>OFFER_TYPE</td>\n      <td>Тип товара</td>\n    </tr>\n    <tr>\n      <th>17</th>\n      <td>540</td>\n      <td>PACKING</td>\n      <td>Количество в упаковке</td>\n    </tr>\n    <tr>\n      <th>18</th>\n      <td>356</td>\n      <td>PHARMACOLOGICAL_SECTION</td>\n      <td>Фармакологическая группа</td>\n    </tr>\n    <tr>\n      <th>19</th>\n      <td>567</td>\n      <td>SPECIAL_s1</td>\n      <td>Акции eapteka.ru</td>\n    </tr>\n    <tr>\n      <th>20</th>\n      <td>298</td>\n      <td>TYPE</td>\n      <td>Тип отзыва</td>\n    </tr>\n    <tr>\n      <th>21</th>\n      <td>325</td>\n      <td>TYPE</td>\n      <td>Тип акции</td>\n    </tr>\n    <tr>\n      <th>22</th>\n      <td>332</td>\n      <td>TYPE</td>\n      <td>Тип номенклатуры</td>\n    </tr>\n    <tr>\n      <th>23</th>\n      <td>507</td>\n      <td>TYPE</td>\n      <td>Тип отзыва</td>\n    </tr>\n    <tr>\n      <th>24</th>\n      <td>283</td>\n      <td>VENDOR_CODE</td>\n      <td>Артикул</td>\n    </tr>\n  </tbody>\n</table>\n</div>"
     },
     "metadata": {},
     "execution_count": 13
    }
   ],
   "source": [
    "property = pd.read_json('Data/property.json')\n",
    "property"
   ]
  },
  {
   "cell_type": "code",
   "execution_count": 14,
   "metadata": {},
   "outputs": [
    {
     "output_type": "execute_result",
     "data": {
      "text/plain": [
       "       IBLOCK_ELEMENT_ID  IBLOCK_PROPERTY_ID    VALUE  VALUE_ENUM  VALUE_NUM  \\\n",
       "0                 461363                 356     6817         NaN       6817   \n",
       "1                 461363                 356     9528         NaN       9528   \n",
       "2                 461364                 356     6817         NaN       6817   \n",
       "3                 461365                 356     6817         NaN       6817   \n",
       "4                 461366                 356     6817         NaN       6817   \n",
       "...                  ...                 ...      ...         ...        ...   \n",
       "67572            1296503                 276   886694         NaN     886694   \n",
       "67573            1297833                 276   464861         NaN     464861   \n",
       "67574            1297833                 276   515491         NaN     515491   \n",
       "67575            1299717                 276  1033550         NaN    1033550   \n",
       "67576            1308333                 567  1080337         NaN    1080337   \n",
       "\n",
       "      DESCRIPTION  \n",
       "0            None  \n",
       "1            None  \n",
       "2            None  \n",
       "3            None  \n",
       "4            None  \n",
       "...           ...  \n",
       "67572              \n",
       "67573              \n",
       "67574              \n",
       "67575              \n",
       "67576        None  \n",
       "\n",
       "[67577 rows x 6 columns]"
      ],
      "text/html": "<div>\n<style scoped>\n    .dataframe tbody tr th:only-of-type {\n        vertical-align: middle;\n    }\n\n    .dataframe tbody tr th {\n        vertical-align: top;\n    }\n\n    .dataframe thead th {\n        text-align: right;\n    }\n</style>\n<table border=\"1\" class=\"dataframe\">\n  <thead>\n    <tr style=\"text-align: right;\">\n      <th></th>\n      <th>IBLOCK_ELEMENT_ID</th>\n      <th>IBLOCK_PROPERTY_ID</th>\n      <th>VALUE</th>\n      <th>VALUE_ENUM</th>\n      <th>VALUE_NUM</th>\n      <th>DESCRIPTION</th>\n    </tr>\n  </thead>\n  <tbody>\n    <tr>\n      <th>0</th>\n      <td>461363</td>\n      <td>356</td>\n      <td>6817</td>\n      <td>NaN</td>\n      <td>6817</td>\n      <td>None</td>\n    </tr>\n    <tr>\n      <th>1</th>\n      <td>461363</td>\n      <td>356</td>\n      <td>9528</td>\n      <td>NaN</td>\n      <td>9528</td>\n      <td>None</td>\n    </tr>\n    <tr>\n      <th>2</th>\n      <td>461364</td>\n      <td>356</td>\n      <td>6817</td>\n      <td>NaN</td>\n      <td>6817</td>\n      <td>None</td>\n    </tr>\n    <tr>\n      <th>3</th>\n      <td>461365</td>\n      <td>356</td>\n      <td>6817</td>\n      <td>NaN</td>\n      <td>6817</td>\n      <td>None</td>\n    </tr>\n    <tr>\n      <th>4</th>\n      <td>461366</td>\n      <td>356</td>\n      <td>6817</td>\n      <td>NaN</td>\n      <td>6817</td>\n      <td>None</td>\n    </tr>\n    <tr>\n      <th>...</th>\n      <td>...</td>\n      <td>...</td>\n      <td>...</td>\n      <td>...</td>\n      <td>...</td>\n      <td>...</td>\n    </tr>\n    <tr>\n      <th>67572</th>\n      <td>1296503</td>\n      <td>276</td>\n      <td>886694</td>\n      <td>NaN</td>\n      <td>886694</td>\n      <td></td>\n    </tr>\n    <tr>\n      <th>67573</th>\n      <td>1297833</td>\n      <td>276</td>\n      <td>464861</td>\n      <td>NaN</td>\n      <td>464861</td>\n      <td></td>\n    </tr>\n    <tr>\n      <th>67574</th>\n      <td>1297833</td>\n      <td>276</td>\n      <td>515491</td>\n      <td>NaN</td>\n      <td>515491</td>\n      <td></td>\n    </tr>\n    <tr>\n      <th>67575</th>\n      <td>1299717</td>\n      <td>276</td>\n      <td>1033550</td>\n      <td>NaN</td>\n      <td>1033550</td>\n      <td></td>\n    </tr>\n    <tr>\n      <th>67576</th>\n      <td>1308333</td>\n      <td>567</td>\n      <td>1080337</td>\n      <td>NaN</td>\n      <td>1080337</td>\n      <td>None</td>\n    </tr>\n  </tbody>\n</table>\n<p>67577 rows × 6 columns</p>\n</div>"
     },
     "metadata": {},
     "execution_count": 14
    }
   ],
   "source": [
    "propertyM = pd.read_json('Data/propertyMultipleValues.json')\n",
    "propertyM"
   ]
  },
  {
   "cell_type": "code",
   "execution_count": 22,
   "metadata": {},
   "outputs": [
    {
     "output_type": "execute_result",
     "data": {
      "text/plain": [
       "   IBLOCK_ELEMENT_ID                                       PROPERTY_276  \\\n",
       "0             461363  a:3:{s:5:\"VALUE\";a:0:{}s:11:\"DESCRIPTION\";a:0:...   \n",
       "1             461364  a:3:{s:5:\"VALUE\";a:0:{}s:11:\"DESCRIPTION\";a:0:...   \n",
       "2             461365  a:3:{s:5:\"VALUE\";a:0:{}s:11:\"DESCRIPTION\";a:0:...   \n",
       "3             461366  a:3:{s:5:\"VALUE\";a:0:{}s:11:\"DESCRIPTION\";a:0:...   \n",
       "4             461367  a:3:{s:5:\"VALUE\";a:0:{}s:11:\"DESCRIPTION\";a:0:...   \n",
       "\n",
       "                                        PROPERTY_429  \\\n",
       "0  a:3:{s:5:\"VALUE\";a:0:{}s:11:\"DESCRIPTION\";a:0:...   \n",
       "1  a:3:{s:5:\"VALUE\";a:0:{}s:11:\"DESCRIPTION\";a:0:...   \n",
       "2  a:3:{s:5:\"VALUE\";a:0:{}s:11:\"DESCRIPTION\";a:0:...   \n",
       "3  a:3:{s:5:\"VALUE\";a:0:{}s:11:\"DESCRIPTION\";a:0:...   \n",
       "4  a:3:{s:5:\"VALUE\";a:0:{}s:11:\"DESCRIPTION\";a:0:...   \n",
       "\n",
       "                           PROPERTY_326  PROPERTY_574 PROPERTY_265  \\\n",
       "0  23a5c4b5-6f26-4053-b728-cb864a4edcbd            66          США   \n",
       "1  23a5c4b5-6f26-4053-b728-cb864a4edcbd            26          США   \n",
       "2  23a5c4b5-6f26-4053-b728-cb864a4edcbd            20          США   \n",
       "3  23a5c4b5-6f26-4053-b728-cb864a4edcbd            28          США   \n",
       "4  23a5c4b5-6f26-4053-b728-cb864a4edcbd            22          США   \n",
       "\n",
       "   PROPERTY_284 PROPERTY_541 PROPERTY_542 PROPERTY_343  ... PROPERTY_264  \\\n",
       "0           NaN       100 мг     таблетки       100177  ...      Пфайзер   \n",
       "1           NaN        50 мг     таблетки       100178  ...      Пфайзер   \n",
       "2           NaN        25 мг     таблетки       100180  ...      Пфайзер   \n",
       "3           NaN        50 мг     таблетки       100183  ...      Пфайзер   \n",
       "4           NaN        50 мг     таблетки       100184  ...      Пфайзер   \n",
       "\n",
       "  PROPERTY_594                          PROPERTY_344 PROPERTY_483  \\\n",
       "0               a219a283-5674-498e-a828-d11bd7d7c4fc            0   \n",
       "1               a219a283-5674-498e-a828-d11bd7d7c4fc            0   \n",
       "2               a219a283-5674-498e-a828-d11bd7d7c4fc            0   \n",
       "3               a219a283-5674-498e-a828-d11bd7d7c4fc            0   \n",
       "4               a219a283-5674-498e-a828-d11bd7d7c4fc            0   \n",
       "\n",
       "  PROPERTY_536 PROPERTY_540  \\\n",
       "0         drug            2   \n",
       "1         drug            2   \n",
       "2         drug            1   \n",
       "3         drug            1   \n",
       "4         drug            4   \n",
       "\n",
       "                                        PROPERTY_356  \\\n",
       "0  a:3:{s:5:\"VALUE\";a:2:{i:0;s:4:\"6817\";i:1;s:4:\"...   \n",
       "1  a:3:{s:5:\"VALUE\";a:1:{i:0;s:4:\"6817\";}s:11:\"DE...   \n",
       "2  a:3:{s:5:\"VALUE\";a:1:{i:0;s:4:\"6817\";}s:11:\"DE...   \n",
       "3  a:3:{s:5:\"VALUE\";a:1:{i:0;s:4:\"6817\";}s:11:\"DE...   \n",
       "4  a:3:{s:5:\"VALUE\";a:2:{i:0;s:4:\"6817\";i:1;s:4:\"...   \n",
       "\n",
       "                                        PROPERTY_567 PROPERTY_332 PROPERTY_283  \n",
       "0  a:3:{s:5:\"VALUE\";a:0:{}s:11:\"DESCRIPTION\";a:0:...           RX               \n",
       "1  a:3:{s:5:\"VALUE\";a:0:{}s:11:\"DESCRIPTION\";a:0:...           RX               \n",
       "2  a:3:{s:5:\"VALUE\";a:0:{}s:11:\"DESCRIPTION\";a:0:...           RX               \n",
       "3  a:3:{s:5:\"VALUE\";a:0:{}s:11:\"DESCRIPTION\";a:0:...           RX               \n",
       "4  a:3:{s:5:\"VALUE\";a:0:{}s:11:\"DESCRIPTION\";a:0:...           RX               \n",
       "\n",
       "[5 rows x 23 columns]"
      ],
      "text/html": "<div>\n<style scoped>\n    .dataframe tbody tr th:only-of-type {\n        vertical-align: middle;\n    }\n\n    .dataframe tbody tr th {\n        vertical-align: top;\n    }\n\n    .dataframe thead th {\n        text-align: right;\n    }\n</style>\n<table border=\"1\" class=\"dataframe\">\n  <thead>\n    <tr style=\"text-align: right;\">\n      <th></th>\n      <th>IBLOCK_ELEMENT_ID</th>\n      <th>PROPERTY_276</th>\n      <th>PROPERTY_429</th>\n      <th>PROPERTY_326</th>\n      <th>PROPERTY_574</th>\n      <th>PROPERTY_265</th>\n      <th>PROPERTY_284</th>\n      <th>PROPERTY_541</th>\n      <th>PROPERTY_542</th>\n      <th>PROPERTY_343</th>\n      <th>...</th>\n      <th>PROPERTY_264</th>\n      <th>PROPERTY_594</th>\n      <th>PROPERTY_344</th>\n      <th>PROPERTY_483</th>\n      <th>PROPERTY_536</th>\n      <th>PROPERTY_540</th>\n      <th>PROPERTY_356</th>\n      <th>PROPERTY_567</th>\n      <th>PROPERTY_332</th>\n      <th>PROPERTY_283</th>\n    </tr>\n  </thead>\n  <tbody>\n    <tr>\n      <th>0</th>\n      <td>461363</td>\n      <td>a:3:{s:5:\"VALUE\";a:0:{}s:11:\"DESCRIPTION\";a:0:...</td>\n      <td>a:3:{s:5:\"VALUE\";a:0:{}s:11:\"DESCRIPTION\";a:0:...</td>\n      <td>23a5c4b5-6f26-4053-b728-cb864a4edcbd</td>\n      <td>66</td>\n      <td>США</td>\n      <td>NaN</td>\n      <td>100 мг</td>\n      <td>таблетки</td>\n      <td>100177</td>\n      <td>...</td>\n      <td>Пфайзер</td>\n      <td></td>\n      <td>a219a283-5674-498e-a828-d11bd7d7c4fc</td>\n      <td>0</td>\n      <td>drug</td>\n      <td>2</td>\n      <td>a:3:{s:5:\"VALUE\";a:2:{i:0;s:4:\"6817\";i:1;s:4:\"...</td>\n      <td>a:3:{s:5:\"VALUE\";a:0:{}s:11:\"DESCRIPTION\";a:0:...</td>\n      <td>RX</td>\n      <td></td>\n    </tr>\n    <tr>\n      <th>1</th>\n      <td>461364</td>\n      <td>a:3:{s:5:\"VALUE\";a:0:{}s:11:\"DESCRIPTION\";a:0:...</td>\n      <td>a:3:{s:5:\"VALUE\";a:0:{}s:11:\"DESCRIPTION\";a:0:...</td>\n      <td>23a5c4b5-6f26-4053-b728-cb864a4edcbd</td>\n      <td>26</td>\n      <td>США</td>\n      <td>NaN</td>\n      <td>50 мг</td>\n      <td>таблетки</td>\n      <td>100178</td>\n      <td>...</td>\n      <td>Пфайзер</td>\n      <td></td>\n      <td>a219a283-5674-498e-a828-d11bd7d7c4fc</td>\n      <td>0</td>\n      <td>drug</td>\n      <td>2</td>\n      <td>a:3:{s:5:\"VALUE\";a:1:{i:0;s:4:\"6817\";}s:11:\"DE...</td>\n      <td>a:3:{s:5:\"VALUE\";a:0:{}s:11:\"DESCRIPTION\";a:0:...</td>\n      <td>RX</td>\n      <td></td>\n    </tr>\n    <tr>\n      <th>2</th>\n      <td>461365</td>\n      <td>a:3:{s:5:\"VALUE\";a:0:{}s:11:\"DESCRIPTION\";a:0:...</td>\n      <td>a:3:{s:5:\"VALUE\";a:0:{}s:11:\"DESCRIPTION\";a:0:...</td>\n      <td>23a5c4b5-6f26-4053-b728-cb864a4edcbd</td>\n      <td>20</td>\n      <td>США</td>\n      <td>NaN</td>\n      <td>25 мг</td>\n      <td>таблетки</td>\n      <td>100180</td>\n      <td>...</td>\n      <td>Пфайзер</td>\n      <td></td>\n      <td>a219a283-5674-498e-a828-d11bd7d7c4fc</td>\n      <td>0</td>\n      <td>drug</td>\n      <td>1</td>\n      <td>a:3:{s:5:\"VALUE\";a:1:{i:0;s:4:\"6817\";}s:11:\"DE...</td>\n      <td>a:3:{s:5:\"VALUE\";a:0:{}s:11:\"DESCRIPTION\";a:0:...</td>\n      <td>RX</td>\n      <td></td>\n    </tr>\n    <tr>\n      <th>3</th>\n      <td>461366</td>\n      <td>a:3:{s:5:\"VALUE\";a:0:{}s:11:\"DESCRIPTION\";a:0:...</td>\n      <td>a:3:{s:5:\"VALUE\";a:0:{}s:11:\"DESCRIPTION\";a:0:...</td>\n      <td>23a5c4b5-6f26-4053-b728-cb864a4edcbd</td>\n      <td>28</td>\n      <td>США</td>\n      <td>NaN</td>\n      <td>50 мг</td>\n      <td>таблетки</td>\n      <td>100183</td>\n      <td>...</td>\n      <td>Пфайзер</td>\n      <td></td>\n      <td>a219a283-5674-498e-a828-d11bd7d7c4fc</td>\n      <td>0</td>\n      <td>drug</td>\n      <td>1</td>\n      <td>a:3:{s:5:\"VALUE\";a:1:{i:0;s:4:\"6817\";}s:11:\"DE...</td>\n      <td>a:3:{s:5:\"VALUE\";a:0:{}s:11:\"DESCRIPTION\";a:0:...</td>\n      <td>RX</td>\n      <td></td>\n    </tr>\n    <tr>\n      <th>4</th>\n      <td>461367</td>\n      <td>a:3:{s:5:\"VALUE\";a:0:{}s:11:\"DESCRIPTION\";a:0:...</td>\n      <td>a:3:{s:5:\"VALUE\";a:0:{}s:11:\"DESCRIPTION\";a:0:...</td>\n      <td>23a5c4b5-6f26-4053-b728-cb864a4edcbd</td>\n      <td>22</td>\n      <td>США</td>\n      <td>NaN</td>\n      <td>50 мг</td>\n      <td>таблетки</td>\n      <td>100184</td>\n      <td>...</td>\n      <td>Пфайзер</td>\n      <td></td>\n      <td>a219a283-5674-498e-a828-d11bd7d7c4fc</td>\n      <td>0</td>\n      <td>drug</td>\n      <td>4</td>\n      <td>a:3:{s:5:\"VALUE\";a:2:{i:0;s:4:\"6817\";i:1;s:4:\"...</td>\n      <td>a:3:{s:5:\"VALUE\";a:0:{}s:11:\"DESCRIPTION\";a:0:...</td>\n      <td>RX</td>\n      <td></td>\n    </tr>\n  </tbody>\n</table>\n<p>5 rows × 23 columns</p>\n</div>"
     },
     "metadata": {},
     "execution_count": 22
    }
   ],
   "source": [
    "propertyV = pd.read_json('Data/propertyValues.json')\n",
    "propertyV.head()"
   ]
  },
  {
   "cell_type": "code",
   "execution_count": 19,
   "metadata": {},
   "outputs": [
    {
     "output_type": "execute_result",
     "data": {
      "text/plain": [
       "'a:3:{s:5:\"VALUE\";a:0:{}s:11:\"DESCRIPTION\";a:0:{}s:2:\"ID\";a:0:{}}'"
      ]
     },
     "metadata": {},
     "execution_count": 19
    }
   ],
   "source": [
    "propertyV.PROPERTY_276"
   ]
  },
  {
   "cell_type": "code",
   "execution_count": null,
   "metadata": {},
   "outputs": [],
   "source": []
  }
 ]
}