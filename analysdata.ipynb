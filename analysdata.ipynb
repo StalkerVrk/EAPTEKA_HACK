{
 "metadata": {
  "language_info": {
   "codemirror_mode": {
    "name": "ipython",
    "version": 3
   },
   "file_extension": ".py",
   "mimetype": "text/x-python",
   "name": "python",
   "nbconvert_exporter": "python",
   "pygments_lexer": "ipython3",
   "version": "3.8.0"
  },
  "orig_nbformat": 2,
  "kernelspec": {
   "name": "python380jvsc74a57bd0b977b1c54e1ae8995c85ab62d32bcef0fe2b3afde370ca3cc67a760e8e35de10",
   "display_name": "Python 3.8.0 64-bit ('python38')"
  },
  "metadata": {
   "interpreter": {
    "hash": "b977b1c54e1ae8995c85ab62d32bcef0fe2b3afde370ca3cc67a760e8e35de10"
   }
  }
 },
 "nbformat": 4,
 "nbformat_minor": 2,
 "cells": [
  {
   "cell_type": "code",
   "execution_count": 1,
   "metadata": {},
   "outputs": [],
   "source": [
    "import pandas as pd\n",
    "import numpy as np\n",
    "import json\n",
    "import matplotlib.pyplot as plt\n",
    "\n",
    "def get_data_json(dir):\n",
    "    with open(dir, encoding='utf-8') as f:\n",
    "        data = json.load(f)\n",
    "    return data\n",
    "\n",
    "dr = 'D:\\__PROJECTS___/Data/'"
   ]
  },
  {
   "cell_type": "code",
   "execution_count": 4,
   "metadata": {},
   "outputs": [],
   "source": [
    "df = pd.read_json('productToMNN.json')\n",
    "\n",
    "\n",
    "products = pd.DataFrame(get_data_json(dr+'products.json'))\n",
    "property = pd.DataFrame(get_data_json(dr+'property.json'))\n",
    "propertyM = pd.DataFrame(get_data_json(dr+'propertyMultipleValues.json'))\n",
    "propertyV = pd.DataFrame(get_data_json(dr+'propertyValues.json'))"
   ]
  },
  {
   "source": [
    "# Файл для преобразования активного вещества в id для отправки на сервер"
   ],
   "cell_type": "markdown",
   "metadata": {}
  },
  {
   "cell_type": "code",
   "execution_count": null,
   "metadata": {},
   "outputs": [],
   "source": [
    "df[[\"MNN_ID\", \"MNN_NAME\", \"MNN_CODE\"]].drop_duplicates().to_csv('ID2Prod.txt') "
   ]
  },
  {
   "source": [
    "# Формирование JSON для бд на сервер"
   ],
   "cell_type": "markdown",
   "metadata": {}
  },
  {
   "cell_type": "code",
   "execution_count": 5,
   "metadata": {},
   "outputs": [
    {
     "output_type": "execute_result",
     "data": {
      "text/plain": [
       "       MNN_ID  PRODUCT_ID                    MNN_NAME  \\\n",
       "0          53    461363.0                  Силденафил   \n",
       "1          53    461364.0                  Силденафил   \n",
       "2          53    461365.0                  Силденафил   \n",
       "3          53    461366.0                  Силденафил   \n",
       "4          53    461367.0                  Силденафил   \n",
       "...       ...         ...                         ...   \n",
       "17225    1662    494983.0  Дифенгидрамин, Парацетамол   \n",
       "17227      93    494984.0                 Ганцикловир   \n",
       "17228     231    963082.0                  Метоксален   \n",
       "17229     746    494985.0                   Мелатонин   \n",
       "17230     746    494986.0                   Мелатонин   \n",
       "\n",
       "                         MNN_CODE  \n",
       "0                      sildenafil  \n",
       "1                      sildenafil  \n",
       "2                      sildenafil  \n",
       "3                      sildenafil  \n",
       "4                      sildenafil  \n",
       "...                           ...  \n",
       "17225  difengidramin_paratsetamol  \n",
       "17227                gantsiklovir  \n",
       "17228                  metoksalen  \n",
       "17229                   melatonin  \n",
       "17230                   melatonin  \n",
       "\n",
       "[15537 rows x 4 columns]"
      ],
      "text/html": "<div>\n<style scoped>\n    .dataframe tbody tr th:only-of-type {\n        vertical-align: middle;\n    }\n\n    .dataframe tbody tr th {\n        vertical-align: top;\n    }\n\n    .dataframe thead th {\n        text-align: right;\n    }\n</style>\n<table border=\"1\" class=\"dataframe\">\n  <thead>\n    <tr style=\"text-align: right;\">\n      <th></th>\n      <th>MNN_ID</th>\n      <th>PRODUCT_ID</th>\n      <th>MNN_NAME</th>\n      <th>MNN_CODE</th>\n    </tr>\n  </thead>\n  <tbody>\n    <tr>\n      <th>0</th>\n      <td>53</td>\n      <td>461363.0</td>\n      <td>Силденафил</td>\n      <td>sildenafil</td>\n    </tr>\n    <tr>\n      <th>1</th>\n      <td>53</td>\n      <td>461364.0</td>\n      <td>Силденафил</td>\n      <td>sildenafil</td>\n    </tr>\n    <tr>\n      <th>2</th>\n      <td>53</td>\n      <td>461365.0</td>\n      <td>Силденафил</td>\n      <td>sildenafil</td>\n    </tr>\n    <tr>\n      <th>3</th>\n      <td>53</td>\n      <td>461366.0</td>\n      <td>Силденафил</td>\n      <td>sildenafil</td>\n    </tr>\n    <tr>\n      <th>4</th>\n      <td>53</td>\n      <td>461367.0</td>\n      <td>Силденафил</td>\n      <td>sildenafil</td>\n    </tr>\n    <tr>\n      <th>...</th>\n      <td>...</td>\n      <td>...</td>\n      <td>...</td>\n      <td>...</td>\n    </tr>\n    <tr>\n      <th>17225</th>\n      <td>1662</td>\n      <td>494983.0</td>\n      <td>Дифенгидрамин, Парацетамол</td>\n      <td>difengidramin_paratsetamol</td>\n    </tr>\n    <tr>\n      <th>17227</th>\n      <td>93</td>\n      <td>494984.0</td>\n      <td>Ганцикловир</td>\n      <td>gantsiklovir</td>\n    </tr>\n    <tr>\n      <th>17228</th>\n      <td>231</td>\n      <td>963082.0</td>\n      <td>Метоксален</td>\n      <td>metoksalen</td>\n    </tr>\n    <tr>\n      <th>17229</th>\n      <td>746</td>\n      <td>494985.0</td>\n      <td>Мелатонин</td>\n      <td>melatonin</td>\n    </tr>\n    <tr>\n      <th>17230</th>\n      <td>746</td>\n      <td>494986.0</td>\n      <td>Мелатонин</td>\n      <td>melatonin</td>\n    </tr>\n  </tbody>\n</table>\n<p>15537 rows × 4 columns</p>\n</div>"
     },
     "metadata": {},
     "execution_count": 5
    }
   ],
   "source": [
    "df.dropna()"
   ]
  },
  {
   "cell_type": "code",
   "execution_count": 100,
   "metadata": {},
   "outputs": [
    {
     "output_type": "execute_result",
     "data": {
      "text/plain": [
       "            ID                                               NAME\n",
       "0       461363                     Виагра, таблетки 100 мг, 2 шт.\n",
       "1       461364                      Виагра, таблетки 50 мг, 2 шт.\n",
       "2       461365                      Виагра, таблетки 25 мг, 1 шт.\n",
       "3       461366                      Виагра, таблетки 50 мг, 1 шт.\n",
       "4       461367                      Виагра, таблетки 50 мг, 4 шт.\n",
       "...        ...                                                ...\n",
       "40017  1311472  Medhelp Лейкопластырь фиксирующий на шелковой ...\n",
       "40018  1311513        Топинамбур Премиум сироп без сахара, 250 мл\n",
       "40019  1311514  Maneki Диски ватные двусторонние косметические...\n",
       "40020  1311515  Vichy Purete Thermale набор Тоник 200 мл+Гель ...\n",
       "40021  1316818                  Магнерот таблетки 500 мг, 100 шт.\n",
       "\n",
       "[40022 rows x 2 columns]"
      ],
      "text/html": "<div>\n<style scoped>\n    .dataframe tbody tr th:only-of-type {\n        vertical-align: middle;\n    }\n\n    .dataframe tbody tr th {\n        vertical-align: top;\n    }\n\n    .dataframe thead th {\n        text-align: right;\n    }\n</style>\n<table border=\"1\" class=\"dataframe\">\n  <thead>\n    <tr style=\"text-align: right;\">\n      <th></th>\n      <th>ID</th>\n      <th>NAME</th>\n    </tr>\n  </thead>\n  <tbody>\n    <tr>\n      <th>0</th>\n      <td>461363</td>\n      <td>Виагра, таблетки 100 мг, 2 шт.</td>\n    </tr>\n    <tr>\n      <th>1</th>\n      <td>461364</td>\n      <td>Виагра, таблетки 50 мг, 2 шт.</td>\n    </tr>\n    <tr>\n      <th>2</th>\n      <td>461365</td>\n      <td>Виагра, таблетки 25 мг, 1 шт.</td>\n    </tr>\n    <tr>\n      <th>3</th>\n      <td>461366</td>\n      <td>Виагра, таблетки 50 мг, 1 шт.</td>\n    </tr>\n    <tr>\n      <th>4</th>\n      <td>461367</td>\n      <td>Виагра, таблетки 50 мг, 4 шт.</td>\n    </tr>\n    <tr>\n      <th>...</th>\n      <td>...</td>\n      <td>...</td>\n    </tr>\n    <tr>\n      <th>40017</th>\n      <td>1311472</td>\n      <td>Medhelp Лейкопластырь фиксирующий на шелковой ...</td>\n    </tr>\n    <tr>\n      <th>40018</th>\n      <td>1311513</td>\n      <td>Топинамбур Премиум сироп без сахара, 250 мл</td>\n    </tr>\n    <tr>\n      <th>40019</th>\n      <td>1311514</td>\n      <td>Maneki Диски ватные двусторонние косметические...</td>\n    </tr>\n    <tr>\n      <th>40020</th>\n      <td>1311515</td>\n      <td>Vichy Purete Thermale набор Тоник 200 мл+Гель ...</td>\n    </tr>\n    <tr>\n      <th>40021</th>\n      <td>1316818</td>\n      <td>Магнерот таблетки 500 мг, 100 шт.</td>\n    </tr>\n  </tbody>\n</table>\n<p>40022 rows × 2 columns</p>\n</div>"
     },
     "metadata": {},
     "execution_count": 100
    }
   ],
   "source": [
    "products"
   ]
  },
  {
   "cell_type": "code",
   "execution_count": 104,
   "metadata": {},
   "outputs": [
    {
     "output_type": "execute_result",
     "data": {
      "text/plain": [
       "       IBLOCK_ELEMENT_ID IBLOCK_PROPERTY_ID    VALUE VALUE_ENUM  VALUE_NUM  \\\n",
       "0                 461363                356     6817       None     6817.0   \n",
       "1                 461363                356     9528       None     9528.0   \n",
       "2                 461364                356     6817       None     6817.0   \n",
       "3                 461365                356     6817       None     6817.0   \n",
       "4                 461366                356     6817       None     6817.0   \n",
       "...                  ...                ...      ...        ...        ...   \n",
       "67572            1296503                276   886694       None   886694.0   \n",
       "67573            1297833                276   464861       None   464861.0   \n",
       "67574            1297833                276   515491       None   515491.0   \n",
       "67575            1299717                276  1033550       None  1033550.0   \n",
       "67576            1308333                567  1080337       None  1080337.0   \n",
       "\n",
       "      DESCRIPTION  \n",
       "0            None  \n",
       "1            None  \n",
       "2            None  \n",
       "3            None  \n",
       "4            None  \n",
       "...           ...  \n",
       "67572              \n",
       "67573              \n",
       "67574              \n",
       "67575              \n",
       "67576        None  \n",
       "\n",
       "[67577 rows x 6 columns]"
      ],
      "text/html": "<div>\n<style scoped>\n    .dataframe tbody tr th:only-of-type {\n        vertical-align: middle;\n    }\n\n    .dataframe tbody tr th {\n        vertical-align: top;\n    }\n\n    .dataframe thead th {\n        text-align: right;\n    }\n</style>\n<table border=\"1\" class=\"dataframe\">\n  <thead>\n    <tr style=\"text-align: right;\">\n      <th></th>\n      <th>IBLOCK_ELEMENT_ID</th>\n      <th>IBLOCK_PROPERTY_ID</th>\n      <th>VALUE</th>\n      <th>VALUE_ENUM</th>\n      <th>VALUE_NUM</th>\n      <th>DESCRIPTION</th>\n    </tr>\n  </thead>\n  <tbody>\n    <tr>\n      <th>0</th>\n      <td>461363</td>\n      <td>356</td>\n      <td>6817</td>\n      <td>None</td>\n      <td>6817.0</td>\n      <td>None</td>\n    </tr>\n    <tr>\n      <th>1</th>\n      <td>461363</td>\n      <td>356</td>\n      <td>9528</td>\n      <td>None</td>\n      <td>9528.0</td>\n      <td>None</td>\n    </tr>\n    <tr>\n      <th>2</th>\n      <td>461364</td>\n      <td>356</td>\n      <td>6817</td>\n      <td>None</td>\n      <td>6817.0</td>\n      <td>None</td>\n    </tr>\n    <tr>\n      <th>3</th>\n      <td>461365</td>\n      <td>356</td>\n      <td>6817</td>\n      <td>None</td>\n      <td>6817.0</td>\n      <td>None</td>\n    </tr>\n    <tr>\n      <th>4</th>\n      <td>461366</td>\n      <td>356</td>\n      <td>6817</td>\n      <td>None</td>\n      <td>6817.0</td>\n      <td>None</td>\n    </tr>\n    <tr>\n      <th>...</th>\n      <td>...</td>\n      <td>...</td>\n      <td>...</td>\n      <td>...</td>\n      <td>...</td>\n      <td>...</td>\n    </tr>\n    <tr>\n      <th>67572</th>\n      <td>1296503</td>\n      <td>276</td>\n      <td>886694</td>\n      <td>None</td>\n      <td>886694.0</td>\n      <td></td>\n    </tr>\n    <tr>\n      <th>67573</th>\n      <td>1297833</td>\n      <td>276</td>\n      <td>464861</td>\n      <td>None</td>\n      <td>464861.0</td>\n      <td></td>\n    </tr>\n    <tr>\n      <th>67574</th>\n      <td>1297833</td>\n      <td>276</td>\n      <td>515491</td>\n      <td>None</td>\n      <td>515491.0</td>\n      <td></td>\n    </tr>\n    <tr>\n      <th>67575</th>\n      <td>1299717</td>\n      <td>276</td>\n      <td>1033550</td>\n      <td>None</td>\n      <td>1033550.0</td>\n      <td></td>\n    </tr>\n    <tr>\n      <th>67576</th>\n      <td>1308333</td>\n      <td>567</td>\n      <td>1080337</td>\n      <td>None</td>\n      <td>1080337.0</td>\n      <td>None</td>\n    </tr>\n  </tbody>\n</table>\n<p>67577 rows × 6 columns</p>\n</div>"
     },
     "metadata": {},
     "execution_count": 104
    }
   ],
   "source": [
    "propertyM"
   ]
  },
  {
   "cell_type": "code",
   "execution_count": 145,
   "metadata": {},
   "outputs": [
    {
     "output_type": "execute_result",
     "data": {
      "text/plain": [
       "       ID_PRODUCT                                           ALSO_BUY  \\\n",
       "0          461363  a:3:{s:5:\"VALUE\";a:0:{}s:11:\"DESCRIPTION\";a:0:...   \n",
       "1          461364  a:3:{s:5:\"VALUE\";a:0:{}s:11:\"DESCRIPTION\";a:0:...   \n",
       "2          461365  a:3:{s:5:\"VALUE\";a:0:{}s:11:\"DESCRIPTION\";a:0:...   \n",
       "3          461366  a:3:{s:5:\"VALUE\";a:0:{}s:11:\"DESCRIPTION\";a:0:...   \n",
       "4          461367  a:3:{s:5:\"VALUE\";a:0:{}s:11:\"DESCRIPTION\";a:0:...   \n",
       "...           ...                                                ...   \n",
       "40017     1311472                                               None   \n",
       "40018     1311513                                               None   \n",
       "40019     1311514                                               None   \n",
       "40020     1311515                                               None   \n",
       "40021     1316818                                               None   \n",
       "\n",
       "                                                 ANALOGS  \\\n",
       "0      a:3:{s:5:\"VALUE\";a:0:{}s:11:\"DESCRIPTION\";a:0:...   \n",
       "1      a:3:{s:5:\"VALUE\";a:0:{}s:11:\"DESCRIPTION\";a:0:...   \n",
       "2      a:3:{s:5:\"VALUE\";a:0:{}s:11:\"DESCRIPTION\";a:0:...   \n",
       "3      a:3:{s:5:\"VALUE\";a:0:{}s:11:\"DESCRIPTION\";a:0:...   \n",
       "4      a:3:{s:5:\"VALUE\";a:0:{}s:11:\"DESCRIPTION\";a:0:...   \n",
       "...                                                  ...   \n",
       "40017                                               None   \n",
       "40018                                               None   \n",
       "40019                                               None   \n",
       "40020                                               None   \n",
       "40021                                               None   \n",
       "\n",
       "                                   BRAND_ID BUY_COUNT COUNTRY  \\\n",
       "0      23a5c4b5-6f26-4053-b728-cb864a4edcbd        66     США   \n",
       "1      23a5c4b5-6f26-4053-b728-cb864a4edcbd        26     США   \n",
       "2      23a5c4b5-6f26-4053-b728-cb864a4edcbd        20     США   \n",
       "3      23a5c4b5-6f26-4053-b728-cb864a4edcbd        28     США   \n",
       "4      23a5c4b5-6f26-4053-b728-cb864a4edcbd        22     США   \n",
       "...                                     ...       ...     ...   \n",
       "40017  9aca1a48-6306-b673-9141-c7c6dcedd585         7    None   \n",
       "40018                                               1    None   \n",
       "40019  ebadd128-2438-4f50-8609-2a74188b1393         2    None   \n",
       "40020  26baf9da-8f8e-49fb-97cb-c0b1ed6ae21d         6    None   \n",
       "40021  14bada28-24b5-4447-8288-b7a5b53068b7        23    None   \n",
       "\n",
       "       COURSE_QUANTITY  DOSAGE DRUG_FORM FEATURES  ... MANUFACTURER  \\\n",
       "0                  NaN  100 мг  таблетки   100177  ...      Пфайзер   \n",
       "1                  NaN   50 мг  таблетки   100178  ...      Пфайзер   \n",
       "2                  NaN   25 мг  таблетки   100180  ...      Пфайзер   \n",
       "3                  NaN   50 мг  таблетки   100183  ...      Пфайзер   \n",
       "4                  NaN   50 мг  таблетки   100184  ...      Пфайзер   \n",
       "...                ...     ...       ...      ...  ...          ...   \n",
       "40017              NaN                             ...         None   \n",
       "40018              NaN                     490492  ...         None   \n",
       "40019              NaN                             ...         None   \n",
       "40020              NaN                             ...         None   \n",
       "40021              NaN  500 мг  таблетки   204079  ...         None   \n",
       "\n",
       "      MANUFACTURER                       MANUFACTURER_ID NEED_RECIPE  \\\n",
       "0                   a219a283-5674-498e-a828-d11bd7d7c4fc         0.0   \n",
       "1                   a219a283-5674-498e-a828-d11bd7d7c4fc         0.0   \n",
       "2                   a219a283-5674-498e-a828-d11bd7d7c4fc         0.0   \n",
       "3                   a219a283-5674-498e-a828-d11bd7d7c4fc         0.0   \n",
       "4                   a219a283-5674-498e-a828-d11bd7d7c4fc         0.0   \n",
       "...            ...                                   ...         ...   \n",
       "40017               a0cf8fbc-e423-ab7b-e017-add4c7777ead         0.0   \n",
       "40018               64bad913-7136-939b-64ec-ea9f7093651c         0.0   \n",
       "40019               7321bc80-f24a-4ee1-8ae8-d51e9cca9df6         0.0   \n",
       "40020               7c54231b-5026-466e-a1d5-1deecdb0443d         0.0   \n",
       "40021               60be33c3-9a02-1ac1-3025-fb48d54eb114         0.0   \n",
       "\n",
       "      OFFER_TYPE PACKING                            PHARMACOLOGICAL_SECTION  \\\n",
       "0           drug       2  a:3:{s:5:\"VALUE\";a:2:{i:0;s:4:\"6817\";i:1;s:4:\"...   \n",
       "1           drug       2  a:3:{s:5:\"VALUE\";a:1:{i:0;s:4:\"6817\";}s:11:\"DE...   \n",
       "2           drug       1  a:3:{s:5:\"VALUE\";a:1:{i:0;s:4:\"6817\";}s:11:\"DE...   \n",
       "3           drug       1  a:3:{s:5:\"VALUE\";a:1:{i:0;s:4:\"6817\";}s:11:\"DE...   \n",
       "4           drug       4  a:3:{s:5:\"VALUE\";a:2:{i:0;s:4:\"6817\";i:1;s:4:\"...   \n",
       "...          ...     ...                                                ...   \n",
       "40017       None                                                       None   \n",
       "40018       None  250 мл                                               None   \n",
       "40019       None                                                       None   \n",
       "40020       None                                                       None   \n",
       "40021       None     100                                               None   \n",
       "\n",
       "                                              SPECIAL_s1 TYPE VENDOR_CODE  \n",
       "0      a:3:{s:5:\"VALUE\";a:0:{}s:11:\"DESCRIPTION\";a:0:...   RX              \n",
       "1      a:3:{s:5:\"VALUE\";a:0:{}s:11:\"DESCRIPTION\";a:0:...   RX              \n",
       "2      a:3:{s:5:\"VALUE\";a:0:{}s:11:\"DESCRIPTION\";a:0:...   RX              \n",
       "3      a:3:{s:5:\"VALUE\";a:0:{}s:11:\"DESCRIPTION\";a:0:...   RX              \n",
       "4      a:3:{s:5:\"VALUE\";a:0:{}s:11:\"DESCRIPTION\";a:0:...   RX              \n",
       "...                                                  ...  ...         ...  \n",
       "40017                                               None   ПФ        None  \n",
       "40018                                               None   ПФ        None  \n",
       "40019                                               None   ПФ        None  \n",
       "40020                                               None   ПФ        None  \n",
       "40021                                               None  ОТС        None  \n",
       "\n",
       "[40022 rows x 23 columns]"
      ],
      "text/html": "<div>\n<style scoped>\n    .dataframe tbody tr th:only-of-type {\n        vertical-align: middle;\n    }\n\n    .dataframe tbody tr th {\n        vertical-align: top;\n    }\n\n    .dataframe thead th {\n        text-align: right;\n    }\n</style>\n<table border=\"1\" class=\"dataframe\">\n  <thead>\n    <tr style=\"text-align: right;\">\n      <th></th>\n      <th>ID_PRODUCT</th>\n      <th>ALSO_BUY</th>\n      <th>ANALOGS</th>\n      <th>BRAND_ID</th>\n      <th>BUY_COUNT</th>\n      <th>COUNTRY</th>\n      <th>COURSE_QUANTITY</th>\n      <th>DOSAGE</th>\n      <th>DRUG_FORM</th>\n      <th>FEATURES</th>\n      <th>...</th>\n      <th>MANUFACTURER</th>\n      <th>MANUFACTURER</th>\n      <th>MANUFACTURER_ID</th>\n      <th>NEED_RECIPE</th>\n      <th>OFFER_TYPE</th>\n      <th>PACKING</th>\n      <th>PHARMACOLOGICAL_SECTION</th>\n      <th>SPECIAL_s1</th>\n      <th>TYPE</th>\n      <th>VENDOR_CODE</th>\n    </tr>\n  </thead>\n  <tbody>\n    <tr>\n      <th>0</th>\n      <td>461363</td>\n      <td>a:3:{s:5:\"VALUE\";a:0:{}s:11:\"DESCRIPTION\";a:0:...</td>\n      <td>a:3:{s:5:\"VALUE\";a:0:{}s:11:\"DESCRIPTION\";a:0:...</td>\n      <td>23a5c4b5-6f26-4053-b728-cb864a4edcbd</td>\n      <td>66</td>\n      <td>США</td>\n      <td>NaN</td>\n      <td>100 мг</td>\n      <td>таблетки</td>\n      <td>100177</td>\n      <td>...</td>\n      <td>Пфайзер</td>\n      <td></td>\n      <td>a219a283-5674-498e-a828-d11bd7d7c4fc</td>\n      <td>0.0</td>\n      <td>drug</td>\n      <td>2</td>\n      <td>a:3:{s:5:\"VALUE\";a:2:{i:0;s:4:\"6817\";i:1;s:4:\"...</td>\n      <td>a:3:{s:5:\"VALUE\";a:0:{}s:11:\"DESCRIPTION\";a:0:...</td>\n      <td>RX</td>\n      <td></td>\n    </tr>\n    <tr>\n      <th>1</th>\n      <td>461364</td>\n      <td>a:3:{s:5:\"VALUE\";a:0:{}s:11:\"DESCRIPTION\";a:0:...</td>\n      <td>a:3:{s:5:\"VALUE\";a:0:{}s:11:\"DESCRIPTION\";a:0:...</td>\n      <td>23a5c4b5-6f26-4053-b728-cb864a4edcbd</td>\n      <td>26</td>\n      <td>США</td>\n      <td>NaN</td>\n      <td>50 мг</td>\n      <td>таблетки</td>\n      <td>100178</td>\n      <td>...</td>\n      <td>Пфайзер</td>\n      <td></td>\n      <td>a219a283-5674-498e-a828-d11bd7d7c4fc</td>\n      <td>0.0</td>\n      <td>drug</td>\n      <td>2</td>\n      <td>a:3:{s:5:\"VALUE\";a:1:{i:0;s:4:\"6817\";}s:11:\"DE...</td>\n      <td>a:3:{s:5:\"VALUE\";a:0:{}s:11:\"DESCRIPTION\";a:0:...</td>\n      <td>RX</td>\n      <td></td>\n    </tr>\n    <tr>\n      <th>2</th>\n      <td>461365</td>\n      <td>a:3:{s:5:\"VALUE\";a:0:{}s:11:\"DESCRIPTION\";a:0:...</td>\n      <td>a:3:{s:5:\"VALUE\";a:0:{}s:11:\"DESCRIPTION\";a:0:...</td>\n      <td>23a5c4b5-6f26-4053-b728-cb864a4edcbd</td>\n      <td>20</td>\n      <td>США</td>\n      <td>NaN</td>\n      <td>25 мг</td>\n      <td>таблетки</td>\n      <td>100180</td>\n      <td>...</td>\n      <td>Пфайзер</td>\n      <td></td>\n      <td>a219a283-5674-498e-a828-d11bd7d7c4fc</td>\n      <td>0.0</td>\n      <td>drug</td>\n      <td>1</td>\n      <td>a:3:{s:5:\"VALUE\";a:1:{i:0;s:4:\"6817\";}s:11:\"DE...</td>\n      <td>a:3:{s:5:\"VALUE\";a:0:{}s:11:\"DESCRIPTION\";a:0:...</td>\n      <td>RX</td>\n      <td></td>\n    </tr>\n    <tr>\n      <th>3</th>\n      <td>461366</td>\n      <td>a:3:{s:5:\"VALUE\";a:0:{}s:11:\"DESCRIPTION\";a:0:...</td>\n      <td>a:3:{s:5:\"VALUE\";a:0:{}s:11:\"DESCRIPTION\";a:0:...</td>\n      <td>23a5c4b5-6f26-4053-b728-cb864a4edcbd</td>\n      <td>28</td>\n      <td>США</td>\n      <td>NaN</td>\n      <td>50 мг</td>\n      <td>таблетки</td>\n      <td>100183</td>\n      <td>...</td>\n      <td>Пфайзер</td>\n      <td></td>\n      <td>a219a283-5674-498e-a828-d11bd7d7c4fc</td>\n      <td>0.0</td>\n      <td>drug</td>\n      <td>1</td>\n      <td>a:3:{s:5:\"VALUE\";a:1:{i:0;s:4:\"6817\";}s:11:\"DE...</td>\n      <td>a:3:{s:5:\"VALUE\";a:0:{}s:11:\"DESCRIPTION\";a:0:...</td>\n      <td>RX</td>\n      <td></td>\n    </tr>\n    <tr>\n      <th>4</th>\n      <td>461367</td>\n      <td>a:3:{s:5:\"VALUE\";a:0:{}s:11:\"DESCRIPTION\";a:0:...</td>\n      <td>a:3:{s:5:\"VALUE\";a:0:{}s:11:\"DESCRIPTION\";a:0:...</td>\n      <td>23a5c4b5-6f26-4053-b728-cb864a4edcbd</td>\n      <td>22</td>\n      <td>США</td>\n      <td>NaN</td>\n      <td>50 мг</td>\n      <td>таблетки</td>\n      <td>100184</td>\n      <td>...</td>\n      <td>Пфайзер</td>\n      <td></td>\n      <td>a219a283-5674-498e-a828-d11bd7d7c4fc</td>\n      <td>0.0</td>\n      <td>drug</td>\n      <td>4</td>\n      <td>a:3:{s:5:\"VALUE\";a:2:{i:0;s:4:\"6817\";i:1;s:4:\"...</td>\n      <td>a:3:{s:5:\"VALUE\";a:0:{}s:11:\"DESCRIPTION\";a:0:...</td>\n      <td>RX</td>\n      <td></td>\n    </tr>\n    <tr>\n      <th>...</th>\n      <td>...</td>\n      <td>...</td>\n      <td>...</td>\n      <td>...</td>\n      <td>...</td>\n      <td>...</td>\n      <td>...</td>\n      <td>...</td>\n      <td>...</td>\n      <td>...</td>\n      <td>...</td>\n      <td>...</td>\n      <td>...</td>\n      <td>...</td>\n      <td>...</td>\n      <td>...</td>\n      <td>...</td>\n      <td>...</td>\n      <td>...</td>\n      <td>...</td>\n      <td>...</td>\n    </tr>\n    <tr>\n      <th>40017</th>\n      <td>1311472</td>\n      <td>None</td>\n      <td>None</td>\n      <td>9aca1a48-6306-b673-9141-c7c6dcedd585</td>\n      <td>7</td>\n      <td>None</td>\n      <td>NaN</td>\n      <td></td>\n      <td></td>\n      <td></td>\n      <td>...</td>\n      <td>None</td>\n      <td></td>\n      <td>a0cf8fbc-e423-ab7b-e017-add4c7777ead</td>\n      <td>0.0</td>\n      <td>None</td>\n      <td></td>\n      <td>None</td>\n      <td>None</td>\n      <td>ПФ</td>\n      <td>None</td>\n    </tr>\n    <tr>\n      <th>40018</th>\n      <td>1311513</td>\n      <td>None</td>\n      <td>None</td>\n      <td></td>\n      <td>1</td>\n      <td>None</td>\n      <td>NaN</td>\n      <td></td>\n      <td></td>\n      <td>490492</td>\n      <td>...</td>\n      <td>None</td>\n      <td></td>\n      <td>64bad913-7136-939b-64ec-ea9f7093651c</td>\n      <td>0.0</td>\n      <td>None</td>\n      <td>250 мл</td>\n      <td>None</td>\n      <td>None</td>\n      <td>ПФ</td>\n      <td>None</td>\n    </tr>\n    <tr>\n      <th>40019</th>\n      <td>1311514</td>\n      <td>None</td>\n      <td>None</td>\n      <td>ebadd128-2438-4f50-8609-2a74188b1393</td>\n      <td>2</td>\n      <td>None</td>\n      <td>NaN</td>\n      <td></td>\n      <td></td>\n      <td></td>\n      <td>...</td>\n      <td>None</td>\n      <td></td>\n      <td>7321bc80-f24a-4ee1-8ae8-d51e9cca9df6</td>\n      <td>0.0</td>\n      <td>None</td>\n      <td></td>\n      <td>None</td>\n      <td>None</td>\n      <td>ПФ</td>\n      <td>None</td>\n    </tr>\n    <tr>\n      <th>40020</th>\n      <td>1311515</td>\n      <td>None</td>\n      <td>None</td>\n      <td>26baf9da-8f8e-49fb-97cb-c0b1ed6ae21d</td>\n      <td>6</td>\n      <td>None</td>\n      <td>NaN</td>\n      <td></td>\n      <td></td>\n      <td></td>\n      <td>...</td>\n      <td>None</td>\n      <td></td>\n      <td>7c54231b-5026-466e-a1d5-1deecdb0443d</td>\n      <td>0.0</td>\n      <td>None</td>\n      <td></td>\n      <td>None</td>\n      <td>None</td>\n      <td>ПФ</td>\n      <td>None</td>\n    </tr>\n    <tr>\n      <th>40021</th>\n      <td>1316818</td>\n      <td>None</td>\n      <td>None</td>\n      <td>14bada28-24b5-4447-8288-b7a5b53068b7</td>\n      <td>23</td>\n      <td>None</td>\n      <td>NaN</td>\n      <td>500 мг</td>\n      <td>таблетки</td>\n      <td>204079</td>\n      <td>...</td>\n      <td>None</td>\n      <td></td>\n      <td>60be33c3-9a02-1ac1-3025-fb48d54eb114</td>\n      <td>0.0</td>\n      <td>None</td>\n      <td>100</td>\n      <td>None</td>\n      <td>None</td>\n      <td>ОТС</td>\n      <td>None</td>\n    </tr>\n  </tbody>\n</table>\n<p>40022 rows × 23 columns</p>\n</div>"
     },
     "metadata": {},
     "execution_count": 145
    }
   ],
   "source": [
    "col = ['ID_PRODUCT']\n",
    "for i, I in property.drop(index=[20, 21, 23]).iterrows():\n",
    "    col.append(I.CODE)\n",
    "propertyV.columns = col\n",
    "propertyV"
   ]
  },
  {
   "cell_type": "code",
   "execution_count": 158,
   "metadata": {},
   "outputs": [
    {
     "output_type": "execute_result",
     "data": {
      "text/plain": [
       "1812     2.0\n",
       "7320     2.0\n",
       "28743    0.0\n",
       "Name: COURSE_QUANTITY, dtype: float64"
      ]
     },
     "metadata": {},
     "execution_count": 158
    }
   ],
   "source": [
    "propertyV['COURSE_QUANTITY'].dropna()"
   ]
  },
  {
   "cell_type": "code",
   "execution_count": 6,
   "metadata": {},
   "outputs": [],
   "source": [
    "df.columns = ['ID_DRUG', 'ID_PRODUCT', 'NAME_DRUG', 'DRUG_CODE']\n",
    "products.columns = ['ID_PRODUCT', 'NAME_PRODUCT']\n",
    "df = df.dropna()\n",
    "df['ID_PRODUCT'] = df['ID_PRODUCT'].apply(lambda x:int(x))"
   ]
  },
  {
   "cell_type": "code",
   "execution_count": 154,
   "metadata": {},
   "outputs": [
    {
     "output_type": "execute_result",
     "data": {
      "text/plain": [
       "       ID_DRUG  ID_PRODUCT     NAME_DRUG      DRUG_CODE  \\\n",
       "0         53.0      461363    Силденафил     sildenafil   \n",
       "1         53.0      461364    Силденафил     sildenafil   \n",
       "2         53.0      461365    Силденафил     sildenafil   \n",
       "3         53.0      461366    Силденафил     sildenafil   \n",
       "4         53.0      461367    Силденафил     sildenafil   \n",
       "...        ...         ...           ...            ...   \n",
       "40017      NaN     1311472           NaN            NaN   \n",
       "40018      NaN     1311513           NaN            NaN   \n",
       "40019      NaN     1311514           NaN            NaN   \n",
       "40020      NaN     1311515           NaN            NaN   \n",
       "40021   1513.0     1316818  Магния оксид  magniya_oksid   \n",
       "\n",
       "                                            NAME_PRODUCT  \n",
       "0                         Виагра, таблетки 100 мг, 2 шт.  \n",
       "1                          Виагра, таблетки 50 мг, 2 шт.  \n",
       "2                          Виагра, таблетки 25 мг, 1 шт.  \n",
       "3                          Виагра, таблетки 50 мг, 1 шт.  \n",
       "4                          Виагра, таблетки 50 мг, 4 шт.  \n",
       "...                                                  ...  \n",
       "40017  Medhelp Лейкопластырь фиксирующий на шелковой ...  \n",
       "40018        Топинамбур Премиум сироп без сахара, 250 мл  \n",
       "40019  Maneki Диски ватные двусторонние косметические...  \n",
       "40020  Vichy Purete Thermale набор Тоник 200 мл+Гель ...  \n",
       "40021                  Магнерот таблетки 500 мг, 100 шт.  \n",
       "\n",
       "[40022 rows x 5 columns]"
      ],
      "text/html": "<div>\n<style scoped>\n    .dataframe tbody tr th:only-of-type {\n        vertical-align: middle;\n    }\n\n    .dataframe tbody tr th {\n        vertical-align: top;\n    }\n\n    .dataframe thead th {\n        text-align: right;\n    }\n</style>\n<table border=\"1\" class=\"dataframe\">\n  <thead>\n    <tr style=\"text-align: right;\">\n      <th></th>\n      <th>ID_DRUG</th>\n      <th>ID_PRODUCT</th>\n      <th>NAME_DRUG</th>\n      <th>DRUG_CODE</th>\n      <th>NAME_PRODUCT</th>\n    </tr>\n  </thead>\n  <tbody>\n    <tr>\n      <th>0</th>\n      <td>53.0</td>\n      <td>461363</td>\n      <td>Силденафил</td>\n      <td>sildenafil</td>\n      <td>Виагра, таблетки 100 мг, 2 шт.</td>\n    </tr>\n    <tr>\n      <th>1</th>\n      <td>53.0</td>\n      <td>461364</td>\n      <td>Силденафил</td>\n      <td>sildenafil</td>\n      <td>Виагра, таблетки 50 мг, 2 шт.</td>\n    </tr>\n    <tr>\n      <th>2</th>\n      <td>53.0</td>\n      <td>461365</td>\n      <td>Силденафил</td>\n      <td>sildenafil</td>\n      <td>Виагра, таблетки 25 мг, 1 шт.</td>\n    </tr>\n    <tr>\n      <th>3</th>\n      <td>53.0</td>\n      <td>461366</td>\n      <td>Силденафил</td>\n      <td>sildenafil</td>\n      <td>Виагра, таблетки 50 мг, 1 шт.</td>\n    </tr>\n    <tr>\n      <th>4</th>\n      <td>53.0</td>\n      <td>461367</td>\n      <td>Силденафил</td>\n      <td>sildenafil</td>\n      <td>Виагра, таблетки 50 мг, 4 шт.</td>\n    </tr>\n    <tr>\n      <th>...</th>\n      <td>...</td>\n      <td>...</td>\n      <td>...</td>\n      <td>...</td>\n      <td>...</td>\n    </tr>\n    <tr>\n      <th>40017</th>\n      <td>NaN</td>\n      <td>1311472</td>\n      <td>NaN</td>\n      <td>NaN</td>\n      <td>Medhelp Лейкопластырь фиксирующий на шелковой ...</td>\n    </tr>\n    <tr>\n      <th>40018</th>\n      <td>NaN</td>\n      <td>1311513</td>\n      <td>NaN</td>\n      <td>NaN</td>\n      <td>Топинамбур Премиум сироп без сахара, 250 мл</td>\n    </tr>\n    <tr>\n      <th>40019</th>\n      <td>NaN</td>\n      <td>1311514</td>\n      <td>NaN</td>\n      <td>NaN</td>\n      <td>Maneki Диски ватные двусторонние косметические...</td>\n    </tr>\n    <tr>\n      <th>40020</th>\n      <td>NaN</td>\n      <td>1311515</td>\n      <td>NaN</td>\n      <td>NaN</td>\n      <td>Vichy Purete Thermale набор Тоник 200 мл+Гель ...</td>\n    </tr>\n    <tr>\n      <th>40021</th>\n      <td>1513.0</td>\n      <td>1316818</td>\n      <td>Магния оксид</td>\n      <td>magniya_oksid</td>\n      <td>Магнерот таблетки 500 мг, 100 шт.</td>\n    </tr>\n  </tbody>\n</table>\n<p>40022 rows × 5 columns</p>\n</div>"
     },
     "metadata": {},
     "execution_count": 154
    }
   ],
   "source": [
    "drug = pd.DataFrame.merge(df, products, how='right', on=['ID_PRODUCT'])\n",
    "drug"
   ]
  },
  {
   "cell_type": "code",
   "execution_count": 162,
   "metadata": {},
   "outputs": [],
   "source": [
    "drugs = pd.DataFrame.merge(drug, propertyV[['ID_PRODUCT','DOSAGE', 'DRUG_FORM', 'PACKING']], how='left', on=['ID_PRODUCT'])"
   ]
  },
  {
   "cell_type": "code",
   "execution_count": 163,
   "metadata": {},
   "outputs": [],
   "source": [
    "drugs.to_json('drugs.json')"
   ]
  },
  {
   "source": [
    "# Поиск пользователей для подписки"
   ],
   "cell_type": "markdown",
   "metadata": {}
  },
  {
   "cell_type": "code",
   "execution_count": 4,
   "metadata": {},
   "outputs": [],
   "source": [
    "basket = pd.DataFrame(get_data_json(dr+'basket.json')) # корзина\n",
    "order = pd.DataFrame(get_data_json(dr+'orders.json')) # пользователи"
   ]
  },
  {
   "cell_type": "code",
   "execution_count": 7,
   "metadata": {},
   "outputs": [],
   "source": [
    "basket.columns = ['ID', 'PRODUCT_ID', 'QANTITY', 'PRICE', 'DETAIL_PAGE_URL']\n",
    "order = order[['ID', 'DATE_INSERT', 'USER_ID']]"
   ]
  },
  {
   "cell_type": "code",
   "execution_count": 14,
   "metadata": {},
   "outputs": [],
   "source": [
    "pd.DataFrame.merge(basket, order, how='left', on=['ID']).to_json('buys.json')"
   ]
  },
  {
   "cell_type": "code",
   "execution_count": 31,
   "metadata": {},
   "outputs": [],
   "source": [
    "buys = pd.read_json(dr+'buys.json')"
   ]
  },
  {
   "cell_type": "code",
   "execution_count": 32,
   "metadata": {},
   "outputs": [
    {
     "output_type": "execute_result",
     "data": {
      "text/plain": [
       "               ID  PRODUCT_ID  QANTITY   PRICE            DETAIL_PAGE_URL  \\\n",
       "0        11881925      873128        1  2554.0           /goods/id303563/   \n",
       "1        11881927      461853        4   675.0           /goods/id116631/   \n",
       "2        11881937      466634        4   222.0       /spb/goods/id215482/   \n",
       "3        11881937      465982        4   179.0       /spb/goods/id214008/   \n",
       "4        11881937      477396        4   126.0       /spb/goods/id241663/   \n",
       "...           ...         ...      ...     ...                        ...   \n",
       "1254293  13584077      466585        1   520.0   /saratov/goods/id215398/   \n",
       "1254294  13584321      463097        2   348.0       /perm/goods/id20631/   \n",
       "1254295  13584324      468104        1  2382.0  /tolyatti/goods/id219056/   \n",
       "1254296  13584488      464160        1   828.0           /goods/id209967/   \n",
       "1254297  13584488      463081        1   921.0           /goods/id206251/   \n",
       "\n",
       "                 DATE_INSERT  USER_ID  \n",
       "0        2021-03-01 00:00:03  2270260  \n",
       "1        2021-03-01 00:00:12   457662  \n",
       "2        2021-03-01 00:01:19  3408182  \n",
       "3        2021-03-01 00:01:19  3408182  \n",
       "4        2021-03-01 00:01:19  3408182  \n",
       "...                      ...      ...  \n",
       "1254293  2021-05-21 17:31:13  4792735  \n",
       "1254294  2021-05-21 17:44:01  2781936  \n",
       "1254295  2021-05-21 17:44:00  4094658  \n",
       "1254296  2021-05-21 17:52:40   444128  \n",
       "1254297  2021-05-21 17:52:40   444128  \n",
       "\n",
       "[1254298 rows x 7 columns]"
      ],
      "text/html": "<div>\n<style scoped>\n    .dataframe tbody tr th:only-of-type {\n        vertical-align: middle;\n    }\n\n    .dataframe tbody tr th {\n        vertical-align: top;\n    }\n\n    .dataframe thead th {\n        text-align: right;\n    }\n</style>\n<table border=\"1\" class=\"dataframe\">\n  <thead>\n    <tr style=\"text-align: right;\">\n      <th></th>\n      <th>ID</th>\n      <th>PRODUCT_ID</th>\n      <th>QANTITY</th>\n      <th>PRICE</th>\n      <th>DETAIL_PAGE_URL</th>\n      <th>DATE_INSERT</th>\n      <th>USER_ID</th>\n    </tr>\n  </thead>\n  <tbody>\n    <tr>\n      <th>0</th>\n      <td>11881925</td>\n      <td>873128</td>\n      <td>1</td>\n      <td>2554.0</td>\n      <td>/goods/id303563/</td>\n      <td>2021-03-01 00:00:03</td>\n      <td>2270260</td>\n    </tr>\n    <tr>\n      <th>1</th>\n      <td>11881927</td>\n      <td>461853</td>\n      <td>4</td>\n      <td>675.0</td>\n      <td>/goods/id116631/</td>\n      <td>2021-03-01 00:00:12</td>\n      <td>457662</td>\n    </tr>\n    <tr>\n      <th>2</th>\n      <td>11881937</td>\n      <td>466634</td>\n      <td>4</td>\n      <td>222.0</td>\n      <td>/spb/goods/id215482/</td>\n      <td>2021-03-01 00:01:19</td>\n      <td>3408182</td>\n    </tr>\n    <tr>\n      <th>3</th>\n      <td>11881937</td>\n      <td>465982</td>\n      <td>4</td>\n      <td>179.0</td>\n      <td>/spb/goods/id214008/</td>\n      <td>2021-03-01 00:01:19</td>\n      <td>3408182</td>\n    </tr>\n    <tr>\n      <th>4</th>\n      <td>11881937</td>\n      <td>477396</td>\n      <td>4</td>\n      <td>126.0</td>\n      <td>/spb/goods/id241663/</td>\n      <td>2021-03-01 00:01:19</td>\n      <td>3408182</td>\n    </tr>\n    <tr>\n      <th>...</th>\n      <td>...</td>\n      <td>...</td>\n      <td>...</td>\n      <td>...</td>\n      <td>...</td>\n      <td>...</td>\n      <td>...</td>\n    </tr>\n    <tr>\n      <th>1254293</th>\n      <td>13584077</td>\n      <td>466585</td>\n      <td>1</td>\n      <td>520.0</td>\n      <td>/saratov/goods/id215398/</td>\n      <td>2021-05-21 17:31:13</td>\n      <td>4792735</td>\n    </tr>\n    <tr>\n      <th>1254294</th>\n      <td>13584321</td>\n      <td>463097</td>\n      <td>2</td>\n      <td>348.0</td>\n      <td>/perm/goods/id20631/</td>\n      <td>2021-05-21 17:44:01</td>\n      <td>2781936</td>\n    </tr>\n    <tr>\n      <th>1254295</th>\n      <td>13584324</td>\n      <td>468104</td>\n      <td>1</td>\n      <td>2382.0</td>\n      <td>/tolyatti/goods/id219056/</td>\n      <td>2021-05-21 17:44:00</td>\n      <td>4094658</td>\n    </tr>\n    <tr>\n      <th>1254296</th>\n      <td>13584488</td>\n      <td>464160</td>\n      <td>1</td>\n      <td>828.0</td>\n      <td>/goods/id209967/</td>\n      <td>2021-05-21 17:52:40</td>\n      <td>444128</td>\n    </tr>\n    <tr>\n      <th>1254297</th>\n      <td>13584488</td>\n      <td>463081</td>\n      <td>1</td>\n      <td>921.0</td>\n      <td>/goods/id206251/</td>\n      <td>2021-05-21 17:52:40</td>\n      <td>444128</td>\n    </tr>\n  </tbody>\n</table>\n<p>1254298 rows × 7 columns</p>\n</div>"
     },
     "metadata": {},
     "execution_count": 32
    }
   ],
   "source": [
    "buys"
   ]
  },
  {
   "cell_type": "code",
   "execution_count": 45,
   "metadata": {},
   "outputs": [],
   "source": [
    "gbbuys = buys.groupby('USER_ID')\n",
    "users = buys['USER_ID'].drop_duplicates()"
   ]
  },
  {
   "cell_type": "code",
   "execution_count": 47,
   "metadata": {},
   "outputs": [],
   "source": [
    "count_user = 0 # -- Количество пользователей которым нужна будет подписка\n",
    "for ind, id in users.items():\n",
    "    df = gbbuys.get_group(id)\n",
    "    vcs = df['PRODUCT_ID'].value_counts()\n",
    "    most = df['PRODUCT_ID'].value_counts().index[0]\n",
    "    if len(df[df['PRODUCT_ID']==most]['ID'].drop_duplicates()) > 2:\n",
    "      count_user += 1"
   ]
  },
  {
   "cell_type": "code",
   "execution_count": 50,
   "metadata": {},
   "outputs": [
    {
     "output_type": "stream",
     "name": "stdout",
     "text": [
      "ВСЕГО ПОЛЬЗОВАТЕЛЕЙ В ВЫБОРКЕ:\t 108660\nКОЛИЧЕСТВО ПОЛЬЗОВАТЕЛЕЙ, КОТОРЫМ РЕКОМЕНДОВАНА ПОДПИСКА:\t 18050\n"
     ]
    }
   ],
   "source": [
    "print(\"ВСЕГО ПОЛЬЗОВАТЕЛЕЙ В ВЫБОРКЕ:\\t\", len(users.value_counts()))\n",
    "print(\"КОЛИЧЕСТВО ПОЛЬЗОВАТЕЛЕЙ, КОТОРЫМ РЕКОМЕНДОВАНА ПОДПИСКА:\\t\", count_user)"
   ]
  },
  {
   "cell_type": "code",
   "execution_count": 49,
   "metadata": {},
   "outputs": [
    {
     "output_type": "execute_result",
     "data": {
      "text/plain": [
       "(-1.1059577409749455,\n",
       " 1.100283701951188,\n",
       " -1.1056031673219318,\n",
       " 1.1063289644415168)"
      ]
     },
     "metadata": {},
     "execution_count": 49
    },
    {
     "output_type": "display_data",
     "data": {
      "text/plain": "<Figure size 432x288 with 1 Axes>",
      "image/svg+xml": "<?xml version=\"1.0\" encoding=\"utf-8\" standalone=\"no\"?>\r\n<!DOCTYPE svg PUBLIC \"-//W3C//DTD SVG 1.1//EN\"\r\n  \"http://www.w3.org/Graphics/SVG/1.1/DTD/svg11.dtd\">\r\n<!-- Created with matplotlib (https://matplotlib.org/) -->\r\n<svg height=\"231.84pt\" version=\"1.1\" viewBox=\"0 0 411.567349 231.84\" width=\"411.567349pt\" xmlns=\"http://www.w3.org/2000/svg\" xmlns:xlink=\"http://www.w3.org/1999/xlink\">\r\n <metadata>\r\n  <rdf:RDF xmlns:cc=\"http://creativecommons.org/ns#\" xmlns:dc=\"http://purl.org/dc/elements/1.1/\" xmlns:rdf=\"http://www.w3.org/1999/02/22-rdf-syntax-ns#\">\r\n   <cc:Work>\r\n    <dc:type rdf:resource=\"http://purl.org/dc/dcmitype/StillImage\"/>\r\n    <dc:date>2021-05-30T02:22:45.226137</dc:date>\r\n    <dc:format>image/svg+xml</dc:format>\r\n    <dc:creator>\r\n     <cc:Agent>\r\n      <dc:title>Matplotlib v3.3.2, https://matplotlib.org/</dc:title>\r\n     </cc:Agent>\r\n    </dc:creator>\r\n   </cc:Work>\r\n  </rdf:RDF>\r\n </metadata>\r\n <defs>\r\n  <style type=\"text/css\">*{stroke-linecap:butt;stroke-linejoin:round;}</style>\r\n </defs>\r\n <g id=\"figure_1\">\r\n  <g id=\"patch_1\">\r\n   <path d=\"M 0 231.84 \r\nL 411.567349 231.84 \r\nL 411.567349 0 \r\nL 0 0 \r\nz\r\n\" style=\"fill:none;\"/>\r\n  </g>\r\n  <g id=\"axes_1\">\r\n   <g id=\"patch_2\">\r\n    <path d=\"M 273.182085 115.955674 \r\nC 273.182085 98.758948 268.669606 81.859529 260.097091 66.951834 \r\nC 251.524577 52.044139 239.188439 39.643633 224.325559 30.993652 \r\nL 174.878888 115.955674 \r\nL 273.182085 115.955674 \r\nz\r\n\" style=\"fill:#1f77b4;\"/>\r\n   </g>\r\n   <g id=\"patch_3\">\r\n    <path d=\"M 224.325559 30.993652 \r\nC 215.03083 25.584253 204.911108 21.736579 194.370392 19.604235 \r\nC 183.829676 17.471891 173.010127 17.083636 162.343684 18.454971 \r\nC 151.67724 19.826305 141.307757 22.938733 131.649207 27.668001 \r\nC 121.990656 32.397269 113.1733 38.679594 105.549145 46.264173 \r\nC 97.92499 53.848753 91.596862 62.633294 86.817392 72.267101 \r\nC 82.037922 81.900909 78.871569 92.254053 77.444742 102.913215 \r\nC 76.017915 113.572378 76.349856 124.3938 78.427314 134.945471 \r\nC 80.504772 145.497141 84.299728 155.636751 89.66068 164.959506 \r\nC 95.021632 174.282262 101.876279 182.662429 109.950968 189.765455 \r\nC 118.025657 196.86848 127.211487 202.598568 137.141742 206.72696 \r\nC 147.071996 210.855352 157.612748 213.32637 168.343189 214.041367 \r\nC 179.073629 214.756364 189.84904 213.705695 200.239244 210.931307 \r\nC 210.629449 208.156919 220.494317 203.696228 229.440022 197.727314 \r\nC 238.385728 191.758401 246.291623 184.361766 252.842087 175.832699 \r\nC 259.392552 167.303631 264.499242 157.757161 267.958287 147.574402 \r\nC 271.417333 137.391643 273.182083 126.709928 273.182085 115.955692 \r\nL 174.878888 115.955674 \r\nL 224.325559 30.993652 \r\nz\r\n\" style=\"fill:#ff7f0e;\"/>\r\n   </g>\r\n   <g id=\"matplotlib.axis_1\"/>\r\n   <g id=\"matplotlib.axis_2\"/>\r\n   <g id=\"text_1\">\r\n    <!-- Рекомендована подписка -->\r\n    <g transform=\"translate(268.618912 64.810825)scale(0.1 -0.1)\">\r\n     <defs>\r\n      <path d=\"M 19.671875 64.796875 \r\nL 19.671875 37.40625 \r\nL 32.078125 37.40625 \r\nQ 38.96875 37.40625 42.71875 40.96875 \r\nQ 46.484375 44.53125 46.484375 51.125 \r\nQ 46.484375 57.671875 42.71875 61.234375 \r\nQ 38.96875 64.796875 32.078125 64.796875 \r\nz\r\nM 9.8125 72.90625 \r\nL 32.078125 72.90625 \r\nQ 44.34375 72.90625 50.609375 67.359375 \r\nQ 56.890625 61.8125 56.890625 51.125 \r\nQ 56.890625 40.328125 50.609375 34.8125 \r\nQ 44.34375 29.296875 32.078125 29.296875 \r\nL 19.671875 29.296875 \r\nL 19.671875 0 \r\nL 9.8125 0 \r\nz\r\n\" id=\"DejaVuSans-1056\"/>\r\n      <path d=\"M 56.203125 29.59375 \r\nL 56.203125 25.203125 \r\nL 14.890625 25.203125 \r\nQ 15.484375 15.921875 20.484375 11.0625 \r\nQ 25.484375 6.203125 34.421875 6.203125 \r\nQ 39.59375 6.203125 44.453125 7.46875 \r\nQ 49.3125 8.734375 54.109375 11.28125 \r\nL 54.109375 2.78125 \r\nQ 49.265625 0.734375 44.1875 -0.34375 \r\nQ 39.109375 -1.421875 33.890625 -1.421875 \r\nQ 20.796875 -1.421875 13.15625 6.1875 \r\nQ 5.515625 13.8125 5.515625 26.8125 \r\nQ 5.515625 40.234375 12.765625 48.109375 \r\nQ 20.015625 56 32.328125 56 \r\nQ 43.359375 56 49.78125 48.890625 \r\nQ 56.203125 41.796875 56.203125 29.59375 \r\nz\r\nM 47.21875 32.234375 \r\nQ 47.125 39.59375 43.09375 43.984375 \r\nQ 39.0625 48.390625 32.421875 48.390625 \r\nQ 24.90625 48.390625 20.390625 44.140625 \r\nQ 15.875 39.890625 15.1875 32.171875 \r\nz\r\n\" id=\"DejaVuSans-1077\"/>\r\n      <path d=\"M 9.078125 54.6875 \r\nL 18.015625 54.6875 \r\nL 18.015625 29 \r\nL 43.359375 54.6875 \r\nL 54.390625 54.6875 \r\nL 33.5 33.546875 \r\nL 57.078125 0 \r\nL 47.015625 0 \r\nL 27.640625 27.59375 \r\nL 18.015625 17.828125 \r\nL 18.015625 0 \r\nL 9.078125 0 \r\nz\r\n\" id=\"DejaVuSans-1082\"/>\r\n      <path d=\"M 30.609375 48.390625 \r\nQ 23.390625 48.390625 19.1875 42.75 \r\nQ 14.984375 37.109375 14.984375 27.296875 \r\nQ 14.984375 17.484375 19.15625 11.84375 \r\nQ 23.34375 6.203125 30.609375 6.203125 \r\nQ 37.796875 6.203125 41.984375 11.859375 \r\nQ 46.1875 17.53125 46.1875 27.296875 \r\nQ 46.1875 37.015625 41.984375 42.703125 \r\nQ 37.796875 48.390625 30.609375 48.390625 \r\nz\r\nM 30.609375 56 \r\nQ 42.328125 56 49.015625 48.375 \r\nQ 55.71875 40.765625 55.71875 27.296875 \r\nQ 55.71875 13.875 49.015625 6.21875 \r\nQ 42.328125 -1.421875 30.609375 -1.421875 \r\nQ 18.84375 -1.421875 12.171875 6.21875 \r\nQ 5.515625 13.875 5.515625 27.296875 \r\nQ 5.515625 40.765625 12.171875 48.375 \r\nQ 18.84375 56 30.609375 56 \r\nz\r\n\" id=\"DejaVuSans-1086\"/>\r\n      <path d=\"M 9.078125 54.6875 \r\nL 22.21875 54.6875 \r\nL 37.75 18.0625 \r\nL 53.328125 54.6875 \r\nL 66.359375 54.6875 \r\nL 66.359375 0 \r\nL 57.328125 0 \r\nL 57.328125 46.09375 \r\nL 42.234375 10.5 \r\nL 33.25 10.5 \r\nL 18.109375 46.09375 \r\nL 18.109375 0 \r\nL 9.078125 0 \r\nz\r\n\" id=\"DejaVuSans-1084\"/>\r\n      <path d=\"M 9.078125 54.6875 \r\nL 18.109375 54.6875 \r\nL 18.109375 32.375 \r\nL 47.265625 32.375 \r\nL 47.265625 54.6875 \r\nL 56.296875 54.6875 \r\nL 56.296875 0 \r\nL 47.265625 0 \r\nL 47.265625 25.203125 \r\nL 18.109375 25.203125 \r\nL 18.109375 0 \r\nL 9.078125 0 \r\nz\r\n\" id=\"DejaVuSans-1085\"/>\r\n      <path d=\"M 21.625 7.171875 \r\nL 47.703125 7.171875 \r\nL 47.703125 47.515625 \r\nL 28.8125 47.515625 \r\nL 28.8125 40.671875 \r\nQ 28.8125 20.5625 23.046875 9.8125 \r\nz\r\nM 8.59375 7.171875 \r\nQ 13.03125 9.125 14.984375 13.28125 \r\nQ 19.78125 23.578125 19.78125 44.34375 \r\nL 19.78125 54.6875 \r\nL 56.734375 54.6875 \r\nL 56.734375 7.171875 \r\nL 63.921875 7.171875 \r\nL 63.921875 -13.8125 \r\nL 56.734375 -13.8125 \r\nL 56.734375 0 \r\nL 12.40625 0 \r\nL 12.40625 -13.8125 \r\nL 5.21875 -13.8125 \r\nL 5.21875 7.171875 \r\nz\r\n\" id=\"DejaVuSans-1076\"/>\r\n      <path d=\"M 18.0625 25.203125 \r\nL 18.0625 7.171875 \r\nL 30.859375 7.171875 \r\nQ 37.015625 7.171875 40.234375 9.484375 \r\nQ 43.453125 11.8125 43.453125 16.21875 \r\nQ 43.453125 20.609375 40.234375 22.90625 \r\nQ 37.015625 25.203125 30.859375 25.203125 \r\nz\r\nM 18.0625 47.515625 \r\nL 18.0625 32.375 \r\nL 29.890625 32.375 \r\nQ 34.96875 32.375 38.1875 34.390625 \r\nQ 41.40625 36.421875 41.40625 40.046875 \r\nQ 41.40625 43.65625 38.1875 45.578125 \r\nQ 34.96875 47.515625 29.890625 47.515625 \r\nz\r\nM 9.078125 54.6875 \r\nL 30.46875 54.6875 \r\nQ 40.09375 54.6875 45.265625 51.171875 \r\nQ 50.4375 47.65625 50.4375 41.15625 \r\nQ 50.4375 36.140625 47.796875 33.171875 \r\nQ 45.171875 30.21875 39.984375 29.5 \r\nQ 46.1875 28.328125 49.609375 24.609375 \r\nQ 53.03125 20.90625 53.03125 15.328125 \r\nQ 53.03125 8.015625 47.390625 4 \r\nQ 41.75 0 31.296875 0 \r\nL 9.078125 0 \r\nz\r\n\" id=\"DejaVuSans-1074\"/>\r\n      <path d=\"M 34.28125 27.484375 \r\nQ 23.390625 27.484375 19.1875 25 \r\nQ 14.984375 22.515625 14.984375 16.5 \r\nQ 14.984375 11.71875 18.140625 8.90625 \r\nQ 21.296875 6.109375 26.703125 6.109375 \r\nQ 34.1875 6.109375 38.703125 11.40625 \r\nQ 43.21875 16.703125 43.21875 25.484375 \r\nL 43.21875 27.484375 \r\nz\r\nM 52.203125 31.203125 \r\nL 52.203125 0 \r\nL 43.21875 0 \r\nL 43.21875 8.296875 \r\nQ 40.140625 3.328125 35.546875 0.953125 \r\nQ 30.953125 -1.421875 24.3125 -1.421875 \r\nQ 15.921875 -1.421875 10.953125 3.296875 \r\nQ 6 8.015625 6 15.921875 \r\nQ 6 25.140625 12.171875 29.828125 \r\nQ 18.359375 34.515625 30.609375 34.515625 \r\nL 43.21875 34.515625 \r\nL 43.21875 35.40625 \r\nQ 43.21875 41.609375 39.140625 45 \r\nQ 35.0625 48.390625 27.6875 48.390625 \r\nQ 23 48.390625 18.546875 47.265625 \r\nQ 14.109375 46.140625 10.015625 43.890625 \r\nL 10.015625 52.203125 \r\nQ 14.9375 54.109375 19.578125 55.046875 \r\nQ 24.21875 56 28.609375 56 \r\nQ 40.484375 56 46.34375 49.84375 \r\nQ 52.203125 43.703125 52.203125 31.203125 \r\nz\r\n\" id=\"DejaVuSans-1072\"/>\r\n      <path id=\"DejaVuSans-32\"/>\r\n      <path d=\"M 56.296875 54.6875 \r\nL 56.296875 0 \r\nL 47.265625 0 \r\nL 47.265625 47.515625 \r\nL 18.109375 47.515625 \r\nL 18.109375 0 \r\nL 9.078125 0 \r\nL 9.078125 54.6875 \r\nz\r\n\" id=\"DejaVuSans-1087\"/>\r\n      <path d=\"M 55.90625 54.6875 \r\nL 55.90625 0 \r\nL 46.96875 0 \r\nL 46.96875 43.890625 \r\nL 20.609375 0 \r\nL 9.078125 0 \r\nL 9.078125 54.6875 \r\nL 18.015625 54.6875 \r\nL 18.015625 10.890625 \r\nL 44.34375 54.6875 \r\nz\r\n\" id=\"DejaVuSans-1080\"/>\r\n      <path d=\"M 48.78125 52.59375 \r\nL 48.78125 44.1875 \r\nQ 44.96875 46.296875 41.140625 47.34375 \r\nQ 37.3125 48.390625 33.40625 48.390625 \r\nQ 24.65625 48.390625 19.8125 42.84375 \r\nQ 14.984375 37.3125 14.984375 27.296875 \r\nQ 14.984375 17.28125 19.8125 11.734375 \r\nQ 24.65625 6.203125 33.40625 6.203125 \r\nQ 37.3125 6.203125 41.140625 7.25 \r\nQ 44.96875 8.296875 48.78125 10.40625 \r\nL 48.78125 2.09375 \r\nQ 45.015625 0.34375 40.984375 -0.53125 \r\nQ 36.96875 -1.421875 32.421875 -1.421875 \r\nQ 20.0625 -1.421875 12.78125 6.34375 \r\nQ 5.515625 14.109375 5.515625 27.296875 \r\nQ 5.515625 40.671875 12.859375 48.328125 \r\nQ 20.21875 56 33.015625 56 \r\nQ 37.15625 56 41.109375 55.140625 \r\nQ 45.0625 54.296875 48.78125 52.59375 \r\nz\r\n\" id=\"DejaVuSans-1089\"/>\r\n     </defs>\r\n     <use xlink:href=\"#DejaVuSans-1056\"/>\r\n     <use x=\"60.302734\" xlink:href=\"#DejaVuSans-1077\"/>\r\n     <use x=\"121.826172\" xlink:href=\"#DejaVuSans-1082\"/>\r\n     <use x=\"182.226562\" xlink:href=\"#DejaVuSans-1086\"/>\r\n     <use x=\"243.408203\" xlink:href=\"#DejaVuSans-1084\"/>\r\n     <use x=\"318.847656\" xlink:href=\"#DejaVuSans-1077\"/>\r\n     <use x=\"380.371094\" xlink:href=\"#DejaVuSans-1085\"/>\r\n     <use x=\"445.751953\" xlink:href=\"#DejaVuSans-1076\"/>\r\n     <use x=\"514.892578\" xlink:href=\"#DejaVuSans-1086\"/>\r\n     <use x=\"576.074219\" xlink:href=\"#DejaVuSans-1074\"/>\r\n     <use x=\"635.009766\" xlink:href=\"#DejaVuSans-1072\"/>\r\n     <use x=\"696.289062\" xlink:href=\"#DejaVuSans-1085\"/>\r\n     <use x=\"761.669922\" xlink:href=\"#DejaVuSans-1072\"/>\r\n     <use x=\"822.949219\" xlink:href=\"#DejaVuSans-32\"/>\r\n     <use x=\"854.736328\" xlink:href=\"#DejaVuSans-1087\"/>\r\n     <use x=\"920.117188\" xlink:href=\"#DejaVuSans-1086\"/>\r\n     <use x=\"981.298828\" xlink:href=\"#DejaVuSans-1076\"/>\r\n     <use x=\"1050.439453\" xlink:href=\"#DejaVuSans-1087\"/>\r\n     <use x=\"1115.820312\" xlink:href=\"#DejaVuSans-1080\"/>\r\n     <use x=\"1180.810547\" xlink:href=\"#DejaVuSans-1089\"/>\r\n     <use x=\"1235.791016\" xlink:href=\"#DejaVuSans-1082\"/>\r\n     <use x=\"1296.191406\" xlink:href=\"#DejaVuSans-1072\"/>\r\n    </g>\r\n   </g>\r\n   <g id=\"text_2\">\r\n    <!-- Без подписки -->\r\n    <g transform=\"translate(8.985734 172.619265)scale(0.1 -0.1)\">\r\n     <defs>\r\n      <path d=\"M 51.125 21.4375 \r\nQ 51.125 28.21875 47.28125 31.515625 \r\nQ 43.453125 34.8125 35.5 34.8125 \r\nL 19.671875 34.8125 \r\nL 19.671875 8.109375 \r\nL 35.5 8.109375 \r\nQ 43.453125 8.109375 47.28125 11.40625 \r\nQ 51.125 14.703125 51.125 21.4375 \r\nz\r\nM 56.390625 72.90625 \r\nL 56.390625 64.796875 \r\nL 19.671875 64.796875 \r\nL 19.671875 42.921875 \r\nL 35.984375 42.921875 \r\nQ 48.25 42.921875 54.890625 37.59375 \r\nQ 61.53125 32.28125 61.53125 21.4375 \r\nQ 61.53125 10.640625 55.109375 5.3125 \r\nQ 48.6875 0 35.984375 0 \r\nL 9.8125 0 \r\nL 9.8125 72.90625 \r\nz\r\n\" id=\"DejaVuSans-1041\"/>\r\n      <path d=\"M 34.46875 29.5 \r\nQ 40.53125 28.328125 43.890625 24.75 \r\nQ 47.265625 21.1875 47.265625 15.921875 \r\nQ 47.265625 7.46875 40.96875 3.015625 \r\nQ 34.671875 -1.421875 23.046875 -1.421875 \r\nQ 19.140625 -1.421875 15.015625 -0.734375 \r\nQ 10.890625 -0.046875 6.5 1.3125 \r\nL 6.5 9.671875 \r\nQ 9.96875 7.859375 14.109375 6.953125 \r\nQ 18.265625 6.0625 22.796875 6.0625 \r\nQ 30.171875 6.0625 34.296875 8.796875 \r\nQ 38.421875 11.53125 38.421875 15.921875 \r\nQ 38.421875 20.21875 34.765625 22.828125 \r\nQ 31.109375 25.4375 24.421875 25.4375 \r\nL 17.1875 25.4375 \r\nL 17.1875 32.859375 \r\nL 24.75 32.859375 \r\nQ 30.421875 32.859375 33.71875 35.03125 \r\nQ 37.015625 37.203125 37.015625 40.625 \r\nQ 37.015625 43.75 33.609375 46 \r\nQ 30.21875 48.25 24.421875 48.25 \r\nQ 20.953125 48.25 17.015625 47.609375 \r\nQ 13.09375 46.96875 8.34375 45.5625 \r\nL 8.34375 53.71875 \r\nQ 13.140625 54.890625 17.28125 55.46875 \r\nQ 21.4375 56.0625 25.140625 56.0625 \r\nQ 34.71875 56.0625 40.25 52.21875 \r\nQ 45.796875 48.390625 45.796875 41.5 \r\nQ 45.796875 36.96875 42.859375 33.8125 \r\nQ 39.9375 30.671875 34.46875 29.5 \r\nz\r\n\" id=\"DejaVuSans-1079\"/>\r\n     </defs>\r\n     <use xlink:href=\"#DejaVuSans-1041\"/>\r\n     <use x=\"68.603516\" xlink:href=\"#DejaVuSans-1077\"/>\r\n     <use x=\"130.126953\" xlink:href=\"#DejaVuSans-1079\"/>\r\n     <use x=\"183.300781\" xlink:href=\"#DejaVuSans-32\"/>\r\n     <use x=\"215.087891\" xlink:href=\"#DejaVuSans-1087\"/>\r\n     <use x=\"280.46875\" xlink:href=\"#DejaVuSans-1086\"/>\r\n     <use x=\"341.650391\" xlink:href=\"#DejaVuSans-1076\"/>\r\n     <use x=\"410.791016\" xlink:href=\"#DejaVuSans-1087\"/>\r\n     <use x=\"476.171875\" xlink:href=\"#DejaVuSans-1080\"/>\r\n     <use x=\"541.162109\" xlink:href=\"#DejaVuSans-1089\"/>\r\n     <use x=\"596.142578\" xlink:href=\"#DejaVuSans-1082\"/>\r\n     <use x=\"656.542969\" xlink:href=\"#DejaVuSans-1080\"/>\r\n    </g>\r\n   </g>\r\n  </g>\r\n </g>\r\n</svg>\r\n",
      "image/png": "[encoded data removed]"
     },
     "metadata": {}
    }
   ],
   "source": [
    "percent = count_user / len(users) * 100\n",
    "vals = [percent, 100-percent]\n",
    "labels = ['Рекомендована подписка', 'Без подписки']\n",
    "\n",
    "fig, ax = plt.subplots()\n",
    "ax.pie(vals, labels=labels)\n",
    "ax.axis(\"equal\")"
   ]
  },
  {
   "source": [
    "## В данном случае пользователем которому стоит порекомендовать подписку считается такой пользователь, который совершил более 2 уникальных покупок одного товара. Уникальной покупкой считается такая покупка лекарства которая была произведена не в один день, в разных корзинах. "
   ],
   "cell_type": "markdown",
   "metadata": {}
  },
  {
   "cell_type": "code",
   "execution_count": null,
   "metadata": {},
   "outputs": [],
   "source": []
  }
 ]
}