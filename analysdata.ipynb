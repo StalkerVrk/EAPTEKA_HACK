{
 "metadata": {
  "language_info": {
   "codemirror_mode": {
    "name": "ipython",
    "version": 3
   },
   "file_extension": ".py",
   "mimetype": "text/x-python",
   "name": "python",
   "nbconvert_exporter": "python",
   "pygments_lexer": "ipython3",
   "version": "3.8.0"
  },
  "orig_nbformat": 2,
  "kernelspec": {
   "name": "python380jvsc74a57bd0b977b1c54e1ae8995c85ab62d32bcef0fe2b3afde370ca3cc67a760e8e35de10",
   "display_name": "Python 3.8.0 64-bit ('python38')"
  },
  "metadata": {
   "interpreter": {
    "hash": "b977b1c54e1ae8995c85ab62d32bcef0fe2b3afde370ca3cc67a760e8e35de10"
   }
  }
 },
 "nbformat": 4,
 "nbformat_minor": 2,
 "cells": [
  {
   "cell_type": "code",
   "execution_count": 90,
   "metadata": {},
   "outputs": [],
   "source": [
    "import pandas as pd\n",
    "import numpy as np\n",
    "import json"
   ]
  },
  {
   "cell_type": "code",
   "execution_count": 96,
   "metadata": {},
   "outputs": [],
   "source": [
    "def get_data_json(dir):\n",
    "    with open(dir, encoding='utf-8') as f:\n",
    "        data = json.load(f)\n",
    "    return data\n",
    "\n",
    "df = pd.read_json('productToMNN.json')\n",
    "dr = 'D:\\__PROJECTS___/Data/'\n",
    "\n",
    "basket = pd.DataFrame(get_data_json(dr+'basket.json')) # корзина\n",
    "order = pd.DataFrame(get_data_json(dr+'orders.json'))\n",
    "products = pd.DataFrame(get_data_json(dr+'products.json'))\n",
    "property = pd.DataFrame(get_data_json(dr+'property.json'))\n",
    "propertyM = pd.DataFrame(get_data_json(dr+'propertyMultipleValues.json'))\n",
    "propertyV = pd.DataFrame(get_data_json(dr+'propertyValues.json'))"
   ]
  },
  {
   "cell_type": "code",
   "execution_count": 97,
   "metadata": {},
   "outputs": [
    {
     "output_type": "execute_result",
     "data": {
      "text/plain": [
       "       MNN_ID  PRODUCT_ID                    MNN_NAME  \\\n",
       "0          53    461363.0                  Силденафил   \n",
       "1          53    461364.0                  Силденафил   \n",
       "2          53    461365.0                  Силденафил   \n",
       "3          53    461366.0                  Силденафил   \n",
       "4          53    461367.0                  Силденафил   \n",
       "...       ...         ...                         ...   \n",
       "17226    1662         NaN  Дифенгидрамин, Парацетамол   \n",
       "17227      93    494984.0                 Ганцикловир   \n",
       "17228     231    963082.0                  Метоксален   \n",
       "17229     746    494985.0                   Мелатонин   \n",
       "17230     746    494986.0                   Мелатонин   \n",
       "\n",
       "                         MNN_CODE  \n",
       "0                      sildenafil  \n",
       "1                      sildenafil  \n",
       "2                      sildenafil  \n",
       "3                      sildenafil  \n",
       "4                      sildenafil  \n",
       "...                           ...  \n",
       "17226  difengidramin_paratsetamol  \n",
       "17227                gantsiklovir  \n",
       "17228                  metoksalen  \n",
       "17229                   melatonin  \n",
       "17230                   melatonin  \n",
       "\n",
       "[17231 rows x 4 columns]"
      ],
      "text/html": "<div>\n<style scoped>\n    .dataframe tbody tr th:only-of-type {\n        vertical-align: middle;\n    }\n\n    .dataframe tbody tr th {\n        vertical-align: top;\n    }\n\n    .dataframe thead th {\n        text-align: right;\n    }\n</style>\n<table border=\"1\" class=\"dataframe\">\n  <thead>\n    <tr style=\"text-align: right;\">\n      <th></th>\n      <th>MNN_ID</th>\n      <th>PRODUCT_ID</th>\n      <th>MNN_NAME</th>\n      <th>MNN_CODE</th>\n    </tr>\n  </thead>\n  <tbody>\n    <tr>\n      <th>0</th>\n      <td>53</td>\n      <td>461363.0</td>\n      <td>Силденафил</td>\n      <td>sildenafil</td>\n    </tr>\n    <tr>\n      <th>1</th>\n      <td>53</td>\n      <td>461364.0</td>\n      <td>Силденафил</td>\n      <td>sildenafil</td>\n    </tr>\n    <tr>\n      <th>2</th>\n      <td>53</td>\n      <td>461365.0</td>\n      <td>Силденафил</td>\n      <td>sildenafil</td>\n    </tr>\n    <tr>\n      <th>3</th>\n      <td>53</td>\n      <td>461366.0</td>\n      <td>Силденафил</td>\n      <td>sildenafil</td>\n    </tr>\n    <tr>\n      <th>4</th>\n      <td>53</td>\n      <td>461367.0</td>\n      <td>Силденафил</td>\n      <td>sildenafil</td>\n    </tr>\n    <tr>\n      <th>...</th>\n      <td>...</td>\n      <td>...</td>\n      <td>...</td>\n      <td>...</td>\n    </tr>\n    <tr>\n      <th>17226</th>\n      <td>1662</td>\n      <td>NaN</td>\n      <td>Дифенгидрамин, Парацетамол</td>\n      <td>difengidramin_paratsetamol</td>\n    </tr>\n    <tr>\n      <th>17227</th>\n      <td>93</td>\n      <td>494984.0</td>\n      <td>Ганцикловир</td>\n      <td>gantsiklovir</td>\n    </tr>\n    <tr>\n      <th>17228</th>\n      <td>231</td>\n      <td>963082.0</td>\n      <td>Метоксален</td>\n      <td>metoksalen</td>\n    </tr>\n    <tr>\n      <th>17229</th>\n      <td>746</td>\n      <td>494985.0</td>\n      <td>Мелатонин</td>\n      <td>melatonin</td>\n    </tr>\n    <tr>\n      <th>17230</th>\n      <td>746</td>\n      <td>494986.0</td>\n      <td>Мелатонин</td>\n      <td>melatonin</td>\n    </tr>\n  </tbody>\n</table>\n<p>17231 rows × 4 columns</p>\n</div>"
     },
     "metadata": {},
     "execution_count": 97
    }
   ],
   "source": [
    "df"
   ]
  },
  {
   "cell_type": "code",
   "execution_count": 56,
   "metadata": {},
   "outputs": [],
   "source": [
    "df[[\"MNN_ID\", \"MNN_NAME\", \"MNN_CODE\"]].drop_duplicates().to_csv('ID2Prod.txt') "
   ]
  },
  {
   "cell_type": "code",
   "execution_count": 101,
   "metadata": {},
   "outputs": [
    {
     "output_type": "execute_result",
     "data": {
      "text/plain": [
       "       IBLOCK_ELEMENT_ID                                           ALSO_BUY  \\\n",
       "0                 461363  a:3:{s:5:\"VALUE\";a:0:{}s:11:\"DESCRIPTION\";a:0:...   \n",
       "1                 461364  a:3:{s:5:\"VALUE\";a:0:{}s:11:\"DESCRIPTION\";a:0:...   \n",
       "2                 461365  a:3:{s:5:\"VALUE\";a:0:{}s:11:\"DESCRIPTION\";a:0:...   \n",
       "3                 461366  a:3:{s:5:\"VALUE\";a:0:{}s:11:\"DESCRIPTION\";a:0:...   \n",
       "4                 461367  a:3:{s:5:\"VALUE\";a:0:{}s:11:\"DESCRIPTION\";a:0:...   \n",
       "...                  ...                                                ...   \n",
       "40017            1311472                                               None   \n",
       "40018            1311513                                               None   \n",
       "40019            1311514                                               None   \n",
       "40020            1311515                                               None   \n",
       "40021            1316818                                               None   \n",
       "\n",
       "                                                 ANALOGS  \\\n",
       "0      a:3:{s:5:\"VALUE\";a:0:{}s:11:\"DESCRIPTION\";a:0:...   \n",
       "1      a:3:{s:5:\"VALUE\";a:0:{}s:11:\"DESCRIPTION\";a:0:...   \n",
       "2      a:3:{s:5:\"VALUE\";a:0:{}s:11:\"DESCRIPTION\";a:0:...   \n",
       "3      a:3:{s:5:\"VALUE\";a:0:{}s:11:\"DESCRIPTION\";a:0:...   \n",
       "4      a:3:{s:5:\"VALUE\";a:0:{}s:11:\"DESCRIPTION\";a:0:...   \n",
       "...                                                  ...   \n",
       "40017                                               None   \n",
       "40018                                               None   \n",
       "40019                                               None   \n",
       "40020                                               None   \n",
       "40021                                               None   \n",
       "\n",
       "                                   BRAND_ID BUY_COUNT COUNTRY  \\\n",
       "0      23a5c4b5-6f26-4053-b728-cb864a4edcbd        66     США   \n",
       "1      23a5c4b5-6f26-4053-b728-cb864a4edcbd        26     США   \n",
       "2      23a5c4b5-6f26-4053-b728-cb864a4edcbd        20     США   \n",
       "3      23a5c4b5-6f26-4053-b728-cb864a4edcbd        28     США   \n",
       "4      23a5c4b5-6f26-4053-b728-cb864a4edcbd        22     США   \n",
       "...                                     ...       ...     ...   \n",
       "40017  9aca1a48-6306-b673-9141-c7c6dcedd585         7    None   \n",
       "40018                                               1    None   \n",
       "40019  ebadd128-2438-4f50-8609-2a74188b1393         2    None   \n",
       "40020  26baf9da-8f8e-49fb-97cb-c0b1ed6ae21d         6    None   \n",
       "40021  14bada28-24b5-4447-8288-b7a5b53068b7        23    None   \n",
       "\n",
       "       COURSE_QUANTITY  DOSAGE DRUG_FORM FEATURES  ... MANUFACTURER  \\\n",
       "0                  NaN  100 мг  таблетки   100177  ...      Пфайзер   \n",
       "1                  NaN   50 мг  таблетки   100178  ...      Пфайзер   \n",
       "2                  NaN   25 мг  таблетки   100180  ...      Пфайзер   \n",
       "3                  NaN   50 мг  таблетки   100183  ...      Пфайзер   \n",
       "4                  NaN   50 мг  таблетки   100184  ...      Пфайзер   \n",
       "...                ...     ...       ...      ...  ...          ...   \n",
       "40017              NaN                             ...         None   \n",
       "40018              NaN                     490492  ...         None   \n",
       "40019              NaN                             ...         None   \n",
       "40020              NaN                             ...         None   \n",
       "40021              NaN  500 мг  таблетки   204079  ...         None   \n",
       "\n",
       "      MANUFACTURER                       MANUFACTURER_ID NEED_RECIPE  \\\n",
       "0                   a219a283-5674-498e-a828-d11bd7d7c4fc         0.0   \n",
       "1                   a219a283-5674-498e-a828-d11bd7d7c4fc         0.0   \n",
       "2                   a219a283-5674-498e-a828-d11bd7d7c4fc         0.0   \n",
       "3                   a219a283-5674-498e-a828-d11bd7d7c4fc         0.0   \n",
       "4                   a219a283-5674-498e-a828-d11bd7d7c4fc         0.0   \n",
       "...            ...                                   ...         ...   \n",
       "40017               a0cf8fbc-e423-ab7b-e017-add4c7777ead         0.0   \n",
       "40018               64bad913-7136-939b-64ec-ea9f7093651c         0.0   \n",
       "40019               7321bc80-f24a-4ee1-8ae8-d51e9cca9df6         0.0   \n",
       "40020               7c54231b-5026-466e-a1d5-1deecdb0443d         0.0   \n",
       "40021               60be33c3-9a02-1ac1-3025-fb48d54eb114         0.0   \n",
       "\n",
       "      OFFER_TYPE PACKING                            PHARMACOLOGICAL_SECTION  \\\n",
       "0           drug       2  a:3:{s:5:\"VALUE\";a:2:{i:0;s:4:\"6817\";i:1;s:4:\"...   \n",
       "1           drug       2  a:3:{s:5:\"VALUE\";a:1:{i:0;s:4:\"6817\";}s:11:\"DE...   \n",
       "2           drug       1  a:3:{s:5:\"VALUE\";a:1:{i:0;s:4:\"6817\";}s:11:\"DE...   \n",
       "3           drug       1  a:3:{s:5:\"VALUE\";a:1:{i:0;s:4:\"6817\";}s:11:\"DE...   \n",
       "4           drug       4  a:3:{s:5:\"VALUE\";a:2:{i:0;s:4:\"6817\";i:1;s:4:\"...   \n",
       "...          ...     ...                                                ...   \n",
       "40017       None                                                       None   \n",
       "40018       None  250 мл                                               None   \n",
       "40019       None                                                       None   \n",
       "40020       None                                                       None   \n",
       "40021       None     100                                               None   \n",
       "\n",
       "                                              SPECIAL_s1 TYPE VENDOR_CODE  \n",
       "0      a:3:{s:5:\"VALUE\";a:0:{}s:11:\"DESCRIPTION\";a:0:...   RX              \n",
       "1      a:3:{s:5:\"VALUE\";a:0:{}s:11:\"DESCRIPTION\";a:0:...   RX              \n",
       "2      a:3:{s:5:\"VALUE\";a:0:{}s:11:\"DESCRIPTION\";a:0:...   RX              \n",
       "3      a:3:{s:5:\"VALUE\";a:0:{}s:11:\"DESCRIPTION\";a:0:...   RX              \n",
       "4      a:3:{s:5:\"VALUE\";a:0:{}s:11:\"DESCRIPTION\";a:0:...   RX              \n",
       "...                                                  ...  ...         ...  \n",
       "40017                                               None   ПФ        None  \n",
       "40018                                               None   ПФ        None  \n",
       "40019                                               None   ПФ        None  \n",
       "40020                                               None   ПФ        None  \n",
       "40021                                               None  ОТС        None  \n",
       "\n",
       "[40022 rows x 23 columns]"
      ],
      "text/html": "<div>\n<style scoped>\n    .dataframe tbody tr th:only-of-type {\n        vertical-align: middle;\n    }\n\n    .dataframe tbody tr th {\n        vertical-align: top;\n    }\n\n    .dataframe thead th {\n        text-align: right;\n    }\n</style>\n<table border=\"1\" class=\"dataframe\">\n  <thead>\n    <tr style=\"text-align: right;\">\n      <th></th>\n      <th>IBLOCK_ELEMENT_ID</th>\n      <th>ALSO_BUY</th>\n      <th>ANALOGS</th>\n      <th>BRAND_ID</th>\n      <th>BUY_COUNT</th>\n      <th>COUNTRY</th>\n      <th>COURSE_QUANTITY</th>\n      <th>DOSAGE</th>\n      <th>DRUG_FORM</th>\n      <th>FEATURES</th>\n      <th>...</th>\n      <th>MANUFACTURER</th>\n      <th>MANUFACTURER</th>\n      <th>MANUFACTURER_ID</th>\n      <th>NEED_RECIPE</th>\n      <th>OFFER_TYPE</th>\n      <th>PACKING</th>\n      <th>PHARMACOLOGICAL_SECTION</th>\n      <th>SPECIAL_s1</th>\n      <th>TYPE</th>\n      <th>VENDOR_CODE</th>\n    </tr>\n  </thead>\n  <tbody>\n    <tr>\n      <th>0</th>\n      <td>461363</td>\n      <td>a:3:{s:5:\"VALUE\";a:0:{}s:11:\"DESCRIPTION\";a:0:...</td>\n      <td>a:3:{s:5:\"VALUE\";a:0:{}s:11:\"DESCRIPTION\";a:0:...</td>\n      <td>23a5c4b5-6f26-4053-b728-cb864a4edcbd</td>\n      <td>66</td>\n      <td>США</td>\n      <td>NaN</td>\n      <td>100 мг</td>\n      <td>таблетки</td>\n      <td>100177</td>\n      <td>...</td>\n      <td>Пфайзер</td>\n      <td></td>\n      <td>a219a283-5674-498e-a828-d11bd7d7c4fc</td>\n      <td>0.0</td>\n      <td>drug</td>\n      <td>2</td>\n      <td>a:3:{s:5:\"VALUE\";a:2:{i:0;s:4:\"6817\";i:1;s:4:\"...</td>\n      <td>a:3:{s:5:\"VALUE\";a:0:{}s:11:\"DESCRIPTION\";a:0:...</td>\n      <td>RX</td>\n      <td></td>\n    </tr>\n    <tr>\n      <th>1</th>\n      <td>461364</td>\n      <td>a:3:{s:5:\"VALUE\";a:0:{}s:11:\"DESCRIPTION\";a:0:...</td>\n      <td>a:3:{s:5:\"VALUE\";a:0:{}s:11:\"DESCRIPTION\";a:0:...</td>\n      <td>23a5c4b5-6f26-4053-b728-cb864a4edcbd</td>\n      <td>26</td>\n      <td>США</td>\n      <td>NaN</td>\n      <td>50 мг</td>\n      <td>таблетки</td>\n      <td>100178</td>\n      <td>...</td>\n      <td>Пфайзер</td>\n      <td></td>\n      <td>a219a283-5674-498e-a828-d11bd7d7c4fc</td>\n      <td>0.0</td>\n      <td>drug</td>\n      <td>2</td>\n      <td>a:3:{s:5:\"VALUE\";a:1:{i:0;s:4:\"6817\";}s:11:\"DE...</td>\n      <td>a:3:{s:5:\"VALUE\";a:0:{}s:11:\"DESCRIPTION\";a:0:...</td>\n      <td>RX</td>\n      <td></td>\n    </tr>\n    <tr>\n      <th>2</th>\n      <td>461365</td>\n      <td>a:3:{s:5:\"VALUE\";a:0:{}s:11:\"DESCRIPTION\";a:0:...</td>\n      <td>a:3:{s:5:\"VALUE\";a:0:{}s:11:\"DESCRIPTION\";a:0:...</td>\n      <td>23a5c4b5-6f26-4053-b728-cb864a4edcbd</td>\n      <td>20</td>\n      <td>США</td>\n      <td>NaN</td>\n      <td>25 мг</td>\n      <td>таблетки</td>\n      <td>100180</td>\n      <td>...</td>\n      <td>Пфайзер</td>\n      <td></td>\n      <td>a219a283-5674-498e-a828-d11bd7d7c4fc</td>\n      <td>0.0</td>\n      <td>drug</td>\n      <td>1</td>\n      <td>a:3:{s:5:\"VALUE\";a:1:{i:0;s:4:\"6817\";}s:11:\"DE...</td>\n      <td>a:3:{s:5:\"VALUE\";a:0:{}s:11:\"DESCRIPTION\";a:0:...</td>\n      <td>RX</td>\n      <td></td>\n    </tr>\n    <tr>\n      <th>3</th>\n      <td>461366</td>\n      <td>a:3:{s:5:\"VALUE\";a:0:{}s:11:\"DESCRIPTION\";a:0:...</td>\n      <td>a:3:{s:5:\"VALUE\";a:0:{}s:11:\"DESCRIPTION\";a:0:...</td>\n      <td>23a5c4b5-6f26-4053-b728-cb864a4edcbd</td>\n      <td>28</td>\n      <td>США</td>\n      <td>NaN</td>\n      <td>50 мг</td>\n      <td>таблетки</td>\n      <td>100183</td>\n      <td>...</td>\n      <td>Пфайзер</td>\n      <td></td>\n      <td>a219a283-5674-498e-a828-d11bd7d7c4fc</td>\n      <td>0.0</td>\n      <td>drug</td>\n      <td>1</td>\n      <td>a:3:{s:5:\"VALUE\";a:1:{i:0;s:4:\"6817\";}s:11:\"DE...</td>\n      <td>a:3:{s:5:\"VALUE\";a:0:{}s:11:\"DESCRIPTION\";a:0:...</td>\n      <td>RX</td>\n      <td></td>\n    </tr>\n    <tr>\n      <th>4</th>\n      <td>461367</td>\n      <td>a:3:{s:5:\"VALUE\";a:0:{}s:11:\"DESCRIPTION\";a:0:...</td>\n      <td>a:3:{s:5:\"VALUE\";a:0:{}s:11:\"DESCRIPTION\";a:0:...</td>\n      <td>23a5c4b5-6f26-4053-b728-cb864a4edcbd</td>\n      <td>22</td>\n      <td>США</td>\n      <td>NaN</td>\n      <td>50 мг</td>\n      <td>таблетки</td>\n      <td>100184</td>\n      <td>...</td>\n      <td>Пфайзер</td>\n      <td></td>\n      <td>a219a283-5674-498e-a828-d11bd7d7c4fc</td>\n      <td>0.0</td>\n      <td>drug</td>\n      <td>4</td>\n      <td>a:3:{s:5:\"VALUE\";a:2:{i:0;s:4:\"6817\";i:1;s:4:\"...</td>\n      <td>a:3:{s:5:\"VALUE\";a:0:{}s:11:\"DESCRIPTION\";a:0:...</td>\n      <td>RX</td>\n      <td></td>\n    </tr>\n    <tr>\n      <th>...</th>\n      <td>...</td>\n      <td>...</td>\n      <td>...</td>\n      <td>...</td>\n      <td>...</td>\n      <td>...</td>\n      <td>...</td>\n      <td>...</td>\n      <td>...</td>\n      <td>...</td>\n      <td>...</td>\n      <td>...</td>\n      <td>...</td>\n      <td>...</td>\n      <td>...</td>\n      <td>...</td>\n      <td>...</td>\n      <td>...</td>\n      <td>...</td>\n      <td>...</td>\n      <td>...</td>\n    </tr>\n    <tr>\n      <th>40017</th>\n      <td>1311472</td>\n      <td>None</td>\n      <td>None</td>\n      <td>9aca1a48-6306-b673-9141-c7c6dcedd585</td>\n      <td>7</td>\n      <td>None</td>\n      <td>NaN</td>\n      <td></td>\n      <td></td>\n      <td></td>\n      <td>...</td>\n      <td>None</td>\n      <td></td>\n      <td>a0cf8fbc-e423-ab7b-e017-add4c7777ead</td>\n      <td>0.0</td>\n      <td>None</td>\n      <td></td>\n      <td>None</td>\n      <td>None</td>\n      <td>ПФ</td>\n      <td>None</td>\n    </tr>\n    <tr>\n      <th>40018</th>\n      <td>1311513</td>\n      <td>None</td>\n      <td>None</td>\n      <td></td>\n      <td>1</td>\n      <td>None</td>\n      <td>NaN</td>\n      <td></td>\n      <td></td>\n      <td>490492</td>\n      <td>...</td>\n      <td>None</td>\n      <td></td>\n      <td>64bad913-7136-939b-64ec-ea9f7093651c</td>\n      <td>0.0</td>\n      <td>None</td>\n      <td>250 мл</td>\n      <td>None</td>\n      <td>None</td>\n      <td>ПФ</td>\n      <td>None</td>\n    </tr>\n    <tr>\n      <th>40019</th>\n      <td>1311514</td>\n      <td>None</td>\n      <td>None</td>\n      <td>ebadd128-2438-4f50-8609-2a74188b1393</td>\n      <td>2</td>\n      <td>None</td>\n      <td>NaN</td>\n      <td></td>\n      <td></td>\n      <td></td>\n      <td>...</td>\n      <td>None</td>\n      <td></td>\n      <td>7321bc80-f24a-4ee1-8ae8-d51e9cca9df6</td>\n      <td>0.0</td>\n      <td>None</td>\n      <td></td>\n      <td>None</td>\n      <td>None</td>\n      <td>ПФ</td>\n      <td>None</td>\n    </tr>\n    <tr>\n      <th>40020</th>\n      <td>1311515</td>\n      <td>None</td>\n      <td>None</td>\n      <td>26baf9da-8f8e-49fb-97cb-c0b1ed6ae21d</td>\n      <td>6</td>\n      <td>None</td>\n      <td>NaN</td>\n      <td></td>\n      <td></td>\n      <td></td>\n      <td>...</td>\n      <td>None</td>\n      <td></td>\n      <td>7c54231b-5026-466e-a1d5-1deecdb0443d</td>\n      <td>0.0</td>\n      <td>None</td>\n      <td></td>\n      <td>None</td>\n      <td>None</td>\n      <td>ПФ</td>\n      <td>None</td>\n    </tr>\n    <tr>\n      <th>40021</th>\n      <td>1316818</td>\n      <td>None</td>\n      <td>None</td>\n      <td>14bada28-24b5-4447-8288-b7a5b53068b7</td>\n      <td>23</td>\n      <td>None</td>\n      <td>NaN</td>\n      <td>500 мг</td>\n      <td>таблетки</td>\n      <td>204079</td>\n      <td>...</td>\n      <td>None</td>\n      <td></td>\n      <td>60be33c3-9a02-1ac1-3025-fb48d54eb114</td>\n      <td>0.0</td>\n      <td>None</td>\n      <td>100</td>\n      <td>None</td>\n      <td>None</td>\n      <td>ОТС</td>\n      <td>None</td>\n    </tr>\n  </tbody>\n</table>\n<p>40022 rows × 23 columns</p>\n</div>"
     },
     "metadata": {},
     "execution_count": 101
    }
   ],
   "source": [
    "col = ['IBLOCK_ELEMENT_ID']\n",
    "for i, I in property.drop(index=[20, 21, 23]).iterrows():\n",
    "    col.append(I.CODE)\n",
    "propertyV.columns = col\n",
    "propertyV"
   ]
  },
  {
   "cell_type": "code",
   "execution_count": 98,
   "metadata": {},
   "outputs": [
    {
     "output_type": "execute_result",
     "data": {
      "text/plain": [
       "         ORDER_ID  PRODUCT_ID  QANTITY   PRICE            DETAIL_PAGE_URL\n",
       "0        11881925      873128      1.0  2554.0           /goods/id303563/\n",
       "1        11881927      461853      4.0   675.0           /goods/id116631/\n",
       "2        11881937      466634      4.0   222.0       /spb/goods/id215482/\n",
       "3        11881937      465982      4.0   179.0       /spb/goods/id214008/\n",
       "4        11881937      477396      4.0   126.0       /spb/goods/id241663/\n",
       "...           ...         ...      ...     ...                        ...\n",
       "1254293  13584077      466585      1.0   520.0   /saratov/goods/id215398/\n",
       "1254294  13584321      463097      2.0   348.0       /perm/goods/id20631/\n",
       "1254295  13584324      468104      1.0  2382.0  /tolyatti/goods/id219056/\n",
       "1254296  13584488      464160      1.0   828.0           /goods/id209967/\n",
       "1254297  13584488      463081      1.0   921.0           /goods/id206251/\n",
       "\n",
       "[1254298 rows x 5 columns]"
      ],
      "text/html": "<div>\n<style scoped>\n    .dataframe tbody tr th:only-of-type {\n        vertical-align: middle;\n    }\n\n    .dataframe tbody tr th {\n        vertical-align: top;\n    }\n\n    .dataframe thead th {\n        text-align: right;\n    }\n</style>\n<table border=\"1\" class=\"dataframe\">\n  <thead>\n    <tr style=\"text-align: right;\">\n      <th></th>\n      <th>ORDER_ID</th>\n      <th>PRODUCT_ID</th>\n      <th>QANTITY</th>\n      <th>PRICE</th>\n      <th>DETAIL_PAGE_URL</th>\n    </tr>\n  </thead>\n  <tbody>\n    <tr>\n      <th>0</th>\n      <td>11881925</td>\n      <td>873128</td>\n      <td>1.0</td>\n      <td>2554.0</td>\n      <td>/goods/id303563/</td>\n    </tr>\n    <tr>\n      <th>1</th>\n      <td>11881927</td>\n      <td>461853</td>\n      <td>4.0</td>\n      <td>675.0</td>\n      <td>/goods/id116631/</td>\n    </tr>\n    <tr>\n      <th>2</th>\n      <td>11881937</td>\n      <td>466634</td>\n      <td>4.0</td>\n      <td>222.0</td>\n      <td>/spb/goods/id215482/</td>\n    </tr>\n    <tr>\n      <th>3</th>\n      <td>11881937</td>\n      <td>465982</td>\n      <td>4.0</td>\n      <td>179.0</td>\n      <td>/spb/goods/id214008/</td>\n    </tr>\n    <tr>\n      <th>4</th>\n      <td>11881937</td>\n      <td>477396</td>\n      <td>4.0</td>\n      <td>126.0</td>\n      <td>/spb/goods/id241663/</td>\n    </tr>\n    <tr>\n      <th>...</th>\n      <td>...</td>\n      <td>...</td>\n      <td>...</td>\n      <td>...</td>\n      <td>...</td>\n    </tr>\n    <tr>\n      <th>1254293</th>\n      <td>13584077</td>\n      <td>466585</td>\n      <td>1.0</td>\n      <td>520.0</td>\n      <td>/saratov/goods/id215398/</td>\n    </tr>\n    <tr>\n      <th>1254294</th>\n      <td>13584321</td>\n      <td>463097</td>\n      <td>2.0</td>\n      <td>348.0</td>\n      <td>/perm/goods/id20631/</td>\n    </tr>\n    <tr>\n      <th>1254295</th>\n      <td>13584324</td>\n      <td>468104</td>\n      <td>1.0</td>\n      <td>2382.0</td>\n      <td>/tolyatti/goods/id219056/</td>\n    </tr>\n    <tr>\n      <th>1254296</th>\n      <td>13584488</td>\n      <td>464160</td>\n      <td>1.0</td>\n      <td>828.0</td>\n      <td>/goods/id209967/</td>\n    </tr>\n    <tr>\n      <th>1254297</th>\n      <td>13584488</td>\n      <td>463081</td>\n      <td>1.0</td>\n      <td>921.0</td>\n      <td>/goods/id206251/</td>\n    </tr>\n  </tbody>\n</table>\n<p>1254298 rows × 5 columns</p>\n</div>"
     },
     "metadata": {},
     "execution_count": 98
    }
   ],
   "source": [
    "basket"
   ]
  },
  {
   "cell_type": "code",
   "execution_count": 106,
   "metadata": {},
   "outputs": [
    {
     "output_type": "execute_result",
     "data": {
      "text/plain": [
       "              ID  PERSON_TYPE_ID          DATE_INSERT STATUS_ID LID  USER_ID\n",
       "0       12076390               1  2021-03-11 22:06:59         F  s1       44\n",
       "1       12389466               1  2021-03-25 16:05:36         F  s1       44\n",
       "2       12608530               1  2021-04-04 18:18:30         F  s1       44\n",
       "3       12728691               1  2021-04-09 19:18:28         F  s1       44\n",
       "4       12730596               1  2021-04-09 21:00:28         F  s1       44\n",
       "...          ...             ...                  ...       ...  ..      ...\n",
       "468664  13576933               1  2021-05-21 12:12:59         F  s1  4937213\n",
       "468665  13577180               1  2021-05-21 12:24:27         F  s1  4937213\n",
       "468666  13576906               1  2021-05-21 12:11:58         F  s1  4938814\n",
       "468667  13579468               1  2021-05-21 14:02:33         F  s1  4938814\n",
       "468668  13581791               1  2021-05-21 15:43:30         F  s1  4938814\n",
       "\n",
       "[468669 rows x 6 columns]"
      ],
      "text/html": "<div>\n<style scoped>\n    .dataframe tbody tr th:only-of-type {\n        vertical-align: middle;\n    }\n\n    .dataframe tbody tr th {\n        vertical-align: top;\n    }\n\n    .dataframe thead th {\n        text-align: right;\n    }\n</style>\n<table border=\"1\" class=\"dataframe\">\n  <thead>\n    <tr style=\"text-align: right;\">\n      <th></th>\n      <th>ID</th>\n      <th>PERSON_TYPE_ID</th>\n      <th>DATE_INSERT</th>\n      <th>STATUS_ID</th>\n      <th>LID</th>\n      <th>USER_ID</th>\n    </tr>\n  </thead>\n  <tbody>\n    <tr>\n      <th>0</th>\n      <td>12076390</td>\n      <td>1</td>\n      <td>2021-03-11 22:06:59</td>\n      <td>F</td>\n      <td>s1</td>\n      <td>44</td>\n    </tr>\n    <tr>\n      <th>1</th>\n      <td>12389466</td>\n      <td>1</td>\n      <td>2021-03-25 16:05:36</td>\n      <td>F</td>\n      <td>s1</td>\n      <td>44</td>\n    </tr>\n    <tr>\n      <th>2</th>\n      <td>12608530</td>\n      <td>1</td>\n      <td>2021-04-04 18:18:30</td>\n      <td>F</td>\n      <td>s1</td>\n      <td>44</td>\n    </tr>\n    <tr>\n      <th>3</th>\n      <td>12728691</td>\n      <td>1</td>\n      <td>2021-04-09 19:18:28</td>\n      <td>F</td>\n      <td>s1</td>\n      <td>44</td>\n    </tr>\n    <tr>\n      <th>4</th>\n      <td>12730596</td>\n      <td>1</td>\n      <td>2021-04-09 21:00:28</td>\n      <td>F</td>\n      <td>s1</td>\n      <td>44</td>\n    </tr>\n    <tr>\n      <th>...</th>\n      <td>...</td>\n      <td>...</td>\n      <td>...</td>\n      <td>...</td>\n      <td>...</td>\n      <td>...</td>\n    </tr>\n    <tr>\n      <th>468664</th>\n      <td>13576933</td>\n      <td>1</td>\n      <td>2021-05-21 12:12:59</td>\n      <td>F</td>\n      <td>s1</td>\n      <td>4937213</td>\n    </tr>\n    <tr>\n      <th>468665</th>\n      <td>13577180</td>\n      <td>1</td>\n      <td>2021-05-21 12:24:27</td>\n      <td>F</td>\n      <td>s1</td>\n      <td>4937213</td>\n    </tr>\n    <tr>\n      <th>468666</th>\n      <td>13576906</td>\n      <td>1</td>\n      <td>2021-05-21 12:11:58</td>\n      <td>F</td>\n      <td>s1</td>\n      <td>4938814</td>\n    </tr>\n    <tr>\n      <th>468667</th>\n      <td>13579468</td>\n      <td>1</td>\n      <td>2021-05-21 14:02:33</td>\n      <td>F</td>\n      <td>s1</td>\n      <td>4938814</td>\n    </tr>\n    <tr>\n      <th>468668</th>\n      <td>13581791</td>\n      <td>1</td>\n      <td>2021-05-21 15:43:30</td>\n      <td>F</td>\n      <td>s1</td>\n      <td>4938814</td>\n    </tr>\n  </tbody>\n</table>\n<p>468669 rows × 6 columns</p>\n</div>"
     },
     "metadata": {},
     "execution_count": 106
    }
   ],
   "source": [
    "order"
   ]
  },
  {
   "cell_type": "code",
   "execution_count": 112,
   "metadata": {},
   "outputs": [
    {
     "output_type": "execute_result",
     "data": {
      "text/plain": [
       "              ID  PERSON_TYPE_ID          DATE_INSERT STATUS_ID LID  USER_ID\n",
       "2074    11945835               2  2021-03-04 15:02:45         F  s1    25554\n",
       "2075    11978062               2  2021-03-06 16:00:06         F  s1    25554\n",
       "2076    12146771               2  2021-03-15 09:51:21         F  s1    25554\n",
       "2077    12518189               2  2021-03-31 15:36:08         F  s1    25554\n",
       "2078    12673514               2  2021-04-07 13:53:51         F  s1    25554\n",
       "...          ...             ...                  ...       ...  ..      ...\n",
       "423904  13271442               2  2021-05-06 09:52:35         F  s1  4395888\n",
       "423905  13388018               2  2021-05-12 10:31:43         F  s1  4395888\n",
       "423906  13412999               2  2021-05-13 13:09:17         F  s1  4395888\n",
       "423907  13486596               2  2021-05-17 10:57:32         F  s1  4395888\n",
       "460862  13090564               2  2021-04-27 00:12:56         F  s1  4703534\n",
       "\n",
       "[220 rows x 6 columns]"
      ],
      "text/html": "<div>\n<style scoped>\n    .dataframe tbody tr th:only-of-type {\n        vertical-align: middle;\n    }\n\n    .dataframe tbody tr th {\n        vertical-align: top;\n    }\n\n    .dataframe thead th {\n        text-align: right;\n    }\n</style>\n<table border=\"1\" class=\"dataframe\">\n  <thead>\n    <tr style=\"text-align: right;\">\n      <th></th>\n      <th>ID</th>\n      <th>PERSON_TYPE_ID</th>\n      <th>DATE_INSERT</th>\n      <th>STATUS_ID</th>\n      <th>LID</th>\n      <th>USER_ID</th>\n    </tr>\n  </thead>\n  <tbody>\n    <tr>\n      <th>2074</th>\n      <td>11945835</td>\n      <td>2</td>\n      <td>2021-03-04 15:02:45</td>\n      <td>F</td>\n      <td>s1</td>\n      <td>25554</td>\n    </tr>\n    <tr>\n      <th>2075</th>\n      <td>11978062</td>\n      <td>2</td>\n      <td>2021-03-06 16:00:06</td>\n      <td>F</td>\n      <td>s1</td>\n      <td>25554</td>\n    </tr>\n    <tr>\n      <th>2076</th>\n      <td>12146771</td>\n      <td>2</td>\n      <td>2021-03-15 09:51:21</td>\n      <td>F</td>\n      <td>s1</td>\n      <td>25554</td>\n    </tr>\n    <tr>\n      <th>2077</th>\n      <td>12518189</td>\n      <td>2</td>\n      <td>2021-03-31 15:36:08</td>\n      <td>F</td>\n      <td>s1</td>\n      <td>25554</td>\n    </tr>\n    <tr>\n      <th>2078</th>\n      <td>12673514</td>\n      <td>2</td>\n      <td>2021-04-07 13:53:51</td>\n      <td>F</td>\n      <td>s1</td>\n      <td>25554</td>\n    </tr>\n    <tr>\n      <th>...</th>\n      <td>...</td>\n      <td>...</td>\n      <td>...</td>\n      <td>...</td>\n      <td>...</td>\n      <td>...</td>\n    </tr>\n    <tr>\n      <th>423904</th>\n      <td>13271442</td>\n      <td>2</td>\n      <td>2021-05-06 09:52:35</td>\n      <td>F</td>\n      <td>s1</td>\n      <td>4395888</td>\n    </tr>\n    <tr>\n      <th>423905</th>\n      <td>13388018</td>\n      <td>2</td>\n      <td>2021-05-12 10:31:43</td>\n      <td>F</td>\n      <td>s1</td>\n      <td>4395888</td>\n    </tr>\n    <tr>\n      <th>423906</th>\n      <td>13412999</td>\n      <td>2</td>\n      <td>2021-05-13 13:09:17</td>\n      <td>F</td>\n      <td>s1</td>\n      <td>4395888</td>\n    </tr>\n    <tr>\n      <th>423907</th>\n      <td>13486596</td>\n      <td>2</td>\n      <td>2021-05-17 10:57:32</td>\n      <td>F</td>\n      <td>s1</td>\n      <td>4395888</td>\n    </tr>\n    <tr>\n      <th>460862</th>\n      <td>13090564</td>\n      <td>2</td>\n      <td>2021-04-27 00:12:56</td>\n      <td>F</td>\n      <td>s1</td>\n      <td>4703534</td>\n    </tr>\n  </tbody>\n</table>\n<p>220 rows × 6 columns</p>\n</div>"
     },
     "metadata": {},
     "execution_count": 112
    }
   ],
   "source": [
    "order[order['PERSON_TYPE_ID']!=1]#[order['PERSON_TYPE_ID']!=2]"
   ]
  },
  {
   "cell_type": "code",
   "execution_count": 100,
   "metadata": {},
   "outputs": [
    {
     "output_type": "execute_result",
     "data": {
      "text/plain": [
       "            ID                                               NAME\n",
       "0       461363                     Виагра, таблетки 100 мг, 2 шт.\n",
       "1       461364                      Виагра, таблетки 50 мг, 2 шт.\n",
       "2       461365                      Виагра, таблетки 25 мг, 1 шт.\n",
       "3       461366                      Виагра, таблетки 50 мг, 1 шт.\n",
       "4       461367                      Виагра, таблетки 50 мг, 4 шт.\n",
       "...        ...                                                ...\n",
       "40017  1311472  Medhelp Лейкопластырь фиксирующий на шелковой ...\n",
       "40018  1311513        Топинамбур Премиум сироп без сахара, 250 мл\n",
       "40019  1311514  Maneki Диски ватные двусторонние косметические...\n",
       "40020  1311515  Vichy Purete Thermale набор Тоник 200 мл+Гель ...\n",
       "40021  1316818                  Магнерот таблетки 500 мг, 100 шт.\n",
       "\n",
       "[40022 rows x 2 columns]"
      ],
      "text/html": "<div>\n<style scoped>\n    .dataframe tbody tr th:only-of-type {\n        vertical-align: middle;\n    }\n\n    .dataframe tbody tr th {\n        vertical-align: top;\n    }\n\n    .dataframe thead th {\n        text-align: right;\n    }\n</style>\n<table border=\"1\" class=\"dataframe\">\n  <thead>\n    <tr style=\"text-align: right;\">\n      <th></th>\n      <th>ID</th>\n      <th>NAME</th>\n    </tr>\n  </thead>\n  <tbody>\n    <tr>\n      <th>0</th>\n      <td>461363</td>\n      <td>Виагра, таблетки 100 мг, 2 шт.</td>\n    </tr>\n    <tr>\n      <th>1</th>\n      <td>461364</td>\n      <td>Виагра, таблетки 50 мг, 2 шт.</td>\n    </tr>\n    <tr>\n      <th>2</th>\n      <td>461365</td>\n      <td>Виагра, таблетки 25 мг, 1 шт.</td>\n    </tr>\n    <tr>\n      <th>3</th>\n      <td>461366</td>\n      <td>Виагра, таблетки 50 мг, 1 шт.</td>\n    </tr>\n    <tr>\n      <th>4</th>\n      <td>461367</td>\n      <td>Виагра, таблетки 50 мг, 4 шт.</td>\n    </tr>\n    <tr>\n      <th>...</th>\n      <td>...</td>\n      <td>...</td>\n    </tr>\n    <tr>\n      <th>40017</th>\n      <td>1311472</td>\n      <td>Medhelp Лейкопластырь фиксирующий на шелковой ...</td>\n    </tr>\n    <tr>\n      <th>40018</th>\n      <td>1311513</td>\n      <td>Топинамбур Премиум сироп без сахара, 250 мл</td>\n    </tr>\n    <tr>\n      <th>40019</th>\n      <td>1311514</td>\n      <td>Maneki Диски ватные двусторонние косметические...</td>\n    </tr>\n    <tr>\n      <th>40020</th>\n      <td>1311515</td>\n      <td>Vichy Purete Thermale набор Тоник 200 мл+Гель ...</td>\n    </tr>\n    <tr>\n      <th>40021</th>\n      <td>1316818</td>\n      <td>Магнерот таблетки 500 мг, 100 шт.</td>\n    </tr>\n  </tbody>\n</table>\n<p>40022 rows × 2 columns</p>\n</div>"
     },
     "metadata": {},
     "execution_count": 100
    }
   ],
   "source": [
    "products"
   ]
  },
  {
   "cell_type": "code",
   "execution_count": 104,
   "metadata": {},
   "outputs": [
    {
     "output_type": "execute_result",
     "data": {
      "text/plain": [
       "       IBLOCK_ELEMENT_ID IBLOCK_PROPERTY_ID    VALUE VALUE_ENUM  VALUE_NUM  \\\n",
       "0                 461363                356     6817       None     6817.0   \n",
       "1                 461363                356     9528       None     9528.0   \n",
       "2                 461364                356     6817       None     6817.0   \n",
       "3                 461365                356     6817       None     6817.0   \n",
       "4                 461366                356     6817       None     6817.0   \n",
       "...                  ...                ...      ...        ...        ...   \n",
       "67572            1296503                276   886694       None   886694.0   \n",
       "67573            1297833                276   464861       None   464861.0   \n",
       "67574            1297833                276   515491       None   515491.0   \n",
       "67575            1299717                276  1033550       None  1033550.0   \n",
       "67576            1308333                567  1080337       None  1080337.0   \n",
       "\n",
       "      DESCRIPTION  \n",
       "0            None  \n",
       "1            None  \n",
       "2            None  \n",
       "3            None  \n",
       "4            None  \n",
       "...           ...  \n",
       "67572              \n",
       "67573              \n",
       "67574              \n",
       "67575              \n",
       "67576        None  \n",
       "\n",
       "[67577 rows x 6 columns]"
      ],
      "text/html": "<div>\n<style scoped>\n    .dataframe tbody tr th:only-of-type {\n        vertical-align: middle;\n    }\n\n    .dataframe tbody tr th {\n        vertical-align: top;\n    }\n\n    .dataframe thead th {\n        text-align: right;\n    }\n</style>\n<table border=\"1\" class=\"dataframe\">\n  <thead>\n    <tr style=\"text-align: right;\">\n      <th></th>\n      <th>IBLOCK_ELEMENT_ID</th>\n      <th>IBLOCK_PROPERTY_ID</th>\n      <th>VALUE</th>\n      <th>VALUE_ENUM</th>\n      <th>VALUE_NUM</th>\n      <th>DESCRIPTION</th>\n    </tr>\n  </thead>\n  <tbody>\n    <tr>\n      <th>0</th>\n      <td>461363</td>\n      <td>356</td>\n      <td>6817</td>\n      <td>None</td>\n      <td>6817.0</td>\n      <td>None</td>\n    </tr>\n    <tr>\n      <th>1</th>\n      <td>461363</td>\n      <td>356</td>\n      <td>9528</td>\n      <td>None</td>\n      <td>9528.0</td>\n      <td>None</td>\n    </tr>\n    <tr>\n      <th>2</th>\n      <td>461364</td>\n      <td>356</td>\n      <td>6817</td>\n      <td>None</td>\n      <td>6817.0</td>\n      <td>None</td>\n    </tr>\n    <tr>\n      <th>3</th>\n      <td>461365</td>\n      <td>356</td>\n      <td>6817</td>\n      <td>None</td>\n      <td>6817.0</td>\n      <td>None</td>\n    </tr>\n    <tr>\n      <th>4</th>\n      <td>461366</td>\n      <td>356</td>\n      <td>6817</td>\n      <td>None</td>\n      <td>6817.0</td>\n      <td>None</td>\n    </tr>\n    <tr>\n      <th>...</th>\n      <td>...</td>\n      <td>...</td>\n      <td>...</td>\n      <td>...</td>\n      <td>...</td>\n      <td>...</td>\n    </tr>\n    <tr>\n      <th>67572</th>\n      <td>1296503</td>\n      <td>276</td>\n      <td>886694</td>\n      <td>None</td>\n      <td>886694.0</td>\n      <td></td>\n    </tr>\n    <tr>\n      <th>67573</th>\n      <td>1297833</td>\n      <td>276</td>\n      <td>464861</td>\n      <td>None</td>\n      <td>464861.0</td>\n      <td></td>\n    </tr>\n    <tr>\n      <th>67574</th>\n      <td>1297833</td>\n      <td>276</td>\n      <td>515491</td>\n      <td>None</td>\n      <td>515491.0</td>\n      <td></td>\n    </tr>\n    <tr>\n      <th>67575</th>\n      <td>1299717</td>\n      <td>276</td>\n      <td>1033550</td>\n      <td>None</td>\n      <td>1033550.0</td>\n      <td></td>\n    </tr>\n    <tr>\n      <th>67576</th>\n      <td>1308333</td>\n      <td>567</td>\n      <td>1080337</td>\n      <td>None</td>\n      <td>1080337.0</td>\n      <td>None</td>\n    </tr>\n  </tbody>\n</table>\n<p>67577 rows × 6 columns</p>\n</div>"
     },
     "metadata": {},
     "execution_count": 104
    }
   ],
   "source": [
    "propertyM"
   ]
  },
  {
   "cell_type": "code",
   "execution_count": 83,
   "metadata": {},
   "outputs": [
    {
     "output_type": "execute_result",
     "data": {
      "text/plain": [
       "       IBLOCK_ELEMENT_ID                                           ALSO_BUY  \\\n",
       "0                 461363  a:3:{s:5:\"VALUE\";a:0:{}s:11:\"DESCRIPTION\";a:0:...   \n",
       "1                 461364  a:3:{s:5:\"VALUE\";a:0:{}s:11:\"DESCRIPTION\";a:0:...   \n",
       "2                 461365  a:3:{s:5:\"VALUE\";a:0:{}s:11:\"DESCRIPTION\";a:0:...   \n",
       "3                 461366  a:3:{s:5:\"VALUE\";a:0:{}s:11:\"DESCRIPTION\";a:0:...   \n",
       "4                 461367  a:3:{s:5:\"VALUE\";a:0:{}s:11:\"DESCRIPTION\";a:0:...   \n",
       "...                  ...                                                ...   \n",
       "40017            1311472                                               None   \n",
       "40018            1311513                                               None   \n",
       "40019            1311514                                               None   \n",
       "40020            1311515                                               None   \n",
       "40021            1316818                                               None   \n",
       "\n",
       "                                                 ANALOGS  \\\n",
       "0      a:3:{s:5:\"VALUE\";a:0:{}s:11:\"DESCRIPTION\";a:0:...   \n",
       "1      a:3:{s:5:\"VALUE\";a:0:{}s:11:\"DESCRIPTION\";a:0:...   \n",
       "2      a:3:{s:5:\"VALUE\";a:0:{}s:11:\"DESCRIPTION\";a:0:...   \n",
       "3      a:3:{s:5:\"VALUE\";a:0:{}s:11:\"DESCRIPTION\";a:0:...   \n",
       "4      a:3:{s:5:\"VALUE\";a:0:{}s:11:\"DESCRIPTION\";a:0:...   \n",
       "...                                                  ...   \n",
       "40017                                               None   \n",
       "40018                                               None   \n",
       "40019                                               None   \n",
       "40020                                               None   \n",
       "40021                                               None   \n",
       "\n",
       "                                   BRAND_ID  BUY_COUNT COUNTRY  \\\n",
       "0      23a5c4b5-6f26-4053-b728-cb864a4edcbd         66     США   \n",
       "1      23a5c4b5-6f26-4053-b728-cb864a4edcbd         26     США   \n",
       "2      23a5c4b5-6f26-4053-b728-cb864a4edcbd         20     США   \n",
       "3      23a5c4b5-6f26-4053-b728-cb864a4edcbd         28     США   \n",
       "4      23a5c4b5-6f26-4053-b728-cb864a4edcbd         22     США   \n",
       "...                                     ...        ...     ...   \n",
       "40017  9aca1a48-6306-b673-9141-c7c6dcedd585          7    None   \n",
       "40018                                                1    None   \n",
       "40019  ebadd128-2438-4f50-8609-2a74188b1393          2    None   \n",
       "40020  26baf9da-8f8e-49fb-97cb-c0b1ed6ae21d          6    None   \n",
       "40021  14bada28-24b5-4447-8288-b7a5b53068b7         23    None   \n",
       "\n",
       "       COURSE_QUANTITY  DOSAGE DRUG_FORM FEATURES  ... MANUFACTURER  \\\n",
       "0                  NaN  100 мг  таблетки   100177  ...      Пфайзер   \n",
       "1                  NaN   50 мг  таблетки   100178  ...      Пфайзер   \n",
       "2                  NaN   25 мг  таблетки   100180  ...      Пфайзер   \n",
       "3                  NaN   50 мг  таблетки   100183  ...      Пфайзер   \n",
       "4                  NaN   50 мг  таблетки   100184  ...      Пфайзер   \n",
       "...                ...     ...       ...      ...  ...          ...   \n",
       "40017              NaN                             ...         None   \n",
       "40018              NaN                     490492  ...         None   \n",
       "40019              NaN                             ...         None   \n",
       "40020              NaN                             ...         None   \n",
       "40021              NaN  500 мг  таблетки   204079  ...         None   \n",
       "\n",
       "      MANUFACTURER                       MANUFACTURER_ID NEED_RECIPE  \\\n",
       "0                   a219a283-5674-498e-a828-d11bd7d7c4fc           0   \n",
       "1                   a219a283-5674-498e-a828-d11bd7d7c4fc           0   \n",
       "2                   a219a283-5674-498e-a828-d11bd7d7c4fc           0   \n",
       "3                   a219a283-5674-498e-a828-d11bd7d7c4fc           0   \n",
       "4                   a219a283-5674-498e-a828-d11bd7d7c4fc           0   \n",
       "...            ...                                   ...         ...   \n",
       "40017               a0cf8fbc-e423-ab7b-e017-add4c7777ead           0   \n",
       "40018               64bad913-7136-939b-64ec-ea9f7093651c           0   \n",
       "40019               7321bc80-f24a-4ee1-8ae8-d51e9cca9df6           0   \n",
       "40020               7c54231b-5026-466e-a1d5-1deecdb0443d           0   \n",
       "40021               60be33c3-9a02-1ac1-3025-fb48d54eb114           0   \n",
       "\n",
       "      OFFER_TYPE PACKING                            PHARMACOLOGICAL_SECTION  \\\n",
       "0           drug       2  a:3:{s:5:\"VALUE\";a:2:{i:0;s:4:\"6817\";i:1;s:4:\"...   \n",
       "1           drug       2  a:3:{s:5:\"VALUE\";a:1:{i:0;s:4:\"6817\";}s:11:\"DE...   \n",
       "2           drug       1  a:3:{s:5:\"VALUE\";a:1:{i:0;s:4:\"6817\";}s:11:\"DE...   \n",
       "3           drug       1  a:3:{s:5:\"VALUE\";a:1:{i:0;s:4:\"6817\";}s:11:\"DE...   \n",
       "4           drug       4  a:3:{s:5:\"VALUE\";a:2:{i:0;s:4:\"6817\";i:1;s:4:\"...   \n",
       "...          ...     ...                                                ...   \n",
       "40017       None                                                       None   \n",
       "40018       None  250 мл                                               None   \n",
       "40019       None                                                       None   \n",
       "40020       None                                                       None   \n",
       "40021       None     100                                               None   \n",
       "\n",
       "                                              SPECIAL_s1 TYPE VENDOR_CODE  \n",
       "0      a:3:{s:5:\"VALUE\";a:0:{}s:11:\"DESCRIPTION\";a:0:...   RX              \n",
       "1      a:3:{s:5:\"VALUE\";a:0:{}s:11:\"DESCRIPTION\";a:0:...   RX              \n",
       "2      a:3:{s:5:\"VALUE\";a:0:{}s:11:\"DESCRIPTION\";a:0:...   RX              \n",
       "3      a:3:{s:5:\"VALUE\";a:0:{}s:11:\"DESCRIPTION\";a:0:...   RX              \n",
       "4      a:3:{s:5:\"VALUE\";a:0:{}s:11:\"DESCRIPTION\";a:0:...   RX              \n",
       "...                                                  ...  ...         ...  \n",
       "40017                                               None   ПФ        None  \n",
       "40018                                               None   ПФ        None  \n",
       "40019                                               None   ПФ        None  \n",
       "40020                                               None   ПФ        None  \n",
       "40021                                               None  ОТС        None  \n",
       "\n",
       "[40022 rows x 23 columns]"
      ],
      "text/html": "<div>\n<style scoped>\n    .dataframe tbody tr th:only-of-type {\n        vertical-align: middle;\n    }\n\n    .dataframe tbody tr th {\n        vertical-align: top;\n    }\n\n    .dataframe thead th {\n        text-align: right;\n    }\n</style>\n<table border=\"1\" class=\"dataframe\">\n  <thead>\n    <tr style=\"text-align: right;\">\n      <th></th>\n      <th>IBLOCK_ELEMENT_ID</th>\n      <th>ALSO_BUY</th>\n      <th>ANALOGS</th>\n      <th>BRAND_ID</th>\n      <th>BUY_COUNT</th>\n      <th>COUNTRY</th>\n      <th>COURSE_QUANTITY</th>\n      <th>DOSAGE</th>\n      <th>DRUG_FORM</th>\n      <th>FEATURES</th>\n      <th>...</th>\n      <th>MANUFACTURER</th>\n      <th>MANUFACTURER</th>\n      <th>MANUFACTURER_ID</th>\n      <th>NEED_RECIPE</th>\n      <th>OFFER_TYPE</th>\n      <th>PACKING</th>\n      <th>PHARMACOLOGICAL_SECTION</th>\n      <th>SPECIAL_s1</th>\n      <th>TYPE</th>\n      <th>VENDOR_CODE</th>\n    </tr>\n  </thead>\n  <tbody>\n    <tr>\n      <th>0</th>\n      <td>461363</td>\n      <td>a:3:{s:5:\"VALUE\";a:0:{}s:11:\"DESCRIPTION\";a:0:...</td>\n      <td>a:3:{s:5:\"VALUE\";a:0:{}s:11:\"DESCRIPTION\";a:0:...</td>\n      <td>23a5c4b5-6f26-4053-b728-cb864a4edcbd</td>\n      <td>66</td>\n      <td>США</td>\n      <td>NaN</td>\n      <td>100 мг</td>\n      <td>таблетки</td>\n      <td>100177</td>\n      <td>...</td>\n      <td>Пфайзер</td>\n      <td></td>\n      <td>a219a283-5674-498e-a828-d11bd7d7c4fc</td>\n      <td>0</td>\n      <td>drug</td>\n      <td>2</td>\n      <td>a:3:{s:5:\"VALUE\";a:2:{i:0;s:4:\"6817\";i:1;s:4:\"...</td>\n      <td>a:3:{s:5:\"VALUE\";a:0:{}s:11:\"DESCRIPTION\";a:0:...</td>\n      <td>RX</td>\n      <td></td>\n    </tr>\n    <tr>\n      <th>1</th>\n      <td>461364</td>\n      <td>a:3:{s:5:\"VALUE\";a:0:{}s:11:\"DESCRIPTION\";a:0:...</td>\n      <td>a:3:{s:5:\"VALUE\";a:0:{}s:11:\"DESCRIPTION\";a:0:...</td>\n      <td>23a5c4b5-6f26-4053-b728-cb864a4edcbd</td>\n      <td>26</td>\n      <td>США</td>\n      <td>NaN</td>\n      <td>50 мг</td>\n      <td>таблетки</td>\n      <td>100178</td>\n      <td>...</td>\n      <td>Пфайзер</td>\n      <td></td>\n      <td>a219a283-5674-498e-a828-d11bd7d7c4fc</td>\n      <td>0</td>\n      <td>drug</td>\n      <td>2</td>\n      <td>a:3:{s:5:\"VALUE\";a:1:{i:0;s:4:\"6817\";}s:11:\"DE...</td>\n      <td>a:3:{s:5:\"VALUE\";a:0:{}s:11:\"DESCRIPTION\";a:0:...</td>\n      <td>RX</td>\n      <td></td>\n    </tr>\n    <tr>\n      <th>2</th>\n      <td>461365</td>\n      <td>a:3:{s:5:\"VALUE\";a:0:{}s:11:\"DESCRIPTION\";a:0:...</td>\n      <td>a:3:{s:5:\"VALUE\";a:0:{}s:11:\"DESCRIPTION\";a:0:...</td>\n      <td>23a5c4b5-6f26-4053-b728-cb864a4edcbd</td>\n      <td>20</td>\n      <td>США</td>\n      <td>NaN</td>\n      <td>25 мг</td>\n      <td>таблетки</td>\n      <td>100180</td>\n      <td>...</td>\n      <td>Пфайзер</td>\n      <td></td>\n      <td>a219a283-5674-498e-a828-d11bd7d7c4fc</td>\n      <td>0</td>\n      <td>drug</td>\n      <td>1</td>\n      <td>a:3:{s:5:\"VALUE\";a:1:{i:0;s:4:\"6817\";}s:11:\"DE...</td>\n      <td>a:3:{s:5:\"VALUE\";a:0:{}s:11:\"DESCRIPTION\";a:0:...</td>\n      <td>RX</td>\n      <td></td>\n    </tr>\n    <tr>\n      <th>3</th>\n      <td>461366</td>\n      <td>a:3:{s:5:\"VALUE\";a:0:{}s:11:\"DESCRIPTION\";a:0:...</td>\n      <td>a:3:{s:5:\"VALUE\";a:0:{}s:11:\"DESCRIPTION\";a:0:...</td>\n      <td>23a5c4b5-6f26-4053-b728-cb864a4edcbd</td>\n      <td>28</td>\n      <td>США</td>\n      <td>NaN</td>\n      <td>50 мг</td>\n      <td>таблетки</td>\n      <td>100183</td>\n      <td>...</td>\n      <td>Пфайзер</td>\n      <td></td>\n      <td>a219a283-5674-498e-a828-d11bd7d7c4fc</td>\n      <td>0</td>\n      <td>drug</td>\n      <td>1</td>\n      <td>a:3:{s:5:\"VALUE\";a:1:{i:0;s:4:\"6817\";}s:11:\"DE...</td>\n      <td>a:3:{s:5:\"VALUE\";a:0:{}s:11:\"DESCRIPTION\";a:0:...</td>\n      <td>RX</td>\n      <td></td>\n    </tr>\n    <tr>\n      <th>4</th>\n      <td>461367</td>\n      <td>a:3:{s:5:\"VALUE\";a:0:{}s:11:\"DESCRIPTION\";a:0:...</td>\n      <td>a:3:{s:5:\"VALUE\";a:0:{}s:11:\"DESCRIPTION\";a:0:...</td>\n      <td>23a5c4b5-6f26-4053-b728-cb864a4edcbd</td>\n      <td>22</td>\n      <td>США</td>\n      <td>NaN</td>\n      <td>50 мг</td>\n      <td>таблетки</td>\n      <td>100184</td>\n      <td>...</td>\n      <td>Пфайзер</td>\n      <td></td>\n      <td>a219a283-5674-498e-a828-d11bd7d7c4fc</td>\n      <td>0</td>\n      <td>drug</td>\n      <td>4</td>\n      <td>a:3:{s:5:\"VALUE\";a:2:{i:0;s:4:\"6817\";i:1;s:4:\"...</td>\n      <td>a:3:{s:5:\"VALUE\";a:0:{}s:11:\"DESCRIPTION\";a:0:...</td>\n      <td>RX</td>\n      <td></td>\n    </tr>\n    <tr>\n      <th>...</th>\n      <td>...</td>\n      <td>...</td>\n      <td>...</td>\n      <td>...</td>\n      <td>...</td>\n      <td>...</td>\n      <td>...</td>\n      <td>...</td>\n      <td>...</td>\n      <td>...</td>\n      <td>...</td>\n      <td>...</td>\n      <td>...</td>\n      <td>...</td>\n      <td>...</td>\n      <td>...</td>\n      <td>...</td>\n      <td>...</td>\n      <td>...</td>\n      <td>...</td>\n      <td>...</td>\n    </tr>\n    <tr>\n      <th>40017</th>\n      <td>1311472</td>\n      <td>None</td>\n      <td>None</td>\n      <td>9aca1a48-6306-b673-9141-c7c6dcedd585</td>\n      <td>7</td>\n      <td>None</td>\n      <td>NaN</td>\n      <td></td>\n      <td></td>\n      <td></td>\n      <td>...</td>\n      <td>None</td>\n      <td></td>\n      <td>a0cf8fbc-e423-ab7b-e017-add4c7777ead</td>\n      <td>0</td>\n      <td>None</td>\n      <td></td>\n      <td>None</td>\n      <td>None</td>\n      <td>ПФ</td>\n      <td>None</td>\n    </tr>\n    <tr>\n      <th>40018</th>\n      <td>1311513</td>\n      <td>None</td>\n      <td>None</td>\n      <td></td>\n      <td>1</td>\n      <td>None</td>\n      <td>NaN</td>\n      <td></td>\n      <td></td>\n      <td>490492</td>\n      <td>...</td>\n      <td>None</td>\n      <td></td>\n      <td>64bad913-7136-939b-64ec-ea9f7093651c</td>\n      <td>0</td>\n      <td>None</td>\n      <td>250 мл</td>\n      <td>None</td>\n      <td>None</td>\n      <td>ПФ</td>\n      <td>None</td>\n    </tr>\n    <tr>\n      <th>40019</th>\n      <td>1311514</td>\n      <td>None</td>\n      <td>None</td>\n      <td>ebadd128-2438-4f50-8609-2a74188b1393</td>\n      <td>2</td>\n      <td>None</td>\n      <td>NaN</td>\n      <td></td>\n      <td></td>\n      <td></td>\n      <td>...</td>\n      <td>None</td>\n      <td></td>\n      <td>7321bc80-f24a-4ee1-8ae8-d51e9cca9df6</td>\n      <td>0</td>\n      <td>None</td>\n      <td></td>\n      <td>None</td>\n      <td>None</td>\n      <td>ПФ</td>\n      <td>None</td>\n    </tr>\n    <tr>\n      <th>40020</th>\n      <td>1311515</td>\n      <td>None</td>\n      <td>None</td>\n      <td>26baf9da-8f8e-49fb-97cb-c0b1ed6ae21d</td>\n      <td>6</td>\n      <td>None</td>\n      <td>NaN</td>\n      <td></td>\n      <td></td>\n      <td></td>\n      <td>...</td>\n      <td>None</td>\n      <td></td>\n      <td>7c54231b-5026-466e-a1d5-1deecdb0443d</td>\n      <td>0</td>\n      <td>None</td>\n      <td></td>\n      <td>None</td>\n      <td>None</td>\n      <td>ПФ</td>\n      <td>None</td>\n    </tr>\n    <tr>\n      <th>40021</th>\n      <td>1316818</td>\n      <td>None</td>\n      <td>None</td>\n      <td>14bada28-24b5-4447-8288-b7a5b53068b7</td>\n      <td>23</td>\n      <td>None</td>\n      <td>NaN</td>\n      <td>500 мг</td>\n      <td>таблетки</td>\n      <td>204079</td>\n      <td>...</td>\n      <td>None</td>\n      <td></td>\n      <td>60be33c3-9a02-1ac1-3025-fb48d54eb114</td>\n      <td>0</td>\n      <td>None</td>\n      <td>100</td>\n      <td>None</td>\n      <td>None</td>\n      <td>ОТС</td>\n      <td>None</td>\n    </tr>\n  </tbody>\n</table>\n<p>40022 rows × 23 columns</p>\n</div>"
     },
     "metadata": {},
     "execution_count": 83
    }
   ],
   "source": []
  },
  {
   "cell_type": "code",
   "execution_count": 73,
   "metadata": {},
   "outputs": [
    {
     "output_type": "execute_result",
     "data": {
      "text/plain": [
       "23"
      ]
     },
     "metadata": {},
     "execution_count": 73
    }
   ],
   "source": [
    "len(propertyV.columns)"
   ]
  },
  {
   "cell_type": "code",
   "execution_count": 81,
   "metadata": {},
   "outputs": [],
   "source": []
  }
 ]
}