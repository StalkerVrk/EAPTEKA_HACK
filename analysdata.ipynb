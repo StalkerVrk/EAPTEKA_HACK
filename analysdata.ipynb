{
 "metadata": {
  "language_info": {
   "codemirror_mode": {
    "name": "ipython",
    "version": 3
   },
   "file_extension": ".py",
   "mimetype": "text/x-python",
   "name": "python",
   "nbconvert_exporter": "python",
   "pygments_lexer": "ipython3",
   "version": "3.8.0"
  },
  "orig_nbformat": 2,
  "kernelspec": {
   "name": "python380jvsc74a57bd0b977b1c54e1ae8995c85ab62d32bcef0fe2b3afde370ca3cc67a760e8e35de10",
   "display_name": "Python 3.8.0 64-bit ('python38')"
  },
  "metadata": {
   "interpreter": {
    "hash": "b977b1c54e1ae8995c85ab62d32bcef0fe2b3afde370ca3cc67a760e8e35de10"
   }
  }
 },
 "nbformat": 4,
 "nbformat_minor": 2,
 "cells": [
  {
   "cell_type": "code",
   "execution_count": 35,
   "metadata": {},
   "outputs": [],
   "source": [
    "import pandas as pd\n",
    "import numpy as np\n",
    "import json\n",
    "import matplotlib.pyplot as plt\n",
    "\n",
    "def get_data_json(dir):\n",
    "    with open(dir, encoding='utf-8') as f:\n",
    "        data = json.load(f)\n",
    "    return data\n",
    "\n",
    "dr = 'D:\\__PROJECTS___/Data/'"
   ]
  },
  {
   "cell_type": "code",
   "execution_count": 33,
   "metadata": {},
   "outputs": [
    {
     "output_type": "error",
     "ename": "UFuncTypeError",
     "evalue": "ufunc 'add' did not contain a loop with signature matching types (dtype('<U32'), dtype('<U32')) -> dtype('<U32')",
     "traceback": [
      "\u001b[1;31m---------------------------------------------------------------------------\u001b[0m",
      "\u001b[1;31mUFuncTypeError\u001b[0m                            Traceback (most recent call last)",
      "\u001b[1;32m~\\AppData\\Roaming\\Python\\Python38\\site-packages\\pandas\\core\\ops\\array_ops.py\u001b[0m in \u001b[0;36m_na_arithmetic_op\u001b[1;34m(left, right, op, is_cmp)\u001b[0m\n\u001b[0;32m    141\u001b[0m     \u001b[1;32mtry\u001b[0m\u001b[1;33m:\u001b[0m\u001b[1;33m\u001b[0m\u001b[1;33m\u001b[0m\u001b[0m\n\u001b[1;32m--> 142\u001b[1;33m         \u001b[0mresult\u001b[0m \u001b[1;33m=\u001b[0m \u001b[0mexpressions\u001b[0m\u001b[1;33m.\u001b[0m\u001b[0mevaluate\u001b[0m\u001b[1;33m(\u001b[0m\u001b[0mop\u001b[0m\u001b[1;33m,\u001b[0m \u001b[0mleft\u001b[0m\u001b[1;33m,\u001b[0m \u001b[0mright\u001b[0m\u001b[1;33m)\u001b[0m\u001b[1;33m\u001b[0m\u001b[1;33m\u001b[0m\u001b[0m\n\u001b[0m\u001b[0;32m    143\u001b[0m     \u001b[1;32mexcept\u001b[0m \u001b[0mTypeError\u001b[0m\u001b[1;33m:\u001b[0m\u001b[1;33m\u001b[0m\u001b[1;33m\u001b[0m\u001b[0m\n",
      "\u001b[1;32m~\\AppData\\Roaming\\Python\\Python38\\site-packages\\pandas\\core\\computation\\expressions.py\u001b[0m in \u001b[0;36mevaluate\u001b[1;34m(op, a, b, use_numexpr)\u001b[0m\n\u001b[0;32m    234\u001b[0m             \u001b[1;31m# error: \"None\" not callable\u001b[0m\u001b[1;33m\u001b[0m\u001b[1;33m\u001b[0m\u001b[1;33m\u001b[0m\u001b[0m\n\u001b[1;32m--> 235\u001b[1;33m             \u001b[1;32mreturn\u001b[0m \u001b[0m_evaluate\u001b[0m\u001b[1;33m(\u001b[0m\u001b[0mop\u001b[0m\u001b[1;33m,\u001b[0m \u001b[0mop_str\u001b[0m\u001b[1;33m,\u001b[0m \u001b[0ma\u001b[0m\u001b[1;33m,\u001b[0m \u001b[0mb\u001b[0m\u001b[1;33m)\u001b[0m  \u001b[1;31m# type: ignore[misc]\u001b[0m\u001b[1;33m\u001b[0m\u001b[1;33m\u001b[0m\u001b[0m\n\u001b[0m\u001b[0;32m    236\u001b[0m     \u001b[1;32mreturn\u001b[0m \u001b[0m_evaluate_standard\u001b[0m\u001b[1;33m(\u001b[0m\u001b[0mop\u001b[0m\u001b[1;33m,\u001b[0m \u001b[0mop_str\u001b[0m\u001b[1;33m,\u001b[0m \u001b[0ma\u001b[0m\u001b[1;33m,\u001b[0m \u001b[0mb\u001b[0m\u001b[1;33m)\u001b[0m\u001b[1;33m\u001b[0m\u001b[1;33m\u001b[0m\u001b[0m\n",
      "\u001b[1;32m~\\AppData\\Roaming\\Python\\Python38\\site-packages\\pandas\\core\\computation\\expressions.py\u001b[0m in \u001b[0;36m_evaluate_standard\u001b[1;34m(op, op_str, a, b)\u001b[0m\n\u001b[0;32m     68\u001b[0m     \u001b[1;32mwith\u001b[0m \u001b[0mnp\u001b[0m\u001b[1;33m.\u001b[0m\u001b[0merrstate\u001b[0m\u001b[1;33m(\u001b[0m\u001b[0mall\u001b[0m\u001b[1;33m=\u001b[0m\u001b[1;34m\"ignore\"\u001b[0m\u001b[1;33m)\u001b[0m\u001b[1;33m:\u001b[0m\u001b[1;33m\u001b[0m\u001b[1;33m\u001b[0m\u001b[0m\n\u001b[1;32m---> 69\u001b[1;33m         \u001b[1;32mreturn\u001b[0m \u001b[0mop\u001b[0m\u001b[1;33m(\u001b[0m\u001b[0ma\u001b[0m\u001b[1;33m,\u001b[0m \u001b[0mb\u001b[0m\u001b[1;33m)\u001b[0m\u001b[1;33m\u001b[0m\u001b[1;33m\u001b[0m\u001b[0m\n\u001b[0m\u001b[0;32m     70\u001b[0m \u001b[1;33m\u001b[0m\u001b[0m\n",
      "\u001b[1;31mUFuncTypeError\u001b[0m: ufunc 'add' did not contain a loop with signature matching types (dtype('<U32'), dtype('<U32')) -> dtype('<U32')",
      "\nDuring handling of the above exception, another exception occurred:\n",
      "\u001b[1;31mUFuncTypeError\u001b[0m                            Traceback (most recent call last)",
      "\u001b[1;32m<ipython-input-33-37359191a603>\u001b[0m in \u001b[0;36m<module>\u001b[1;34m\u001b[0m\n\u001b[0;32m      2\u001b[0m \u001b[1;33m\u001b[0m\u001b[0m\n\u001b[0;32m      3\u001b[0m \u001b[1;33m\u001b[0m\u001b[0m\n\u001b[1;32m----> 4\u001b[1;33m \u001b[0mproducts\u001b[0m \u001b[1;33m=\u001b[0m \u001b[0mpd\u001b[0m\u001b[1;33m.\u001b[0m\u001b[0mDataFrame\u001b[0m\u001b[1;33m(\u001b[0m\u001b[0mget_data_json\u001b[0m\u001b[1;33m(\u001b[0m\u001b[0mdr\u001b[0m\u001b[1;33m+\u001b[0m\u001b[1;34m'products.json'\u001b[0m\u001b[1;33m)\u001b[0m\u001b[1;33m)\u001b[0m\u001b[1;33m\u001b[0m\u001b[1;33m\u001b[0m\u001b[0m\n\u001b[0m\u001b[0;32m      5\u001b[0m \u001b[0mproperty\u001b[0m \u001b[1;33m=\u001b[0m \u001b[0mpd\u001b[0m\u001b[1;33m.\u001b[0m\u001b[0mDataFrame\u001b[0m\u001b[1;33m(\u001b[0m\u001b[0mget_data_json\u001b[0m\u001b[1;33m(\u001b[0m\u001b[0mdr\u001b[0m\u001b[1;33m+\u001b[0m\u001b[1;34m'property.json'\u001b[0m\u001b[1;33m)\u001b[0m\u001b[1;33m)\u001b[0m\u001b[1;33m\u001b[0m\u001b[1;33m\u001b[0m\u001b[0m\n\u001b[0;32m      6\u001b[0m \u001b[0mpropertyM\u001b[0m \u001b[1;33m=\u001b[0m \u001b[0mpd\u001b[0m\u001b[1;33m.\u001b[0m\u001b[0mDataFrame\u001b[0m\u001b[1;33m(\u001b[0m\u001b[0mget_data_json\u001b[0m\u001b[1;33m(\u001b[0m\u001b[0mdr\u001b[0m\u001b[1;33m+\u001b[0m\u001b[1;34m'propertyMultipleValues.json'\u001b[0m\u001b[1;33m)\u001b[0m\u001b[1;33m)\u001b[0m\u001b[1;33m\u001b[0m\u001b[1;33m\u001b[0m\u001b[0m\n",
      "\u001b[1;32m~\\AppData\\Roaming\\Python\\Python38\\site-packages\\pandas\\core\\ops\\common.py\u001b[0m in \u001b[0;36mnew_method\u001b[1;34m(self, other)\u001b[0m\n\u001b[0;32m     63\u001b[0m         \u001b[0mother\u001b[0m \u001b[1;33m=\u001b[0m \u001b[0mitem_from_zerodim\u001b[0m\u001b[1;33m(\u001b[0m\u001b[0mother\u001b[0m\u001b[1;33m)\u001b[0m\u001b[1;33m\u001b[0m\u001b[1;33m\u001b[0m\u001b[0m\n\u001b[0;32m     64\u001b[0m \u001b[1;33m\u001b[0m\u001b[0m\n\u001b[1;32m---> 65\u001b[1;33m         \u001b[1;32mreturn\u001b[0m \u001b[0mmethod\u001b[0m\u001b[1;33m(\u001b[0m\u001b[0mself\u001b[0m\u001b[1;33m,\u001b[0m \u001b[0mother\u001b[0m\u001b[1;33m)\u001b[0m\u001b[1;33m\u001b[0m\u001b[1;33m\u001b[0m\u001b[0m\n\u001b[0m\u001b[0;32m     66\u001b[0m \u001b[1;33m\u001b[0m\u001b[0m\n\u001b[0;32m     67\u001b[0m     \u001b[1;32mreturn\u001b[0m \u001b[0mnew_method\u001b[0m\u001b[1;33m\u001b[0m\u001b[1;33m\u001b[0m\u001b[0m\n",
      "\u001b[1;32m~\\AppData\\Roaming\\Python\\Python38\\site-packages\\pandas\\core\\arraylike.py\u001b[0m in \u001b[0;36m__add__\u001b[1;34m(self, other)\u001b[0m\n\u001b[0;32m     87\u001b[0m     \u001b[1;33m@\u001b[0m\u001b[0munpack_zerodim_and_defer\u001b[0m\u001b[1;33m(\u001b[0m\u001b[1;34m\"__add__\"\u001b[0m\u001b[1;33m)\u001b[0m\u001b[1;33m\u001b[0m\u001b[1;33m\u001b[0m\u001b[0m\n\u001b[0;32m     88\u001b[0m     \u001b[1;32mdef\u001b[0m \u001b[0m__add__\u001b[0m\u001b[1;33m(\u001b[0m\u001b[0mself\u001b[0m\u001b[1;33m,\u001b[0m \u001b[0mother\u001b[0m\u001b[1;33m)\u001b[0m\u001b[1;33m:\u001b[0m\u001b[1;33m\u001b[0m\u001b[1;33m\u001b[0m\u001b[0m\n\u001b[1;32m---> 89\u001b[1;33m         \u001b[1;32mreturn\u001b[0m \u001b[0mself\u001b[0m\u001b[1;33m.\u001b[0m\u001b[0m_arith_method\u001b[0m\u001b[1;33m(\u001b[0m\u001b[0mother\u001b[0m\u001b[1;33m,\u001b[0m \u001b[0moperator\u001b[0m\u001b[1;33m.\u001b[0m\u001b[0madd\u001b[0m\u001b[1;33m)\u001b[0m\u001b[1;33m\u001b[0m\u001b[1;33m\u001b[0m\u001b[0m\n\u001b[0m\u001b[0;32m     90\u001b[0m \u001b[1;33m\u001b[0m\u001b[0m\n\u001b[0;32m     91\u001b[0m     \u001b[1;33m@\u001b[0m\u001b[0munpack_zerodim_and_defer\u001b[0m\u001b[1;33m(\u001b[0m\u001b[1;34m\"__radd__\"\u001b[0m\u001b[1;33m)\u001b[0m\u001b[1;33m\u001b[0m\u001b[1;33m\u001b[0m\u001b[0m\n",
      "\u001b[1;32m~\\AppData\\Roaming\\Python\\Python38\\site-packages\\pandas\\core\\frame.py\u001b[0m in \u001b[0;36m_arith_method\u001b[1;34m(self, other, op)\u001b[0m\n\u001b[0;32m   5980\u001b[0m         \u001b[0mself\u001b[0m\u001b[1;33m,\u001b[0m \u001b[0mother\u001b[0m \u001b[1;33m=\u001b[0m \u001b[0mops\u001b[0m\u001b[1;33m.\u001b[0m\u001b[0malign_method_FRAME\u001b[0m\u001b[1;33m(\u001b[0m\u001b[0mself\u001b[0m\u001b[1;33m,\u001b[0m \u001b[0mother\u001b[0m\u001b[1;33m,\u001b[0m \u001b[0maxis\u001b[0m\u001b[1;33m,\u001b[0m \u001b[0mflex\u001b[0m\u001b[1;33m=\u001b[0m\u001b[1;32mTrue\u001b[0m\u001b[1;33m,\u001b[0m \u001b[0mlevel\u001b[0m\u001b[1;33m=\u001b[0m\u001b[1;32mNone\u001b[0m\u001b[1;33m)\u001b[0m\u001b[1;33m\u001b[0m\u001b[1;33m\u001b[0m\u001b[0m\n\u001b[0;32m   5981\u001b[0m \u001b[1;33m\u001b[0m\u001b[0m\n\u001b[1;32m-> 5982\u001b[1;33m         \u001b[0mnew_data\u001b[0m \u001b[1;33m=\u001b[0m \u001b[0mself\u001b[0m\u001b[1;33m.\u001b[0m\u001b[0m_dispatch_frame_op\u001b[0m\u001b[1;33m(\u001b[0m\u001b[0mother\u001b[0m\u001b[1;33m,\u001b[0m \u001b[0mop\u001b[0m\u001b[1;33m,\u001b[0m \u001b[0maxis\u001b[0m\u001b[1;33m=\u001b[0m\u001b[0maxis\u001b[0m\u001b[1;33m)\u001b[0m\u001b[1;33m\u001b[0m\u001b[1;33m\u001b[0m\u001b[0m\n\u001b[0m\u001b[0;32m   5983\u001b[0m         \u001b[1;32mreturn\u001b[0m \u001b[0mself\u001b[0m\u001b[1;33m.\u001b[0m\u001b[0m_construct_result\u001b[0m\u001b[1;33m(\u001b[0m\u001b[0mnew_data\u001b[0m\u001b[1;33m)\u001b[0m\u001b[1;33m\u001b[0m\u001b[1;33m\u001b[0m\u001b[0m\n\u001b[0;32m   5984\u001b[0m \u001b[1;33m\u001b[0m\u001b[0m\n",
      "\u001b[1;32m~\\AppData\\Roaming\\Python\\Python38\\site-packages\\pandas\\core\\frame.py\u001b[0m in \u001b[0;36m_dispatch_frame_op\u001b[1;34m(self, right, func, axis)\u001b[0m\n\u001b[0;32m   6006\u001b[0m         \u001b[1;32mif\u001b[0m \u001b[1;32mnot\u001b[0m \u001b[0mis_list_like\u001b[0m\u001b[1;33m(\u001b[0m\u001b[0mright\u001b[0m\u001b[1;33m)\u001b[0m\u001b[1;33m:\u001b[0m\u001b[1;33m\u001b[0m\u001b[1;33m\u001b[0m\u001b[0m\n\u001b[0;32m   6007\u001b[0m             \u001b[1;31m# i.e. scalar, faster than checking np.ndim(right) == 0\u001b[0m\u001b[1;33m\u001b[0m\u001b[1;33m\u001b[0m\u001b[1;33m\u001b[0m\u001b[0m\n\u001b[1;32m-> 6008\u001b[1;33m             \u001b[0mbm\u001b[0m \u001b[1;33m=\u001b[0m \u001b[0mself\u001b[0m\u001b[1;33m.\u001b[0m\u001b[0m_mgr\u001b[0m\u001b[1;33m.\u001b[0m\u001b[0mapply\u001b[0m\u001b[1;33m(\u001b[0m\u001b[0marray_op\u001b[0m\u001b[1;33m,\u001b[0m \u001b[0mright\u001b[0m\u001b[1;33m=\u001b[0m\u001b[0mright\u001b[0m\u001b[1;33m)\u001b[0m\u001b[1;33m\u001b[0m\u001b[1;33m\u001b[0m\u001b[0m\n\u001b[0m\u001b[0;32m   6009\u001b[0m             \u001b[1;32mreturn\u001b[0m \u001b[0mtype\u001b[0m\u001b[1;33m(\u001b[0m\u001b[0mself\u001b[0m\u001b[1;33m)\u001b[0m\u001b[1;33m(\u001b[0m\u001b[0mbm\u001b[0m\u001b[1;33m)\u001b[0m\u001b[1;33m\u001b[0m\u001b[1;33m\u001b[0m\u001b[0m\n\u001b[0;32m   6010\u001b[0m \u001b[1;33m\u001b[0m\u001b[0m\n",
      "\u001b[1;32m~\\AppData\\Roaming\\Python\\Python38\\site-packages\\pandas\\core\\internals\\managers.py\u001b[0m in \u001b[0;36mapply\u001b[1;34m(self, f, align_keys, ignore_failures, **kwargs)\u001b[0m\n\u001b[0;32m    423\u001b[0m             \u001b[1;32mtry\u001b[0m\u001b[1;33m:\u001b[0m\u001b[1;33m\u001b[0m\u001b[1;33m\u001b[0m\u001b[0m\n\u001b[0;32m    424\u001b[0m                 \u001b[1;32mif\u001b[0m \u001b[0mcallable\u001b[0m\u001b[1;33m(\u001b[0m\u001b[0mf\u001b[0m\u001b[1;33m)\u001b[0m\u001b[1;33m:\u001b[0m\u001b[1;33m\u001b[0m\u001b[1;33m\u001b[0m\u001b[0m\n\u001b[1;32m--> 425\u001b[1;33m                     \u001b[0mapplied\u001b[0m \u001b[1;33m=\u001b[0m \u001b[0mb\u001b[0m\u001b[1;33m.\u001b[0m\u001b[0mapply\u001b[0m\u001b[1;33m(\u001b[0m\u001b[0mf\u001b[0m\u001b[1;33m,\u001b[0m \u001b[1;33m**\u001b[0m\u001b[0mkwargs\u001b[0m\u001b[1;33m)\u001b[0m\u001b[1;33m\u001b[0m\u001b[1;33m\u001b[0m\u001b[0m\n\u001b[0m\u001b[0;32m    426\u001b[0m                 \u001b[1;32melse\u001b[0m\u001b[1;33m:\u001b[0m\u001b[1;33m\u001b[0m\u001b[1;33m\u001b[0m\u001b[0m\n\u001b[0;32m    427\u001b[0m                     \u001b[0mapplied\u001b[0m \u001b[1;33m=\u001b[0m \u001b[0mgetattr\u001b[0m\u001b[1;33m(\u001b[0m\u001b[0mb\u001b[0m\u001b[1;33m,\u001b[0m \u001b[0mf\u001b[0m\u001b[1;33m)\u001b[0m\u001b[1;33m(\u001b[0m\u001b[1;33m**\u001b[0m\u001b[0mkwargs\u001b[0m\u001b[1;33m)\u001b[0m\u001b[1;33m\u001b[0m\u001b[1;33m\u001b[0m\u001b[0m\n",
      "\u001b[1;32m~\\AppData\\Roaming\\Python\\Python38\\site-packages\\pandas\\core\\internals\\blocks.py\u001b[0m in \u001b[0;36mapply\u001b[1;34m(self, func, **kwargs)\u001b[0m\n\u001b[0;32m    376\u001b[0m         \"\"\"\n\u001b[0;32m    377\u001b[0m         \u001b[1;32mwith\u001b[0m \u001b[0mnp\u001b[0m\u001b[1;33m.\u001b[0m\u001b[0merrstate\u001b[0m\u001b[1;33m(\u001b[0m\u001b[0mall\u001b[0m\u001b[1;33m=\u001b[0m\u001b[1;34m\"ignore\"\u001b[0m\u001b[1;33m)\u001b[0m\u001b[1;33m:\u001b[0m\u001b[1;33m\u001b[0m\u001b[1;33m\u001b[0m\u001b[0m\n\u001b[1;32m--> 378\u001b[1;33m             \u001b[0mresult\u001b[0m \u001b[1;33m=\u001b[0m \u001b[0mfunc\u001b[0m\u001b[1;33m(\u001b[0m\u001b[0mself\u001b[0m\u001b[1;33m.\u001b[0m\u001b[0mvalues\u001b[0m\u001b[1;33m,\u001b[0m \u001b[1;33m**\u001b[0m\u001b[0mkwargs\u001b[0m\u001b[1;33m)\u001b[0m\u001b[1;33m\u001b[0m\u001b[1;33m\u001b[0m\u001b[0m\n\u001b[0m\u001b[0;32m    379\u001b[0m \u001b[1;33m\u001b[0m\u001b[0m\n\u001b[0;32m    380\u001b[0m         \u001b[1;32mreturn\u001b[0m \u001b[0mself\u001b[0m\u001b[1;33m.\u001b[0m\u001b[0m_split_op_result\u001b[0m\u001b[1;33m(\u001b[0m\u001b[0mresult\u001b[0m\u001b[1;33m)\u001b[0m\u001b[1;33m\u001b[0m\u001b[1;33m\u001b[0m\u001b[0m\n",
      "\u001b[1;32m~\\AppData\\Roaming\\Python\\Python38\\site-packages\\pandas\\core\\ops\\array_ops.py\u001b[0m in \u001b[0;36marithmetic_op\u001b[1;34m(left, right, op)\u001b[0m\n\u001b[0;32m    187\u001b[0m     \u001b[1;32melse\u001b[0m\u001b[1;33m:\u001b[0m\u001b[1;33m\u001b[0m\u001b[1;33m\u001b[0m\u001b[0m\n\u001b[0;32m    188\u001b[0m         \u001b[1;32mwith\u001b[0m \u001b[0mnp\u001b[0m\u001b[1;33m.\u001b[0m\u001b[0merrstate\u001b[0m\u001b[1;33m(\u001b[0m\u001b[0mall\u001b[0m\u001b[1;33m=\u001b[0m\u001b[1;34m\"ignore\"\u001b[0m\u001b[1;33m)\u001b[0m\u001b[1;33m:\u001b[0m\u001b[1;33m\u001b[0m\u001b[1;33m\u001b[0m\u001b[0m\n\u001b[1;32m--> 189\u001b[1;33m             \u001b[0mres_values\u001b[0m \u001b[1;33m=\u001b[0m \u001b[0m_na_arithmetic_op\u001b[0m\u001b[1;33m(\u001b[0m\u001b[0mlvalues\u001b[0m\u001b[1;33m,\u001b[0m \u001b[0mrvalues\u001b[0m\u001b[1;33m,\u001b[0m \u001b[0mop\u001b[0m\u001b[1;33m)\u001b[0m\u001b[1;33m\u001b[0m\u001b[1;33m\u001b[0m\u001b[0m\n\u001b[0m\u001b[0;32m    190\u001b[0m \u001b[1;33m\u001b[0m\u001b[0m\n\u001b[0;32m    191\u001b[0m     \u001b[1;32mreturn\u001b[0m \u001b[0mres_values\u001b[0m\u001b[1;33m\u001b[0m\u001b[1;33m\u001b[0m\u001b[0m\n",
      "\u001b[1;32m~\\AppData\\Roaming\\Python\\Python38\\site-packages\\pandas\\core\\ops\\array_ops.py\u001b[0m in \u001b[0;36m_na_arithmetic_op\u001b[1;34m(left, right, op, is_cmp)\u001b[0m\n\u001b[0;32m    147\u001b[0m             \u001b[1;31m#  will handle complex numbers incorrectly, see GH#32047\u001b[0m\u001b[1;33m\u001b[0m\u001b[1;33m\u001b[0m\u001b[1;33m\u001b[0m\u001b[0m\n\u001b[0;32m    148\u001b[0m             \u001b[1;32mraise\u001b[0m\u001b[1;33m\u001b[0m\u001b[1;33m\u001b[0m\u001b[0m\n\u001b[1;32m--> 149\u001b[1;33m         \u001b[0mresult\u001b[0m \u001b[1;33m=\u001b[0m \u001b[0m_masked_arith_op\u001b[0m\u001b[1;33m(\u001b[0m\u001b[0mleft\u001b[0m\u001b[1;33m,\u001b[0m \u001b[0mright\u001b[0m\u001b[1;33m,\u001b[0m \u001b[0mop\u001b[0m\u001b[1;33m)\u001b[0m\u001b[1;33m\u001b[0m\u001b[1;33m\u001b[0m\u001b[0m\n\u001b[0m\u001b[0;32m    150\u001b[0m \u001b[1;33m\u001b[0m\u001b[0m\n\u001b[0;32m    151\u001b[0m     \u001b[1;32mif\u001b[0m \u001b[0mis_cmp\u001b[0m \u001b[1;32mand\u001b[0m \u001b[1;33m(\u001b[0m\u001b[0mis_scalar\u001b[0m\u001b[1;33m(\u001b[0m\u001b[0mresult\u001b[0m\u001b[1;33m)\u001b[0m \u001b[1;32mor\u001b[0m \u001b[0mresult\u001b[0m \u001b[1;32mis\u001b[0m \u001b[0mNotImplemented\u001b[0m\u001b[1;33m)\u001b[0m\u001b[1;33m:\u001b[0m\u001b[1;33m\u001b[0m\u001b[1;33m\u001b[0m\u001b[0m\n",
      "\u001b[1;32m~\\AppData\\Roaming\\Python\\Python38\\site-packages\\pandas\\core\\ops\\array_ops.py\u001b[0m in \u001b[0;36m_masked_arith_op\u001b[1;34m(x, y, op)\u001b[0m\n\u001b[0;32m    109\u001b[0m         \u001b[1;32mif\u001b[0m \u001b[0mmask\u001b[0m\u001b[1;33m.\u001b[0m\u001b[0many\u001b[0m\u001b[1;33m(\u001b[0m\u001b[1;33m)\u001b[0m\u001b[1;33m:\u001b[0m\u001b[1;33m\u001b[0m\u001b[1;33m\u001b[0m\u001b[0m\n\u001b[0;32m    110\u001b[0m             \u001b[1;32mwith\u001b[0m \u001b[0mnp\u001b[0m\u001b[1;33m.\u001b[0m\u001b[0merrstate\u001b[0m\u001b[1;33m(\u001b[0m\u001b[0mall\u001b[0m\u001b[1;33m=\u001b[0m\u001b[1;34m\"ignore\"\u001b[0m\u001b[1;33m)\u001b[0m\u001b[1;33m:\u001b[0m\u001b[1;33m\u001b[0m\u001b[1;33m\u001b[0m\u001b[0m\n\u001b[1;32m--> 111\u001b[1;33m                 \u001b[0mresult\u001b[0m\u001b[1;33m[\u001b[0m\u001b[0mmask\u001b[0m\u001b[1;33m]\u001b[0m \u001b[1;33m=\u001b[0m \u001b[0mop\u001b[0m\u001b[1;33m(\u001b[0m\u001b[0mxrav\u001b[0m\u001b[1;33m[\u001b[0m\u001b[0mmask\u001b[0m\u001b[1;33m]\u001b[0m\u001b[1;33m,\u001b[0m \u001b[0my\u001b[0m\u001b[1;33m)\u001b[0m\u001b[1;33m\u001b[0m\u001b[1;33m\u001b[0m\u001b[0m\n\u001b[0m\u001b[0;32m    112\u001b[0m \u001b[1;33m\u001b[0m\u001b[0m\n\u001b[0;32m    113\u001b[0m     \u001b[0mresult\u001b[0m\u001b[1;33m,\u001b[0m \u001b[0m_\u001b[0m \u001b[1;33m=\u001b[0m \u001b[0mmaybe_upcast_putmask\u001b[0m\u001b[1;33m(\u001b[0m\u001b[0mresult\u001b[0m\u001b[1;33m,\u001b[0m \u001b[1;33m~\u001b[0m\u001b[0mmask\u001b[0m\u001b[1;33m,\u001b[0m \u001b[0mnp\u001b[0m\u001b[1;33m.\u001b[0m\u001b[0mnan\u001b[0m\u001b[1;33m)\u001b[0m\u001b[1;33m\u001b[0m\u001b[1;33m\u001b[0m\u001b[0m\n",
      "\u001b[1;31mUFuncTypeError\u001b[0m: ufunc 'add' did not contain a loop with signature matching types (dtype('<U32'), dtype('<U32')) -> dtype('<U32')"
     ]
    }
   ],
   "source": [
    "df = pd.read_json('productToMNN.json')\n",
    "\n",
    "\n",
    "products = pd.DataFrame(get_data_json(dr+'products.json'))\n",
    "property = pd.DataFrame(get_data_json(dr+'property.json'))\n",
    "propertyM = pd.DataFrame(get_data_json(dr+'propertyMultipleValues.json'))\n",
    "propertyV = pd.DataFrame(get_data_json(dr+'propertyValues.json'))"
   ]
  },
  {
   "source": [
    "# Файл для преобразования активного вещества в id для отправки на сервер"
   ],
   "cell_type": "markdown",
   "metadata": {}
  },
  {
   "cell_type": "code",
   "execution_count": null,
   "metadata": {},
   "outputs": [],
   "source": [
    "df[[\"MNN_ID\", \"MNN_NAME\", \"MNN_CODE\"]].drop_duplicates().to_csv('ID2Prod.txt') "
   ]
  },
  {
   "source": [
    "# Формирование JSON для бд на сервер"
   ],
   "cell_type": "markdown",
   "metadata": {}
  },
  {
   "cell_type": "code",
   "execution_count": 5,
   "metadata": {},
   "outputs": [
    {
     "output_type": "execute_result",
     "data": {
      "text/plain": [
       "       MNN_ID  PRODUCT_ID                    MNN_NAME  \\\n",
       "0          53    461363.0                  Силденафил   \n",
       "1          53    461364.0                  Силденафил   \n",
       "2          53    461365.0                  Силденафил   \n",
       "3          53    461366.0                  Силденафил   \n",
       "4          53    461367.0                  Силденафил   \n",
       "...       ...         ...                         ...   \n",
       "17225    1662    494983.0  Дифенгидрамин, Парацетамол   \n",
       "17227      93    494984.0                 Ганцикловир   \n",
       "17228     231    963082.0                  Метоксален   \n",
       "17229     746    494985.0                   Мелатонин   \n",
       "17230     746    494986.0                   Мелатонин   \n",
       "\n",
       "                         MNN_CODE  \n",
       "0                      sildenafil  \n",
       "1                      sildenafil  \n",
       "2                      sildenafil  \n",
       "3                      sildenafil  \n",
       "4                      sildenafil  \n",
       "...                           ...  \n",
       "17225  difengidramin_paratsetamol  \n",
       "17227                gantsiklovir  \n",
       "17228                  metoksalen  \n",
       "17229                   melatonin  \n",
       "17230                   melatonin  \n",
       "\n",
       "[15537 rows x 4 columns]"
      ],
      "text/html": "<div>\n<style scoped>\n    .dataframe tbody tr th:only-of-type {\n        vertical-align: middle;\n    }\n\n    .dataframe tbody tr th {\n        vertical-align: top;\n    }\n\n    .dataframe thead th {\n        text-align: right;\n    }\n</style>\n<table border=\"1\" class=\"dataframe\">\n  <thead>\n    <tr style=\"text-align: right;\">\n      <th></th>\n      <th>MNN_ID</th>\n      <th>PRODUCT_ID</th>\n      <th>MNN_NAME</th>\n      <th>MNN_CODE</th>\n    </tr>\n  </thead>\n  <tbody>\n    <tr>\n      <th>0</th>\n      <td>53</td>\n      <td>461363.0</td>\n      <td>Силденафил</td>\n      <td>sildenafil</td>\n    </tr>\n    <tr>\n      <th>1</th>\n      <td>53</td>\n      <td>461364.0</td>\n      <td>Силденафил</td>\n      <td>sildenafil</td>\n    </tr>\n    <tr>\n      <th>2</th>\n      <td>53</td>\n      <td>461365.0</td>\n      <td>Силденафил</td>\n      <td>sildenafil</td>\n    </tr>\n    <tr>\n      <th>3</th>\n      <td>53</td>\n      <td>461366.0</td>\n      <td>Силденафил</td>\n      <td>sildenafil</td>\n    </tr>\n    <tr>\n      <th>4</th>\n      <td>53</td>\n      <td>461367.0</td>\n      <td>Силденафил</td>\n      <td>sildenafil</td>\n    </tr>\n    <tr>\n      <th>...</th>\n      <td>...</td>\n      <td>...</td>\n      <td>...</td>\n      <td>...</td>\n    </tr>\n    <tr>\n      <th>17225</th>\n      <td>1662</td>\n      <td>494983.0</td>\n      <td>Дифенгидрамин, Парацетамол</td>\n      <td>difengidramin_paratsetamol</td>\n    </tr>\n    <tr>\n      <th>17227</th>\n      <td>93</td>\n      <td>494984.0</td>\n      <td>Ганцикловир</td>\n      <td>gantsiklovir</td>\n    </tr>\n    <tr>\n      <th>17228</th>\n      <td>231</td>\n      <td>963082.0</td>\n      <td>Метоксален</td>\n      <td>metoksalen</td>\n    </tr>\n    <tr>\n      <th>17229</th>\n      <td>746</td>\n      <td>494985.0</td>\n      <td>Мелатонин</td>\n      <td>melatonin</td>\n    </tr>\n    <tr>\n      <th>17230</th>\n      <td>746</td>\n      <td>494986.0</td>\n      <td>Мелатонин</td>\n      <td>melatonin</td>\n    </tr>\n  </tbody>\n</table>\n<p>15537 rows × 4 columns</p>\n</div>"
     },
     "metadata": {},
     "execution_count": 5
    }
   ],
   "source": [
    "df.dropna()"
   ]
  },
  {
   "cell_type": "code",
   "execution_count": 100,
   "metadata": {},
   "outputs": [
    {
     "output_type": "execute_result",
     "data": {
      "text/plain": [
       "            ID                                               NAME\n",
       "0       461363                     Виагра, таблетки 100 мг, 2 шт.\n",
       "1       461364                      Виагра, таблетки 50 мг, 2 шт.\n",
       "2       461365                      Виагра, таблетки 25 мг, 1 шт.\n",
       "3       461366                      Виагра, таблетки 50 мг, 1 шт.\n",
       "4       461367                      Виагра, таблетки 50 мг, 4 шт.\n",
       "...        ...                                                ...\n",
       "40017  1311472  Medhelp Лейкопластырь фиксирующий на шелковой ...\n",
       "40018  1311513        Топинамбур Премиум сироп без сахара, 250 мл\n",
       "40019  1311514  Maneki Диски ватные двусторонние косметические...\n",
       "40020  1311515  Vichy Purete Thermale набор Тоник 200 мл+Гель ...\n",
       "40021  1316818                  Магнерот таблетки 500 мг, 100 шт.\n",
       "\n",
       "[40022 rows x 2 columns]"
      ],
      "text/html": "<div>\n<style scoped>\n    .dataframe tbody tr th:only-of-type {\n        vertical-align: middle;\n    }\n\n    .dataframe tbody tr th {\n        vertical-align: top;\n    }\n\n    .dataframe thead th {\n        text-align: right;\n    }\n</style>\n<table border=\"1\" class=\"dataframe\">\n  <thead>\n    <tr style=\"text-align: right;\">\n      <th></th>\n      <th>ID</th>\n      <th>NAME</th>\n    </tr>\n  </thead>\n  <tbody>\n    <tr>\n      <th>0</th>\n      <td>461363</td>\n      <td>Виагра, таблетки 100 мг, 2 шт.</td>\n    </tr>\n    <tr>\n      <th>1</th>\n      <td>461364</td>\n      <td>Виагра, таблетки 50 мг, 2 шт.</td>\n    </tr>\n    <tr>\n      <th>2</th>\n      <td>461365</td>\n      <td>Виагра, таблетки 25 мг, 1 шт.</td>\n    </tr>\n    <tr>\n      <th>3</th>\n      <td>461366</td>\n      <td>Виагра, таблетки 50 мг, 1 шт.</td>\n    </tr>\n    <tr>\n      <th>4</th>\n      <td>461367</td>\n      <td>Виагра, таблетки 50 мг, 4 шт.</td>\n    </tr>\n    <tr>\n      <th>...</th>\n      <td>...</td>\n      <td>...</td>\n    </tr>\n    <tr>\n      <th>40017</th>\n      <td>1311472</td>\n      <td>Medhelp Лейкопластырь фиксирующий на шелковой ...</td>\n    </tr>\n    <tr>\n      <th>40018</th>\n      <td>1311513</td>\n      <td>Топинамбур Премиум сироп без сахара, 250 мл</td>\n    </tr>\n    <tr>\n      <th>40019</th>\n      <td>1311514</td>\n      <td>Maneki Диски ватные двусторонние косметические...</td>\n    </tr>\n    <tr>\n      <th>40020</th>\n      <td>1311515</td>\n      <td>Vichy Purete Thermale набор Тоник 200 мл+Гель ...</td>\n    </tr>\n    <tr>\n      <th>40021</th>\n      <td>1316818</td>\n      <td>Магнерот таблетки 500 мг, 100 шт.</td>\n    </tr>\n  </tbody>\n</table>\n<p>40022 rows × 2 columns</p>\n</div>"
     },
     "metadata": {},
     "execution_count": 100
    }
   ],
   "source": [
    "products"
   ]
  },
  {
   "cell_type": "code",
   "execution_count": 104,
   "metadata": {},
   "outputs": [
    {
     "output_type": "execute_result",
     "data": {
      "text/plain": [
       "       IBLOCK_ELEMENT_ID IBLOCK_PROPERTY_ID    VALUE VALUE_ENUM  VALUE_NUM  \\\n",
       "0                 461363                356     6817       None     6817.0   \n",
       "1                 461363                356     9528       None     9528.0   \n",
       "2                 461364                356     6817       None     6817.0   \n",
       "3                 461365                356     6817       None     6817.0   \n",
       "4                 461366                356     6817       None     6817.0   \n",
       "...                  ...                ...      ...        ...        ...   \n",
       "67572            1296503                276   886694       None   886694.0   \n",
       "67573            1297833                276   464861       None   464861.0   \n",
       "67574            1297833                276   515491       None   515491.0   \n",
       "67575            1299717                276  1033550       None  1033550.0   \n",
       "67576            1308333                567  1080337       None  1080337.0   \n",
       "\n",
       "      DESCRIPTION  \n",
       "0            None  \n",
       "1            None  \n",
       "2            None  \n",
       "3            None  \n",
       "4            None  \n",
       "...           ...  \n",
       "67572              \n",
       "67573              \n",
       "67574              \n",
       "67575              \n",
       "67576        None  \n",
       "\n",
       "[67577 rows x 6 columns]"
      ],
      "text/html": "<div>\n<style scoped>\n    .dataframe tbody tr th:only-of-type {\n        vertical-align: middle;\n    }\n\n    .dataframe tbody tr th {\n        vertical-align: top;\n    }\n\n    .dataframe thead th {\n        text-align: right;\n    }\n</style>\n<table border=\"1\" class=\"dataframe\">\n  <thead>\n    <tr style=\"text-align: right;\">\n      <th></th>\n      <th>IBLOCK_ELEMENT_ID</th>\n      <th>IBLOCK_PROPERTY_ID</th>\n      <th>VALUE</th>\n      <th>VALUE_ENUM</th>\n      <th>VALUE_NUM</th>\n      <th>DESCRIPTION</th>\n    </tr>\n  </thead>\n  <tbody>\n    <tr>\n      <th>0</th>\n      <td>461363</td>\n      <td>356</td>\n      <td>6817</td>\n      <td>None</td>\n      <td>6817.0</td>\n      <td>None</td>\n    </tr>\n    <tr>\n      <th>1</th>\n      <td>461363</td>\n      <td>356</td>\n      <td>9528</td>\n      <td>None</td>\n      <td>9528.0</td>\n      <td>None</td>\n    </tr>\n    <tr>\n      <th>2</th>\n      <td>461364</td>\n      <td>356</td>\n      <td>6817</td>\n      <td>None</td>\n      <td>6817.0</td>\n      <td>None</td>\n    </tr>\n    <tr>\n      <th>3</th>\n      <td>461365</td>\n      <td>356</td>\n      <td>6817</td>\n      <td>None</td>\n      <td>6817.0</td>\n      <td>None</td>\n    </tr>\n    <tr>\n      <th>4</th>\n      <td>461366</td>\n      <td>356</td>\n      <td>6817</td>\n      <td>None</td>\n      <td>6817.0</td>\n      <td>None</td>\n    </tr>\n    <tr>\n      <th>...</th>\n      <td>...</td>\n      <td>...</td>\n      <td>...</td>\n      <td>...</td>\n      <td>...</td>\n      <td>...</td>\n    </tr>\n    <tr>\n      <th>67572</th>\n      <td>1296503</td>\n      <td>276</td>\n      <td>886694</td>\n      <td>None</td>\n      <td>886694.0</td>\n      <td></td>\n    </tr>\n    <tr>\n      <th>67573</th>\n      <td>1297833</td>\n      <td>276</td>\n      <td>464861</td>\n      <td>None</td>\n      <td>464861.0</td>\n      <td></td>\n    </tr>\n    <tr>\n      <th>67574</th>\n      <td>1297833</td>\n      <td>276</td>\n      <td>515491</td>\n      <td>None</td>\n      <td>515491.0</td>\n      <td></td>\n    </tr>\n    <tr>\n      <th>67575</th>\n      <td>1299717</td>\n      <td>276</td>\n      <td>1033550</td>\n      <td>None</td>\n      <td>1033550.0</td>\n      <td></td>\n    </tr>\n    <tr>\n      <th>67576</th>\n      <td>1308333</td>\n      <td>567</td>\n      <td>1080337</td>\n      <td>None</td>\n      <td>1080337.0</td>\n      <td>None</td>\n    </tr>\n  </tbody>\n</table>\n<p>67577 rows × 6 columns</p>\n</div>"
     },
     "metadata": {},
     "execution_count": 104
    }
   ],
   "source": [
    "propertyM"
   ]
  },
  {
   "cell_type": "code",
   "execution_count": 145,
   "metadata": {},
   "outputs": [
    {
     "output_type": "execute_result",
     "data": {
      "text/plain": [
       "       ID_PRODUCT                                           ALSO_BUY  \\\n",
       "0          461363  a:3:{s:5:\"VALUE\";a:0:{}s:11:\"DESCRIPTION\";a:0:...   \n",
       "1          461364  a:3:{s:5:\"VALUE\";a:0:{}s:11:\"DESCRIPTION\";a:0:...   \n",
       "2          461365  a:3:{s:5:\"VALUE\";a:0:{}s:11:\"DESCRIPTION\";a:0:...   \n",
       "3          461366  a:3:{s:5:\"VALUE\";a:0:{}s:11:\"DESCRIPTION\";a:0:...   \n",
       "4          461367  a:3:{s:5:\"VALUE\";a:0:{}s:11:\"DESCRIPTION\";a:0:...   \n",
       "...           ...                                                ...   \n",
       "40017     1311472                                               None   \n",
       "40018     1311513                                               None   \n",
       "40019     1311514                                               None   \n",
       "40020     1311515                                               None   \n",
       "40021     1316818                                               None   \n",
       "\n",
       "                                                 ANALOGS  \\\n",
       "0      a:3:{s:5:\"VALUE\";a:0:{}s:11:\"DESCRIPTION\";a:0:...   \n",
       "1      a:3:{s:5:\"VALUE\";a:0:{}s:11:\"DESCRIPTION\";a:0:...   \n",
       "2      a:3:{s:5:\"VALUE\";a:0:{}s:11:\"DESCRIPTION\";a:0:...   \n",
       "3      a:3:{s:5:\"VALUE\";a:0:{}s:11:\"DESCRIPTION\";a:0:...   \n",
       "4      a:3:{s:5:\"VALUE\";a:0:{}s:11:\"DESCRIPTION\";a:0:...   \n",
       "...                                                  ...   \n",
       "40017                                               None   \n",
       "40018                                               None   \n",
       "40019                                               None   \n",
       "40020                                               None   \n",
       "40021                                               None   \n",
       "\n",
       "                                   BRAND_ID BUY_COUNT COUNTRY  \\\n",
       "0      23a5c4b5-6f26-4053-b728-cb864a4edcbd        66     США   \n",
       "1      23a5c4b5-6f26-4053-b728-cb864a4edcbd        26     США   \n",
       "2      23a5c4b5-6f26-4053-b728-cb864a4edcbd        20     США   \n",
       "3      23a5c4b5-6f26-4053-b728-cb864a4edcbd        28     США   \n",
       "4      23a5c4b5-6f26-4053-b728-cb864a4edcbd        22     США   \n",
       "...                                     ...       ...     ...   \n",
       "40017  9aca1a48-6306-b673-9141-c7c6dcedd585         7    None   \n",
       "40018                                               1    None   \n",
       "40019  ebadd128-2438-4f50-8609-2a74188b1393         2    None   \n",
       "40020  26baf9da-8f8e-49fb-97cb-c0b1ed6ae21d         6    None   \n",
       "40021  14bada28-24b5-4447-8288-b7a5b53068b7        23    None   \n",
       "\n",
       "       COURSE_QUANTITY  DOSAGE DRUG_FORM FEATURES  ... MANUFACTURER  \\\n",
       "0                  NaN  100 мг  таблетки   100177  ...      Пфайзер   \n",
       "1                  NaN   50 мг  таблетки   100178  ...      Пфайзер   \n",
       "2                  NaN   25 мг  таблетки   100180  ...      Пфайзер   \n",
       "3                  NaN   50 мг  таблетки   100183  ...      Пфайзер   \n",
       "4                  NaN   50 мг  таблетки   100184  ...      Пфайзер   \n",
       "...                ...     ...       ...      ...  ...          ...   \n",
       "40017              NaN                             ...         None   \n",
       "40018              NaN                     490492  ...         None   \n",
       "40019              NaN                             ...         None   \n",
       "40020              NaN                             ...         None   \n",
       "40021              NaN  500 мг  таблетки   204079  ...         None   \n",
       "\n",
       "      MANUFACTURER                       MANUFACTURER_ID NEED_RECIPE  \\\n",
       "0                   a219a283-5674-498e-a828-d11bd7d7c4fc         0.0   \n",
       "1                   a219a283-5674-498e-a828-d11bd7d7c4fc         0.0   \n",
       "2                   a219a283-5674-498e-a828-d11bd7d7c4fc         0.0   \n",
       "3                   a219a283-5674-498e-a828-d11bd7d7c4fc         0.0   \n",
       "4                   a219a283-5674-498e-a828-d11bd7d7c4fc         0.0   \n",
       "...            ...                                   ...         ...   \n",
       "40017               a0cf8fbc-e423-ab7b-e017-add4c7777ead         0.0   \n",
       "40018               64bad913-7136-939b-64ec-ea9f7093651c         0.0   \n",
       "40019               7321bc80-f24a-4ee1-8ae8-d51e9cca9df6         0.0   \n",
       "40020               7c54231b-5026-466e-a1d5-1deecdb0443d         0.0   \n",
       "40021               60be33c3-9a02-1ac1-3025-fb48d54eb114         0.0   \n",
       "\n",
       "      OFFER_TYPE PACKING                            PHARMACOLOGICAL_SECTION  \\\n",
       "0           drug       2  a:3:{s:5:\"VALUE\";a:2:{i:0;s:4:\"6817\";i:1;s:4:\"...   \n",
       "1           drug       2  a:3:{s:5:\"VALUE\";a:1:{i:0;s:4:\"6817\";}s:11:\"DE...   \n",
       "2           drug       1  a:3:{s:5:\"VALUE\";a:1:{i:0;s:4:\"6817\";}s:11:\"DE...   \n",
       "3           drug       1  a:3:{s:5:\"VALUE\";a:1:{i:0;s:4:\"6817\";}s:11:\"DE...   \n",
       "4           drug       4  a:3:{s:5:\"VALUE\";a:2:{i:0;s:4:\"6817\";i:1;s:4:\"...   \n",
       "...          ...     ...                                                ...   \n",
       "40017       None                                                       None   \n",
       "40018       None  250 мл                                               None   \n",
       "40019       None                                                       None   \n",
       "40020       None                                                       None   \n",
       "40021       None     100                                               None   \n",
       "\n",
       "                                              SPECIAL_s1 TYPE VENDOR_CODE  \n",
       "0      a:3:{s:5:\"VALUE\";a:0:{}s:11:\"DESCRIPTION\";a:0:...   RX              \n",
       "1      a:3:{s:5:\"VALUE\";a:0:{}s:11:\"DESCRIPTION\";a:0:...   RX              \n",
       "2      a:3:{s:5:\"VALUE\";a:0:{}s:11:\"DESCRIPTION\";a:0:...   RX              \n",
       "3      a:3:{s:5:\"VALUE\";a:0:{}s:11:\"DESCRIPTION\";a:0:...   RX              \n",
       "4      a:3:{s:5:\"VALUE\";a:0:{}s:11:\"DESCRIPTION\";a:0:...   RX              \n",
       "...                                                  ...  ...         ...  \n",
       "40017                                               None   ПФ        None  \n",
       "40018                                               None   ПФ        None  \n",
       "40019                                               None   ПФ        None  \n",
       "40020                                               None   ПФ        None  \n",
       "40021                                               None  ОТС        None  \n",
       "\n",
       "[40022 rows x 23 columns]"
      ],
      "text/html": "<div>\n<style scoped>\n    .dataframe tbody tr th:only-of-type {\n        vertical-align: middle;\n    }\n\n    .dataframe tbody tr th {\n        vertical-align: top;\n    }\n\n    .dataframe thead th {\n        text-align: right;\n    }\n</style>\n<table border=\"1\" class=\"dataframe\">\n  <thead>\n    <tr style=\"text-align: right;\">\n      <th></th>\n      <th>ID_PRODUCT</th>\n      <th>ALSO_BUY</th>\n      <th>ANALOGS</th>\n      <th>BRAND_ID</th>\n      <th>BUY_COUNT</th>\n      <th>COUNTRY</th>\n      <th>COURSE_QUANTITY</th>\n      <th>DOSAGE</th>\n      <th>DRUG_FORM</th>\n      <th>FEATURES</th>\n      <th>...</th>\n      <th>MANUFACTURER</th>\n      <th>MANUFACTURER</th>\n      <th>MANUFACTURER_ID</th>\n      <th>NEED_RECIPE</th>\n      <th>OFFER_TYPE</th>\n      <th>PACKING</th>\n      <th>PHARMACOLOGICAL_SECTION</th>\n      <th>SPECIAL_s1</th>\n      <th>TYPE</th>\n      <th>VENDOR_CODE</th>\n    </tr>\n  </thead>\n  <tbody>\n    <tr>\n      <th>0</th>\n      <td>461363</td>\n      <td>a:3:{s:5:\"VALUE\";a:0:{}s:11:\"DESCRIPTION\";a:0:...</td>\n      <td>a:3:{s:5:\"VALUE\";a:0:{}s:11:\"DESCRIPTION\";a:0:...</td>\n      <td>23a5c4b5-6f26-4053-b728-cb864a4edcbd</td>\n      <td>66</td>\n      <td>США</td>\n      <td>NaN</td>\n      <td>100 мг</td>\n      <td>таблетки</td>\n      <td>100177</td>\n      <td>...</td>\n      <td>Пфайзер</td>\n      <td></td>\n      <td>a219a283-5674-498e-a828-d11bd7d7c4fc</td>\n      <td>0.0</td>\n      <td>drug</td>\n      <td>2</td>\n      <td>a:3:{s:5:\"VALUE\";a:2:{i:0;s:4:\"6817\";i:1;s:4:\"...</td>\n      <td>a:3:{s:5:\"VALUE\";a:0:{}s:11:\"DESCRIPTION\";a:0:...</td>\n      <td>RX</td>\n      <td></td>\n    </tr>\n    <tr>\n      <th>1</th>\n      <td>461364</td>\n      <td>a:3:{s:5:\"VALUE\";a:0:{}s:11:\"DESCRIPTION\";a:0:...</td>\n      <td>a:3:{s:5:\"VALUE\";a:0:{}s:11:\"DESCRIPTION\";a:0:...</td>\n      <td>23a5c4b5-6f26-4053-b728-cb864a4edcbd</td>\n      <td>26</td>\n      <td>США</td>\n      <td>NaN</td>\n      <td>50 мг</td>\n      <td>таблетки</td>\n      <td>100178</td>\n      <td>...</td>\n      <td>Пфайзер</td>\n      <td></td>\n      <td>a219a283-5674-498e-a828-d11bd7d7c4fc</td>\n      <td>0.0</td>\n      <td>drug</td>\n      <td>2</td>\n      <td>a:3:{s:5:\"VALUE\";a:1:{i:0;s:4:\"6817\";}s:11:\"DE...</td>\n      <td>a:3:{s:5:\"VALUE\";a:0:{}s:11:\"DESCRIPTION\";a:0:...</td>\n      <td>RX</td>\n      <td></td>\n    </tr>\n    <tr>\n      <th>2</th>\n      <td>461365</td>\n      <td>a:3:{s:5:\"VALUE\";a:0:{}s:11:\"DESCRIPTION\";a:0:...</td>\n      <td>a:3:{s:5:\"VALUE\";a:0:{}s:11:\"DESCRIPTION\";a:0:...</td>\n      <td>23a5c4b5-6f26-4053-b728-cb864a4edcbd</td>\n      <td>20</td>\n      <td>США</td>\n      <td>NaN</td>\n      <td>25 мг</td>\n      <td>таблетки</td>\n      <td>100180</td>\n      <td>...</td>\n      <td>Пфайзер</td>\n      <td></td>\n      <td>a219a283-5674-498e-a828-d11bd7d7c4fc</td>\n      <td>0.0</td>\n      <td>drug</td>\n      <td>1</td>\n      <td>a:3:{s:5:\"VALUE\";a:1:{i:0;s:4:\"6817\";}s:11:\"DE...</td>\n      <td>a:3:{s:5:\"VALUE\";a:0:{}s:11:\"DESCRIPTION\";a:0:...</td>\n      <td>RX</td>\n      <td></td>\n    </tr>\n    <tr>\n      <th>3</th>\n      <td>461366</td>\n      <td>a:3:{s:5:\"VALUE\";a:0:{}s:11:\"DESCRIPTION\";a:0:...</td>\n      <td>a:3:{s:5:\"VALUE\";a:0:{}s:11:\"DESCRIPTION\";a:0:...</td>\n      <td>23a5c4b5-6f26-4053-b728-cb864a4edcbd</td>\n      <td>28</td>\n      <td>США</td>\n      <td>NaN</td>\n      <td>50 мг</td>\n      <td>таблетки</td>\n      <td>100183</td>\n      <td>...</td>\n      <td>Пфайзер</td>\n      <td></td>\n      <td>a219a283-5674-498e-a828-d11bd7d7c4fc</td>\n      <td>0.0</td>\n      <td>drug</td>\n      <td>1</td>\n      <td>a:3:{s:5:\"VALUE\";a:1:{i:0;s:4:\"6817\";}s:11:\"DE...</td>\n      <td>a:3:{s:5:\"VALUE\";a:0:{}s:11:\"DESCRIPTION\";a:0:...</td>\n      <td>RX</td>\n      <td></td>\n    </tr>\n    <tr>\n      <th>4</th>\n      <td>461367</td>\n      <td>a:3:{s:5:\"VALUE\";a:0:{}s:11:\"DESCRIPTION\";a:0:...</td>\n      <td>a:3:{s:5:\"VALUE\";a:0:{}s:11:\"DESCRIPTION\";a:0:...</td>\n      <td>23a5c4b5-6f26-4053-b728-cb864a4edcbd</td>\n      <td>22</td>\n      <td>США</td>\n      <td>NaN</td>\n      <td>50 мг</td>\n      <td>таблетки</td>\n      <td>100184</td>\n      <td>...</td>\n      <td>Пфайзер</td>\n      <td></td>\n      <td>a219a283-5674-498e-a828-d11bd7d7c4fc</td>\n      <td>0.0</td>\n      <td>drug</td>\n      <td>4</td>\n      <td>a:3:{s:5:\"VALUE\";a:2:{i:0;s:4:\"6817\";i:1;s:4:\"...</td>\n      <td>a:3:{s:5:\"VALUE\";a:0:{}s:11:\"DESCRIPTION\";a:0:...</td>\n      <td>RX</td>\n      <td></td>\n    </tr>\n    <tr>\n      <th>...</th>\n      <td>...</td>\n      <td>...</td>\n      <td>...</td>\n      <td>...</td>\n      <td>...</td>\n      <td>...</td>\n      <td>...</td>\n      <td>...</td>\n      <td>...</td>\n      <td>...</td>\n      <td>...</td>\n      <td>...</td>\n      <td>...</td>\n      <td>...</td>\n      <td>...</td>\n      <td>...</td>\n      <td>...</td>\n      <td>...</td>\n      <td>...</td>\n      <td>...</td>\n      <td>...</td>\n    </tr>\n    <tr>\n      <th>40017</th>\n      <td>1311472</td>\n      <td>None</td>\n      <td>None</td>\n      <td>9aca1a48-6306-b673-9141-c7c6dcedd585</td>\n      <td>7</td>\n      <td>None</td>\n      <td>NaN</td>\n      <td></td>\n      <td></td>\n      <td></td>\n      <td>...</td>\n      <td>None</td>\n      <td></td>\n      <td>a0cf8fbc-e423-ab7b-e017-add4c7777ead</td>\n      <td>0.0</td>\n      <td>None</td>\n      <td></td>\n      <td>None</td>\n      <td>None</td>\n      <td>ПФ</td>\n      <td>None</td>\n    </tr>\n    <tr>\n      <th>40018</th>\n      <td>1311513</td>\n      <td>None</td>\n      <td>None</td>\n      <td></td>\n      <td>1</td>\n      <td>None</td>\n      <td>NaN</td>\n      <td></td>\n      <td></td>\n      <td>490492</td>\n      <td>...</td>\n      <td>None</td>\n      <td></td>\n      <td>64bad913-7136-939b-64ec-ea9f7093651c</td>\n      <td>0.0</td>\n      <td>None</td>\n      <td>250 мл</td>\n      <td>None</td>\n      <td>None</td>\n      <td>ПФ</td>\n      <td>None</td>\n    </tr>\n    <tr>\n      <th>40019</th>\n      <td>1311514</td>\n      <td>None</td>\n      <td>None</td>\n      <td>ebadd128-2438-4f50-8609-2a74188b1393</td>\n      <td>2</td>\n      <td>None</td>\n      <td>NaN</td>\n      <td></td>\n      <td></td>\n      <td></td>\n      <td>...</td>\n      <td>None</td>\n      <td></td>\n      <td>7321bc80-f24a-4ee1-8ae8-d51e9cca9df6</td>\n      <td>0.0</td>\n      <td>None</td>\n      <td></td>\n      <td>None</td>\n      <td>None</td>\n      <td>ПФ</td>\n      <td>None</td>\n    </tr>\n    <tr>\n      <th>40020</th>\n      <td>1311515</td>\n      <td>None</td>\n      <td>None</td>\n      <td>26baf9da-8f8e-49fb-97cb-c0b1ed6ae21d</td>\n      <td>6</td>\n      <td>None</td>\n      <td>NaN</td>\n      <td></td>\n      <td></td>\n      <td></td>\n      <td>...</td>\n      <td>None</td>\n      <td></td>\n      <td>7c54231b-5026-466e-a1d5-1deecdb0443d</td>\n      <td>0.0</td>\n      <td>None</td>\n      <td></td>\n      <td>None</td>\n      <td>None</td>\n      <td>ПФ</td>\n      <td>None</td>\n    </tr>\n    <tr>\n      <th>40021</th>\n      <td>1316818</td>\n      <td>None</td>\n      <td>None</td>\n      <td>14bada28-24b5-4447-8288-b7a5b53068b7</td>\n      <td>23</td>\n      <td>None</td>\n      <td>NaN</td>\n      <td>500 мг</td>\n      <td>таблетки</td>\n      <td>204079</td>\n      <td>...</td>\n      <td>None</td>\n      <td></td>\n      <td>60be33c3-9a02-1ac1-3025-fb48d54eb114</td>\n      <td>0.0</td>\n      <td>None</td>\n      <td>100</td>\n      <td>None</td>\n      <td>None</td>\n      <td>ОТС</td>\n      <td>None</td>\n    </tr>\n  </tbody>\n</table>\n<p>40022 rows × 23 columns</p>\n</div>"
     },
     "metadata": {},
     "execution_count": 145
    }
   ],
   "source": [
    "col = ['ID_PRODUCT']\n",
    "for i, I in property.drop(index=[20, 21, 23]).iterrows():\n",
    "    col.append(I.CODE)\n",
    "propertyV.columns = col\n",
    "propertyV"
   ]
  },
  {
   "cell_type": "code",
   "execution_count": 158,
   "metadata": {},
   "outputs": [
    {
     "output_type": "execute_result",
     "data": {
      "text/plain": [
       "1812     2.0\n",
       "7320     2.0\n",
       "28743    0.0\n",
       "Name: COURSE_QUANTITY, dtype: float64"
      ]
     },
     "metadata": {},
     "execution_count": 158
    }
   ],
   "source": [
    "propertyV['COURSE_QUANTITY'].dropna()"
   ]
  },
  {
   "cell_type": "code",
   "execution_count": 6,
   "metadata": {},
   "outputs": [],
   "source": [
    "df.columns = ['ID_DRUG', 'ID_PRODUCT', 'NAME_DRUG', 'DRUG_CODE']\n",
    "products.columns = ['ID_PRODUCT', 'NAME_PRODUCT']\n",
    "df = df.dropna()\n",
    "df['ID_PRODUCT'] = df['ID_PRODUCT'].apply(lambda x:int(x))"
   ]
  },
  {
   "cell_type": "code",
   "execution_count": 154,
   "metadata": {},
   "outputs": [
    {
     "output_type": "execute_result",
     "data": {
      "text/plain": [
       "       ID_DRUG  ID_PRODUCT     NAME_DRUG      DRUG_CODE  \\\n",
       "0         53.0      461363    Силденафил     sildenafil   \n",
       "1         53.0      461364    Силденафил     sildenafil   \n",
       "2         53.0      461365    Силденафил     sildenafil   \n",
       "3         53.0      461366    Силденафил     sildenafil   \n",
       "4         53.0      461367    Силденафил     sildenafil   \n",
       "...        ...         ...           ...            ...   \n",
       "40017      NaN     1311472           NaN            NaN   \n",
       "40018      NaN     1311513           NaN            NaN   \n",
       "40019      NaN     1311514           NaN            NaN   \n",
       "40020      NaN     1311515           NaN            NaN   \n",
       "40021   1513.0     1316818  Магния оксид  magniya_oksid   \n",
       "\n",
       "                                            NAME_PRODUCT  \n",
       "0                         Виагра, таблетки 100 мг, 2 шт.  \n",
       "1                          Виагра, таблетки 50 мг, 2 шт.  \n",
       "2                          Виагра, таблетки 25 мг, 1 шт.  \n",
       "3                          Виагра, таблетки 50 мг, 1 шт.  \n",
       "4                          Виагра, таблетки 50 мг, 4 шт.  \n",
       "...                                                  ...  \n",
       "40017  Medhelp Лейкопластырь фиксирующий на шелковой ...  \n",
       "40018        Топинамбур Премиум сироп без сахара, 250 мл  \n",
       "40019  Maneki Диски ватные двусторонние косметические...  \n",
       "40020  Vichy Purete Thermale набор Тоник 200 мл+Гель ...  \n",
       "40021                  Магнерот таблетки 500 мг, 100 шт.  \n",
       "\n",
       "[40022 rows x 5 columns]"
      ],
      "text/html": "<div>\n<style scoped>\n    .dataframe tbody tr th:only-of-type {\n        vertical-align: middle;\n    }\n\n    .dataframe tbody tr th {\n        vertical-align: top;\n    }\n\n    .dataframe thead th {\n        text-align: right;\n    }\n</style>\n<table border=\"1\" class=\"dataframe\">\n  <thead>\n    <tr style=\"text-align: right;\">\n      <th></th>\n      <th>ID_DRUG</th>\n      <th>ID_PRODUCT</th>\n      <th>NAME_DRUG</th>\n      <th>DRUG_CODE</th>\n      <th>NAME_PRODUCT</th>\n    </tr>\n  </thead>\n  <tbody>\n    <tr>\n      <th>0</th>\n      <td>53.0</td>\n      <td>461363</td>\n      <td>Силденафил</td>\n      <td>sildenafil</td>\n      <td>Виагра, таблетки 100 мг, 2 шт.</td>\n    </tr>\n    <tr>\n      <th>1</th>\n      <td>53.0</td>\n      <td>461364</td>\n      <td>Силденафил</td>\n      <td>sildenafil</td>\n      <td>Виагра, таблетки 50 мг, 2 шт.</td>\n    </tr>\n    <tr>\n      <th>2</th>\n      <td>53.0</td>\n      <td>461365</td>\n      <td>Силденафил</td>\n      <td>sildenafil</td>\n      <td>Виагра, таблетки 25 мг, 1 шт.</td>\n    </tr>\n    <tr>\n      <th>3</th>\n      <td>53.0</td>\n      <td>461366</td>\n      <td>Силденафил</td>\n      <td>sildenafil</td>\n      <td>Виагра, таблетки 50 мг, 1 шт.</td>\n    </tr>\n    <tr>\n      <th>4</th>\n      <td>53.0</td>\n      <td>461367</td>\n      <td>Силденафил</td>\n      <td>sildenafil</td>\n      <td>Виагра, таблетки 50 мг, 4 шт.</td>\n    </tr>\n    <tr>\n      <th>...</th>\n      <td>...</td>\n      <td>...</td>\n      <td>...</td>\n      <td>...</td>\n      <td>...</td>\n    </tr>\n    <tr>\n      <th>40017</th>\n      <td>NaN</td>\n      <td>1311472</td>\n      <td>NaN</td>\n      <td>NaN</td>\n      <td>Medhelp Лейкопластырь фиксирующий на шелковой ...</td>\n    </tr>\n    <tr>\n      <th>40018</th>\n      <td>NaN</td>\n      <td>1311513</td>\n      <td>NaN</td>\n      <td>NaN</td>\n      <td>Топинамбур Премиум сироп без сахара, 250 мл</td>\n    </tr>\n    <tr>\n      <th>40019</th>\n      <td>NaN</td>\n      <td>1311514</td>\n      <td>NaN</td>\n      <td>NaN</td>\n      <td>Maneki Диски ватные двусторонние косметические...</td>\n    </tr>\n    <tr>\n      <th>40020</th>\n      <td>NaN</td>\n      <td>1311515</td>\n      <td>NaN</td>\n      <td>NaN</td>\n      <td>Vichy Purete Thermale набор Тоник 200 мл+Гель ...</td>\n    </tr>\n    <tr>\n      <th>40021</th>\n      <td>1513.0</td>\n      <td>1316818</td>\n      <td>Магния оксид</td>\n      <td>magniya_oksid</td>\n      <td>Магнерот таблетки 500 мг, 100 шт.</td>\n    </tr>\n  </tbody>\n</table>\n<p>40022 rows × 5 columns</p>\n</div>"
     },
     "metadata": {},
     "execution_count": 154
    }
   ],
   "source": [
    "drug = pd.DataFrame.merge(df, products, how='right', on=['ID_PRODUCT'])\n",
    "drug"
   ]
  },
  {
   "cell_type": "code",
   "execution_count": 162,
   "metadata": {},
   "outputs": [],
   "source": [
    "drugs = pd.DataFrame.merge(drug, propertyV[['ID_PRODUCT','DOSAGE', 'DRUG_FORM', 'PACKING']], how='left', on=['ID_PRODUCT'])"
   ]
  },
  {
   "cell_type": "code",
   "execution_count": 163,
   "metadata": {},
   "outputs": [],
   "source": [
    "drugs.to_json('drugs.json')"
   ]
  },
  {
   "source": [
    "# Поиск пользователей для подписки"
   ],
   "cell_type": "markdown",
   "metadata": {}
  },
  {
   "cell_type": "code",
   "execution_count": 36,
   "metadata": {},
   "outputs": [],
   "source": [
    "basket = pd.DataFrame(get_data_json(dr+'basket.json')) # корзина\n",
    "order = pd.DataFrame(get_data_json(dr+'orders.json')) # пользователи\n",
    "products = pd.read_json('products.json')"
   ]
  },
  {
   "cell_type": "code",
   "execution_count": 41,
   "metadata": {},
   "outputs": [],
   "source": [
    "basket.columns = ['ID', 'PRODUCT_ID', 'QANTITY', 'PRICE', 'DETAIL_PAGE_URL']\n",
    "order = order[['ID', 'DATE_INSERT', 'USER_ID']]\n",
    "products.columns = ['PRODUCT_ID', 'PRODUCT_NAME']"
   ]
  },
  {
   "cell_type": "code",
   "execution_count": 43,
   "metadata": {},
   "outputs": [],
   "source": [
    "b = pd.DataFrame.merge(basket, order, how='left', on=['ID'])\n",
    "buys = pd.DataFrame.merge(b,products, how='left', on=['PRODUCT_ID'])"
   ]
  },
  {
   "cell_type": "code",
   "execution_count": 8,
   "metadata": {},
   "outputs": [],
   "source": [
    "buys = pd.read_json(dr+'buys.json')"
   ]
  },
  {
   "cell_type": "code",
   "execution_count": 44,
   "metadata": {},
   "outputs": [
    {
     "output_type": "execute_result",
     "data": {
      "text/plain": [
       "               ID  PRODUCT_ID  QANTITY   PRICE            DETAIL_PAGE_URL  \\\n",
       "0        11881925      873128      1.0  2554.0           /goods/id303563/   \n",
       "1        11881927      461853      4.0   675.0           /goods/id116631/   \n",
       "2        11881937      466634      4.0   222.0       /spb/goods/id215482/   \n",
       "3        11881937      465982      4.0   179.0       /spb/goods/id214008/   \n",
       "4        11881937      477396      4.0   126.0       /spb/goods/id241663/   \n",
       "...           ...         ...      ...     ...                        ...   \n",
       "1254293  13584077      466585      1.0   520.0   /saratov/goods/id215398/   \n",
       "1254294  13584321      463097      2.0   348.0       /perm/goods/id20631/   \n",
       "1254295  13584324      468104      1.0  2382.0  /tolyatti/goods/id219056/   \n",
       "1254296  13584488      464160      1.0   828.0           /goods/id209967/   \n",
       "1254297  13584488      463081      1.0   921.0           /goods/id206251/   \n",
       "\n",
       "                 DATE_INSERT  USER_ID  \\\n",
       "0        2021-03-01 00:00:03  2270260   \n",
       "1        2021-03-01 00:00:12   457662   \n",
       "2        2021-03-01 00:01:19  3408182   \n",
       "3        2021-03-01 00:01:19  3408182   \n",
       "4        2021-03-01 00:01:19  3408182   \n",
       "...                      ...      ...   \n",
       "1254293  2021-05-21 17:31:13  4792735   \n",
       "1254294  2021-05-21 17:44:01  2781936   \n",
       "1254295  2021-05-21 17:44:00  4094658   \n",
       "1254296  2021-05-21 17:52:40   444128   \n",
       "1254297  2021-05-21 17:52:40   444128   \n",
       "\n",
       "                                              PRODUCT_NAME  \n",
       "0        Солгар для кожи, ногтей и волос, таблетки 120 шт.  \n",
       "1                                Солкосерил, мазь 5%, 20 г  \n",
       "2                                    Липобейз, крем, 75 мл  \n",
       "3                                 Сонные, таблетки, 30 шт.  \n",
       "4                          911 Шампунь нейтральный, 150 мл  \n",
       "...                                                    ...  \n",
       "1254293                Изопринозин, таблетки 500 мг 20 шт.  \n",
       "1254294          Энтерофурил, суспензия 200 мг/5 мл, 90 мл  \n",
       "1254295                     Индинол Форто, капсулы, 60 шт.  \n",
       "1254296        Тест-полоски Контур ТС (Contour TS), 50 шт.  \n",
       "1254297                Тест-полоски Акку-Чек Актив, 50 шт.  \n",
       "\n",
       "[1254298 rows x 8 columns]"
      ],
      "text/html": "<div>\n<style scoped>\n    .dataframe tbody tr th:only-of-type {\n        vertical-align: middle;\n    }\n\n    .dataframe tbody tr th {\n        vertical-align: top;\n    }\n\n    .dataframe thead th {\n        text-align: right;\n    }\n</style>\n<table border=\"1\" class=\"dataframe\">\n  <thead>\n    <tr style=\"text-align: right;\">\n      <th></th>\n      <th>ID</th>\n      <th>PRODUCT_ID</th>\n      <th>QANTITY</th>\n      <th>PRICE</th>\n      <th>DETAIL_PAGE_URL</th>\n      <th>DATE_INSERT</th>\n      <th>USER_ID</th>\n      <th>PRODUCT_NAME</th>\n    </tr>\n  </thead>\n  <tbody>\n    <tr>\n      <th>0</th>\n      <td>11881925</td>\n      <td>873128</td>\n      <td>1.0</td>\n      <td>2554.0</td>\n      <td>/goods/id303563/</td>\n      <td>2021-03-01 00:00:03</td>\n      <td>2270260</td>\n      <td>Солгар для кожи, ногтей и волос, таблетки 120 шт.</td>\n    </tr>\n    <tr>\n      <th>1</th>\n      <td>11881927</td>\n      <td>461853</td>\n      <td>4.0</td>\n      <td>675.0</td>\n      <td>/goods/id116631/</td>\n      <td>2021-03-01 00:00:12</td>\n      <td>457662</td>\n      <td>Солкосерил, мазь 5%, 20 г</td>\n    </tr>\n    <tr>\n      <th>2</th>\n      <td>11881937</td>\n      <td>466634</td>\n      <td>4.0</td>\n      <td>222.0</td>\n      <td>/spb/goods/id215482/</td>\n      <td>2021-03-01 00:01:19</td>\n      <td>3408182</td>\n      <td>Липобейз, крем, 75 мл</td>\n    </tr>\n    <tr>\n      <th>3</th>\n      <td>11881937</td>\n      <td>465982</td>\n      <td>4.0</td>\n      <td>179.0</td>\n      <td>/spb/goods/id214008/</td>\n      <td>2021-03-01 00:01:19</td>\n      <td>3408182</td>\n      <td>Сонные, таблетки, 30 шт.</td>\n    </tr>\n    <tr>\n      <th>4</th>\n      <td>11881937</td>\n      <td>477396</td>\n      <td>4.0</td>\n      <td>126.0</td>\n      <td>/spb/goods/id241663/</td>\n      <td>2021-03-01 00:01:19</td>\n      <td>3408182</td>\n      <td>911 Шампунь нейтральный, 150 мл</td>\n    </tr>\n    <tr>\n      <th>...</th>\n      <td>...</td>\n      <td>...</td>\n      <td>...</td>\n      <td>...</td>\n      <td>...</td>\n      <td>...</td>\n      <td>...</td>\n      <td>...</td>\n    </tr>\n    <tr>\n      <th>1254293</th>\n      <td>13584077</td>\n      <td>466585</td>\n      <td>1.0</td>\n      <td>520.0</td>\n      <td>/saratov/goods/id215398/</td>\n      <td>2021-05-21 17:31:13</td>\n      <td>4792735</td>\n      <td>Изопринозин, таблетки 500 мг 20 шт.</td>\n    </tr>\n    <tr>\n      <th>1254294</th>\n      <td>13584321</td>\n      <td>463097</td>\n      <td>2.0</td>\n      <td>348.0</td>\n      <td>/perm/goods/id20631/</td>\n      <td>2021-05-21 17:44:01</td>\n      <td>2781936</td>\n      <td>Энтерофурил, суспензия 200 мг/5 мл, 90 мл</td>\n    </tr>\n    <tr>\n      <th>1254295</th>\n      <td>13584324</td>\n      <td>468104</td>\n      <td>1.0</td>\n      <td>2382.0</td>\n      <td>/tolyatti/goods/id219056/</td>\n      <td>2021-05-21 17:44:00</td>\n      <td>4094658</td>\n      <td>Индинол Форто, капсулы, 60 шт.</td>\n    </tr>\n    <tr>\n      <th>1254296</th>\n      <td>13584488</td>\n      <td>464160</td>\n      <td>1.0</td>\n      <td>828.0</td>\n      <td>/goods/id209967/</td>\n      <td>2021-05-21 17:52:40</td>\n      <td>444128</td>\n      <td>Тест-полоски Контур ТС (Contour TS), 50 шт.</td>\n    </tr>\n    <tr>\n      <th>1254297</th>\n      <td>13584488</td>\n      <td>463081</td>\n      <td>1.0</td>\n      <td>921.0</td>\n      <td>/goods/id206251/</td>\n      <td>2021-05-21 17:52:40</td>\n      <td>444128</td>\n      <td>Тест-полоски Акку-Чек Актив, 50 шт.</td>\n    </tr>\n  </tbody>\n</table>\n<p>1254298 rows × 8 columns</p>\n</div>"
     },
     "metadata": {},
     "execution_count": 44
    }
   ],
   "source": [
    "buys"
   ]
  },
  {
   "cell_type": "code",
   "execution_count": 45,
   "metadata": {},
   "outputs": [],
   "source": [
    "gbbuys = buys.groupby('USER_ID')\n",
    "users = buys['USER_ID'].drop_duplicates()"
   ]
  },
  {
   "cell_type": "code",
   "execution_count": 61,
   "metadata": {},
   "outputs": [],
   "source": [
    "count_user = 0 # -- Количество пользователей которым нужна будет подписка\n",
    "dictus = {'USER_ID':[], 'IS_SUB':[], 'PHONE':[], 'ID_PRODUCT':[], 'PRODUCT_NAME':[]}\n",
    "for ind, id in users.items():\n",
    "    df = gbbuys.get_group(id)\n",
    "    dictus['USER_ID'].append(id)\n",
    "    dictus['PHONE'].append(89001234567)\n",
    "    vcs = df['PRODUCT_ID'].value_counts()\n",
    "    most = df['PRODUCT_ID'].value_counts().index[0]\n",
    "    if len(df[df['PRODUCT_ID']==most]['ID'].drop_duplicates()) > 2:\n",
    "      count_user += 1\n",
    "      dictus['IS_SUB'].append(1)\n",
    "      dictus['ID_PRODUCT'].append(most)\n",
    "      dictus['PRODUCT_NAME'].append(df[df['PRODUCT_ID']==most]['PRODUCT_NAME'])\n",
    "    else:\n",
    "      dictus['IS_SUB'].append(0)\n",
    "      dictus['ID_PRODUCT'].append(0)\n",
    "      dictus['PRODUCT_NAME'].append('None')"
   ]
  },
  {
   "cell_type": "code",
   "execution_count": 62,
   "metadata": {},
   "outputs": [],
   "source": [
    "pd.DataFrame(dictus).to_json('usersProduct.json') # для записи в бд"
   ]
  },
  {
   "cell_type": "code",
   "execution_count": 53,
   "metadata": {},
   "outputs": [
    {
     "output_type": "execute_result",
     "data": {
      "text/plain": [
       "        USER_ID  IS_SUB        PHONE  ID_PRODUCT PRODUCT_NAME\n",
       "0       2270260   False  89001234567         NaN         None\n",
       "1        457662   False  89001234567         NaN         None\n",
       "2       3408182   False  89001234567         NaN         None\n",
       "3        404621   False  89001234567         NaN         None\n",
       "4       1773822   False  89001234567         NaN         None\n",
       "...         ...     ...          ...         ...          ...\n",
       "108655  4933018   False  89001234567         NaN         None\n",
       "108656  4933956   False  89001234567         NaN         None\n",
       "108657  4799062   False  89001234567         NaN         None\n",
       "108658  4937213   False  89001234567         NaN         None\n",
       "108659  4938814   False  89001234567         NaN         None\n",
       "\n",
       "[108660 rows x 5 columns]"
      ],
      "text/html": "<div>\n<style scoped>\n    .dataframe tbody tr th:only-of-type {\n        vertical-align: middle;\n    }\n\n    .dataframe tbody tr th {\n        vertical-align: top;\n    }\n\n    .dataframe thead th {\n        text-align: right;\n    }\n</style>\n<table border=\"1\" class=\"dataframe\">\n  <thead>\n    <tr style=\"text-align: right;\">\n      <th></th>\n      <th>USER_ID</th>\n      <th>IS_SUB</th>\n      <th>PHONE</th>\n      <th>ID_PRODUCT</th>\n      <th>PRODUCT_NAME</th>\n    </tr>\n  </thead>\n  <tbody>\n    <tr>\n      <th>0</th>\n      <td>2270260</td>\n      <td>False</td>\n      <td>89001234567</td>\n      <td>NaN</td>\n      <td>None</td>\n    </tr>\n    <tr>\n      <th>1</th>\n      <td>457662</td>\n      <td>False</td>\n      <td>89001234567</td>\n      <td>NaN</td>\n      <td>None</td>\n    </tr>\n    <tr>\n      <th>2</th>\n      <td>3408182</td>\n      <td>False</td>\n      <td>89001234567</td>\n      <td>NaN</td>\n      <td>None</td>\n    </tr>\n    <tr>\n      <th>3</th>\n      <td>404621</td>\n      <td>False</td>\n      <td>89001234567</td>\n      <td>NaN</td>\n      <td>None</td>\n    </tr>\n    <tr>\n      <th>4</th>\n      <td>1773822</td>\n      <td>False</td>\n      <td>89001234567</td>\n      <td>NaN</td>\n      <td>None</td>\n    </tr>\n    <tr>\n      <th>...</th>\n      <td>...</td>\n      <td>...</td>\n      <td>...</td>\n      <td>...</td>\n      <td>...</td>\n    </tr>\n    <tr>\n      <th>108655</th>\n      <td>4933018</td>\n      <td>False</td>\n      <td>89001234567</td>\n      <td>NaN</td>\n      <td>None</td>\n    </tr>\n    <tr>\n      <th>108656</th>\n      <td>4933956</td>\n      <td>False</td>\n      <td>89001234567</td>\n      <td>NaN</td>\n      <td>None</td>\n    </tr>\n    <tr>\n      <th>108657</th>\n      <td>4799062</td>\n      <td>False</td>\n      <td>89001234567</td>\n      <td>NaN</td>\n      <td>None</td>\n    </tr>\n    <tr>\n      <th>108658</th>\n      <td>4937213</td>\n      <td>False</td>\n      <td>89001234567</td>\n      <td>NaN</td>\n      <td>None</td>\n    </tr>\n    <tr>\n      <th>108659</th>\n      <td>4938814</td>\n      <td>False</td>\n      <td>89001234567</td>\n      <td>NaN</td>\n      <td>None</td>\n    </tr>\n  </tbody>\n</table>\n<p>108660 rows × 5 columns</p>\n</div>"
     },
     "metadata": {},
     "execution_count": 53
    }
   ],
   "source": [
    "df1"
   ]
  },
  {
   "cell_type": "code",
   "execution_count": null,
   "metadata": {},
   "outputs": [],
   "source": [
    "df1.to_json('usersProduct.json')"
   ]
  },
  {
   "cell_type": "code",
   "execution_count": 12,
   "metadata": {},
   "outputs": [
    {
     "output_type": "stream",
     "name": "stdout",
     "text": [
      "ВСЕГО ПОЛЬЗОВАТЕЛЕЙ В ВЫБОРКЕ:\t 108660\nКОЛИЧЕСТВО ПОЛЬЗОВАТЕЛЕЙ, КОТОРЫМ РЕКОМЕНДОВАНА ПОДПИСКА:\t 18050\n"
     ]
    }
   ],
   "source": [
    "print(\"ВСЕГО ПОЛЬЗОВАТЕЛЕЙ В ВЫБОРКЕ:\\t\", len(users.value_counts()))\n",
    "print(\"КОЛИЧЕСТВО ПОЛЬЗОВАТЕЛЕЙ, КОТОРЫМ РЕКОМЕНДОВАНА ПОДПИСКА:\\t\", count_user)"
   ]
  },
  {
   "cell_type": "code",
   "execution_count": 13,
   "metadata": {},
   "outputs": [
    {
     "output_type": "execute_result",
     "data": {
      "text/plain": [
       "(-1.1102921983456704,\n",
       " 1.191307306736415,\n",
       " -1.1056031673219318,\n",
       " 1.1063289644415168)"
      ]
     },
     "metadata": {},
     "execution_count": 13
    },
    {
     "output_type": "display_data",
     "data": {
      "text/plain": "<Figure size 432x288 with 1 Axes>",
      "image/svg+xml": "<?xml version=\"1.0\" encoding=\"utf-8\" standalone=\"no\"?>\r\n<!DOCTYPE svg PUBLIC \"-//W3C//DTD SVG 1.1//EN\"\r\n  \"http://www.w3.org/Graphics/SVG/1.1/DTD/svg11.dtd\">\r\n<!-- Created with matplotlib (https://matplotlib.org/) -->\r\n<svg height=\"257.948995pt\" version=\"1.1\" viewBox=\"0 0 402.5835 257.948995\" width=\"402.5835pt\" xmlns=\"http://www.w3.org/2000/svg\" xmlns:xlink=\"http://www.w3.org/1999/xlink\">\r\n <metadata>\r\n  <rdf:RDF xmlns:cc=\"http://creativecommons.org/ns#\" xmlns:dc=\"http://purl.org/dc/elements/1.1/\" xmlns:rdf=\"http://www.w3.org/1999/02/22-rdf-syntax-ns#\">\r\n   <cc:Work>\r\n    <dc:type rdf:resource=\"http://purl.org/dc/dcmitype/StillImage\"/>\r\n    <dc:date>2021-05-30T09:10:12.842553</dc:date>\r\n    <dc:format>image/svg+xml</dc:format>\r\n    <dc:creator>\r\n     <cc:Agent>\r\n      <dc:title>Matplotlib v3.3.2, https://matplotlib.org/</dc:title>\r\n     </cc:Agent>\r\n    </dc:creator>\r\n   </cc:Work>\r\n  </rdf:RDF>\r\n </metadata>\r\n <defs>\r\n  <style type=\"text/css\">*{stroke-linecap:butt;stroke-linejoin:round;}</style>\r\n </defs>\r\n <g id=\"figure_1\">\r\n  <g id=\"patch_1\">\r\n   <path d=\"M 0 257.948995 \r\nL 402.5835 257.948995 \r\nL 402.5835 0 \r\nL 0 0 \r\nz\r\n\" style=\"fill:none;\"/>\r\n  </g>\r\n  <g id=\"axes_1\">\r\n   <g id=\"patch_2\">\r\n    <path d=\"M 275.476931 139.130349 \r\nC 275.476931 121.933623 270.964453 105.034204 262.391938 90.126509 \r\nC 253.819423 75.218814 241.483285 62.818308 226.620405 54.168327 \r\nL 177.173734 139.130349 \r\nL 275.476931 139.130349 \r\nz\r\n\" style=\"fill:#092436;opacity:0.5;stroke:#092436;stroke-dasharray:3.7,1.6;stroke-dashoffset:0;stroke-linejoin:miter;\"/>\r\n   </g>\r\n   <g id=\"patch_3\">\r\n    <path d=\"M 218.098585 59.068711 \r\nC 208.803856 53.659312 198.684133 49.811638 188.143418 47.679294 \r\nC 177.602702 45.54695 166.783153 45.158696 156.11671 46.53003 \r\nC 145.450266 47.901364 135.080783 51.013792 125.422233 55.74306 \r\nC 115.763682 60.472328 106.946326 66.754653 99.322171 74.339233 \r\nC 91.698016 81.923812 85.369888 90.708353 80.590418 100.342161 \r\nC 75.810947 109.975968 72.644595 120.329112 71.217768 130.988274 \r\nC 69.790941 141.647437 70.122882 152.46886 72.20034 163.02053 \r\nC 74.277798 173.5722 78.072754 183.71181 83.433706 193.034565 \r\nC 88.794658 202.357321 95.649305 210.737488 103.723994 217.840514 \r\nC 111.798683 224.94354 120.984513 230.673627 130.914768 234.802019 \r\nC 140.845022 238.930411 151.385774 241.40143 162.116215 242.116426 \r\nC 172.846655 242.831423 183.622066 241.780755 194.01227 239.006366 \r\nC 204.402475 236.231978 214.267342 231.771287 223.213048 225.802374 \r\nC 232.158754 219.83346 240.064649 212.436825 246.615113 203.907758 \r\nC 253.165578 195.37869 258.272268 185.83222 261.731313 175.649461 \r\nC 265.190359 165.466702 266.955109 154.784987 266.955111 144.030752 \r\nL 168.651914 144.030733 \r\nL 218.098585 59.068711 \r\nz\r\n\" style=\"fill:#4c2604;opacity:0.5;stroke:#4c2604;stroke-dasharray:3.7,1.6;stroke-dashoffset:0;stroke-linejoin:miter;\"/>\r\n   </g>\r\n   <g id=\"patch_4\">\r\n    <path d=\"M 277.442995 137.164285 \r\nC 277.442995 119.967559 272.930516 103.06814 264.358002 88.160445 \r\nC 255.785487 73.25275 243.449349 60.852244 228.586469 52.202263 \r\nL 179.139798 137.164285 \r\nL 277.442995 137.164285 \r\nz\r\n\" style=\"fill:#1f77b4;stroke:#000000;stroke-dasharray:3.7,1.6;stroke-dashoffset:0;stroke-linejoin:miter;\"/>\r\n   </g>\r\n   <g id=\"patch_5\">\r\n    <path d=\"M 220.064649 57.102647 \r\nC 210.76992 51.693249 200.650197 47.845574 190.109482 45.71323 \r\nC 179.568766 43.580886 168.749217 43.192632 158.082773 44.563966 \r\nC 147.41633 45.9353 137.046847 49.047728 127.388297 53.776996 \r\nC 117.729746 58.506264 108.91239 64.78859 101.288235 72.373169 \r\nC 93.66408 79.957748 87.335952 88.742289 82.556481 98.376097 \r\nC 77.777011 108.009904 74.610659 118.363048 73.183832 129.02221 \r\nC 71.757005 139.681373 72.088946 150.502796 74.166404 161.054466 \r\nC 76.243862 171.606136 80.038818 181.745746 85.39977 191.068502 \r\nC 90.760722 200.391257 97.615369 208.771424 105.690058 215.87445 \r\nC 113.764747 222.977476 122.950577 228.707563 132.880832 232.835955 \r\nC 142.811086 236.964347 153.351838 239.435366 164.082279 240.150362 \r\nC 174.812719 240.865359 185.58813 239.814691 195.978334 237.040302 \r\nC 206.368539 234.265914 216.233406 229.805223 225.179112 223.83631 \r\nC 234.124818 217.867396 242.030713 210.470761 248.581177 201.941694 \r\nC 255.131642 193.412627 260.238332 183.866156 263.697377 173.683397 \r\nC 267.156423 163.500638 268.921173 152.818923 268.921175 142.064688 \r\nL 170.617978 142.064669 \r\nL 220.064649 57.102647 \r\nz\r\n\" style=\"fill:#ff7f0e;stroke:#000000;stroke-dasharray:3.7,1.6;stroke-dashoffset:0;stroke-linejoin:miter;\"/>\r\n   </g>\r\n   <g id=\"matplotlib.axis_1\"/>\r\n   <g id=\"matplotlib.axis_2\"/>\r\n   <g id=\"text_1\">\r\n    <!-- Рекомендована подписка -->\r\n    <g transform=\"translate(276.66762 81.457198)rotate(-29.900606)scale(0.1 -0.1)\">\r\n     <defs>\r\n      <path d=\"M 19.671875 64.796875 \r\nL 19.671875 37.40625 \r\nL 32.078125 37.40625 \r\nQ 38.96875 37.40625 42.71875 40.96875 \r\nQ 46.484375 44.53125 46.484375 51.125 \r\nQ 46.484375 57.671875 42.71875 61.234375 \r\nQ 38.96875 64.796875 32.078125 64.796875 \r\nz\r\nM 9.8125 72.90625 \r\nL 32.078125 72.90625 \r\nQ 44.34375 72.90625 50.609375 67.359375 \r\nQ 56.890625 61.8125 56.890625 51.125 \r\nQ 56.890625 40.328125 50.609375 34.8125 \r\nQ 44.34375 29.296875 32.078125 29.296875 \r\nL 19.671875 29.296875 \r\nL 19.671875 0 \r\nL 9.8125 0 \r\nz\r\n\" id=\"DejaVuSans-1056\"/>\r\n      <path d=\"M 56.203125 29.59375 \r\nL 56.203125 25.203125 \r\nL 14.890625 25.203125 \r\nQ 15.484375 15.921875 20.484375 11.0625 \r\nQ 25.484375 6.203125 34.421875 6.203125 \r\nQ 39.59375 6.203125 44.453125 7.46875 \r\nQ 49.3125 8.734375 54.109375 11.28125 \r\nL 54.109375 2.78125 \r\nQ 49.265625 0.734375 44.1875 -0.34375 \r\nQ 39.109375 -1.421875 33.890625 -1.421875 \r\nQ 20.796875 -1.421875 13.15625 6.1875 \r\nQ 5.515625 13.8125 5.515625 26.8125 \r\nQ 5.515625 40.234375 12.765625 48.109375 \r\nQ 20.015625 56 32.328125 56 \r\nQ 43.359375 56 49.78125 48.890625 \r\nQ 56.203125 41.796875 56.203125 29.59375 \r\nz\r\nM 47.21875 32.234375 \r\nQ 47.125 39.59375 43.09375 43.984375 \r\nQ 39.0625 48.390625 32.421875 48.390625 \r\nQ 24.90625 48.390625 20.390625 44.140625 \r\nQ 15.875 39.890625 15.1875 32.171875 \r\nz\r\n\" id=\"DejaVuSans-1077\"/>\r\n      <path d=\"M 9.078125 54.6875 \r\nL 18.015625 54.6875 \r\nL 18.015625 29 \r\nL 43.359375 54.6875 \r\nL 54.390625 54.6875 \r\nL 33.5 33.546875 \r\nL 57.078125 0 \r\nL 47.015625 0 \r\nL 27.640625 27.59375 \r\nL 18.015625 17.828125 \r\nL 18.015625 0 \r\nL 9.078125 0 \r\nz\r\n\" id=\"DejaVuSans-1082\"/>\r\n      <path d=\"M 30.609375 48.390625 \r\nQ 23.390625 48.390625 19.1875 42.75 \r\nQ 14.984375 37.109375 14.984375 27.296875 \r\nQ 14.984375 17.484375 19.15625 11.84375 \r\nQ 23.34375 6.203125 30.609375 6.203125 \r\nQ 37.796875 6.203125 41.984375 11.859375 \r\nQ 46.1875 17.53125 46.1875 27.296875 \r\nQ 46.1875 37.015625 41.984375 42.703125 \r\nQ 37.796875 48.390625 30.609375 48.390625 \r\nz\r\nM 30.609375 56 \r\nQ 42.328125 56 49.015625 48.375 \r\nQ 55.71875 40.765625 55.71875 27.296875 \r\nQ 55.71875 13.875 49.015625 6.21875 \r\nQ 42.328125 -1.421875 30.609375 -1.421875 \r\nQ 18.84375 -1.421875 12.171875 6.21875 \r\nQ 5.515625 13.875 5.515625 27.296875 \r\nQ 5.515625 40.765625 12.171875 48.375 \r\nQ 18.84375 56 30.609375 56 \r\nz\r\n\" id=\"DejaVuSans-1086\"/>\r\n      <path d=\"M 9.078125 54.6875 \r\nL 22.21875 54.6875 \r\nL 37.75 18.0625 \r\nL 53.328125 54.6875 \r\nL 66.359375 54.6875 \r\nL 66.359375 0 \r\nL 57.328125 0 \r\nL 57.328125 46.09375 \r\nL 42.234375 10.5 \r\nL 33.25 10.5 \r\nL 18.109375 46.09375 \r\nL 18.109375 0 \r\nL 9.078125 0 \r\nz\r\n\" id=\"DejaVuSans-1084\"/>\r\n      <path d=\"M 9.078125 54.6875 \r\nL 18.109375 54.6875 \r\nL 18.109375 32.375 \r\nL 47.265625 32.375 \r\nL 47.265625 54.6875 \r\nL 56.296875 54.6875 \r\nL 56.296875 0 \r\nL 47.265625 0 \r\nL 47.265625 25.203125 \r\nL 18.109375 25.203125 \r\nL 18.109375 0 \r\nL 9.078125 0 \r\nz\r\n\" id=\"DejaVuSans-1085\"/>\r\n      <path d=\"M 21.625 7.171875 \r\nL 47.703125 7.171875 \r\nL 47.703125 47.515625 \r\nL 28.8125 47.515625 \r\nL 28.8125 40.671875 \r\nQ 28.8125 20.5625 23.046875 9.8125 \r\nz\r\nM 8.59375 7.171875 \r\nQ 13.03125 9.125 14.984375 13.28125 \r\nQ 19.78125 23.578125 19.78125 44.34375 \r\nL 19.78125 54.6875 \r\nL 56.734375 54.6875 \r\nL 56.734375 7.171875 \r\nL 63.921875 7.171875 \r\nL 63.921875 -13.8125 \r\nL 56.734375 -13.8125 \r\nL 56.734375 0 \r\nL 12.40625 0 \r\nL 12.40625 -13.8125 \r\nL 5.21875 -13.8125 \r\nL 5.21875 7.171875 \r\nz\r\n\" id=\"DejaVuSans-1076\"/>\r\n      <path d=\"M 18.0625 25.203125 \r\nL 18.0625 7.171875 \r\nL 30.859375 7.171875 \r\nQ 37.015625 7.171875 40.234375 9.484375 \r\nQ 43.453125 11.8125 43.453125 16.21875 \r\nQ 43.453125 20.609375 40.234375 22.90625 \r\nQ 37.015625 25.203125 30.859375 25.203125 \r\nz\r\nM 18.0625 47.515625 \r\nL 18.0625 32.375 \r\nL 29.890625 32.375 \r\nQ 34.96875 32.375 38.1875 34.390625 \r\nQ 41.40625 36.421875 41.40625 40.046875 \r\nQ 41.40625 43.65625 38.1875 45.578125 \r\nQ 34.96875 47.515625 29.890625 47.515625 \r\nz\r\nM 9.078125 54.6875 \r\nL 30.46875 54.6875 \r\nQ 40.09375 54.6875 45.265625 51.171875 \r\nQ 50.4375 47.65625 50.4375 41.15625 \r\nQ 50.4375 36.140625 47.796875 33.171875 \r\nQ 45.171875 30.21875 39.984375 29.5 \r\nQ 46.1875 28.328125 49.609375 24.609375 \r\nQ 53.03125 20.90625 53.03125 15.328125 \r\nQ 53.03125 8.015625 47.390625 4 \r\nQ 41.75 0 31.296875 0 \r\nL 9.078125 0 \r\nz\r\n\" id=\"DejaVuSans-1074\"/>\r\n      <path d=\"M 34.28125 27.484375 \r\nQ 23.390625 27.484375 19.1875 25 \r\nQ 14.984375 22.515625 14.984375 16.5 \r\nQ 14.984375 11.71875 18.140625 8.90625 \r\nQ 21.296875 6.109375 26.703125 6.109375 \r\nQ 34.1875 6.109375 38.703125 11.40625 \r\nQ 43.21875 16.703125 43.21875 25.484375 \r\nL 43.21875 27.484375 \r\nz\r\nM 52.203125 31.203125 \r\nL 52.203125 0 \r\nL 43.21875 0 \r\nL 43.21875 8.296875 \r\nQ 40.140625 3.328125 35.546875 0.953125 \r\nQ 30.953125 -1.421875 24.3125 -1.421875 \r\nQ 15.921875 -1.421875 10.953125 3.296875 \r\nQ 6 8.015625 6 15.921875 \r\nQ 6 25.140625 12.171875 29.828125 \r\nQ 18.359375 34.515625 30.609375 34.515625 \r\nL 43.21875 34.515625 \r\nL 43.21875 35.40625 \r\nQ 43.21875 41.609375 39.140625 45 \r\nQ 35.0625 48.390625 27.6875 48.390625 \r\nQ 23 48.390625 18.546875 47.265625 \r\nQ 14.109375 46.140625 10.015625 43.890625 \r\nL 10.015625 52.203125 \r\nQ 14.9375 54.109375 19.578125 55.046875 \r\nQ 24.21875 56 28.609375 56 \r\nQ 40.484375 56 46.34375 49.84375 \r\nQ 52.203125 43.703125 52.203125 31.203125 \r\nz\r\n\" id=\"DejaVuSans-1072\"/>\r\n      <path id=\"DejaVuSans-32\"/>\r\n      <path d=\"M 56.296875 54.6875 \r\nL 56.296875 0 \r\nL 47.265625 0 \r\nL 47.265625 47.515625 \r\nL 18.109375 47.515625 \r\nL 18.109375 0 \r\nL 9.078125 0 \r\nL 9.078125 54.6875 \r\nz\r\n\" id=\"DejaVuSans-1087\"/>\r\n      <path d=\"M 55.90625 54.6875 \r\nL 55.90625 0 \r\nL 46.96875 0 \r\nL 46.96875 43.890625 \r\nL 20.609375 0 \r\nL 9.078125 0 \r\nL 9.078125 54.6875 \r\nL 18.015625 54.6875 \r\nL 18.015625 10.890625 \r\nL 44.34375 54.6875 \r\nz\r\n\" id=\"DejaVuSans-1080\"/>\r\n      <path d=\"M 48.78125 52.59375 \r\nL 48.78125 44.1875 \r\nQ 44.96875 46.296875 41.140625 47.34375 \r\nQ 37.3125 48.390625 33.40625 48.390625 \r\nQ 24.65625 48.390625 19.8125 42.84375 \r\nQ 14.984375 37.3125 14.984375 27.296875 \r\nQ 14.984375 17.28125 19.8125 11.734375 \r\nQ 24.65625 6.203125 33.40625 6.203125 \r\nQ 37.3125 6.203125 41.140625 7.25 \r\nQ 44.96875 8.296875 48.78125 10.40625 \r\nL 48.78125 2.09375 \r\nQ 45.015625 0.34375 40.984375 -0.53125 \r\nQ 36.96875 -1.421875 32.421875 -1.421875 \r\nQ 20.0625 -1.421875 12.78125 6.34375 \r\nQ 5.515625 14.109375 5.515625 27.296875 \r\nQ 5.515625 40.671875 12.859375 48.328125 \r\nQ 20.21875 56 33.015625 56 \r\nQ 37.15625 56 41.109375 55.140625 \r\nQ 45.0625 54.296875 48.78125 52.59375 \r\nz\r\n\" id=\"DejaVuSans-1089\"/>\r\n     </defs>\r\n     <use xlink:href=\"#DejaVuSans-1056\"/>\r\n     <use x=\"60.302734\" xlink:href=\"#DejaVuSans-1077\"/>\r\n     <use x=\"121.826172\" xlink:href=\"#DejaVuSans-1082\"/>\r\n     <use x=\"182.226562\" xlink:href=\"#DejaVuSans-1086\"/>\r\n     <use x=\"243.408203\" xlink:href=\"#DejaVuSans-1084\"/>\r\n     <use x=\"318.847656\" xlink:href=\"#DejaVuSans-1077\"/>\r\n     <use x=\"380.371094\" xlink:href=\"#DejaVuSans-1085\"/>\r\n     <use x=\"445.751953\" xlink:href=\"#DejaVuSans-1076\"/>\r\n     <use x=\"514.892578\" xlink:href=\"#DejaVuSans-1086\"/>\r\n     <use x=\"576.074219\" xlink:href=\"#DejaVuSans-1074\"/>\r\n     <use x=\"635.009766\" xlink:href=\"#DejaVuSans-1072\"/>\r\n     <use x=\"696.289062\" xlink:href=\"#DejaVuSans-1085\"/>\r\n     <use x=\"761.669922\" xlink:href=\"#DejaVuSans-1072\"/>\r\n     <use x=\"822.949219\" xlink:href=\"#DejaVuSans-32\"/>\r\n     <use x=\"854.736328\" xlink:href=\"#DejaVuSans-1087\"/>\r\n     <use x=\"920.117188\" xlink:href=\"#DejaVuSans-1086\"/>\r\n     <use x=\"981.298828\" xlink:href=\"#DejaVuSans-1076\"/>\r\n     <use x=\"1050.439453\" xlink:href=\"#DejaVuSans-1087\"/>\r\n     <use x=\"1115.820312\" xlink:href=\"#DejaVuSans-1080\"/>\r\n     <use x=\"1180.810547\" xlink:href=\"#DejaVuSans-1089\"/>\r\n     <use x=\"1235.791016\" xlink:href=\"#DejaVuSans-1082\"/>\r\n     <use x=\"1296.191406\" xlink:href=\"#DejaVuSans-1072\"/>\r\n    </g>\r\n   </g>\r\n   <g id=\"text_2\">\r\n    <!-- 16.6% -->\r\n    <g transform=\"translate(214.387126 110.521356)scale(0.1 -0.1)\">\r\n     <defs>\r\n      <path d=\"M 12.40625 8.296875 \r\nL 28.515625 8.296875 \r\nL 28.515625 63.921875 \r\nL 10.984375 60.40625 \r\nL 10.984375 69.390625 \r\nL 28.421875 72.90625 \r\nL 38.28125 72.90625 \r\nL 38.28125 8.296875 \r\nL 54.390625 8.296875 \r\nL 54.390625 0 \r\nL 12.40625 0 \r\nz\r\n\" id=\"DejaVuSans-49\"/>\r\n      <path d=\"M 33.015625 40.375 \r\nQ 26.375 40.375 22.484375 35.828125 \r\nQ 18.609375 31.296875 18.609375 23.390625 \r\nQ 18.609375 15.53125 22.484375 10.953125 \r\nQ 26.375 6.390625 33.015625 6.390625 \r\nQ 39.65625 6.390625 43.53125 10.953125 \r\nQ 47.40625 15.53125 47.40625 23.390625 \r\nQ 47.40625 31.296875 43.53125 35.828125 \r\nQ 39.65625 40.375 33.015625 40.375 \r\nz\r\nM 52.59375 71.296875 \r\nL 52.59375 62.3125 \r\nQ 48.875 64.0625 45.09375 64.984375 \r\nQ 41.3125 65.921875 37.59375 65.921875 \r\nQ 27.828125 65.921875 22.671875 59.328125 \r\nQ 17.53125 52.734375 16.796875 39.40625 \r\nQ 19.671875 43.65625 24.015625 45.921875 \r\nQ 28.375 48.1875 33.59375 48.1875 \r\nQ 44.578125 48.1875 50.953125 41.515625 \r\nQ 57.328125 34.859375 57.328125 23.390625 \r\nQ 57.328125 12.15625 50.6875 5.359375 \r\nQ 44.046875 -1.421875 33.015625 -1.421875 \r\nQ 20.359375 -1.421875 13.671875 8.265625 \r\nQ 6.984375 17.96875 6.984375 36.375 \r\nQ 6.984375 53.65625 15.1875 63.9375 \r\nQ 23.390625 74.21875 37.203125 74.21875 \r\nQ 40.921875 74.21875 44.703125 73.484375 \r\nQ 48.484375 72.75 52.59375 71.296875 \r\nz\r\n\" id=\"DejaVuSans-54\"/>\r\n      <path d=\"M 10.6875 12.40625 \r\nL 21 12.40625 \r\nL 21 0 \r\nL 10.6875 0 \r\nz\r\n\" id=\"DejaVuSans-46\"/>\r\n      <path d=\"M 72.703125 32.078125 \r\nQ 68.453125 32.078125 66.03125 28.46875 \r\nQ 63.625 24.859375 63.625 18.40625 \r\nQ 63.625 12.0625 66.03125 8.421875 \r\nQ 68.453125 4.78125 72.703125 4.78125 \r\nQ 76.859375 4.78125 79.265625 8.421875 \r\nQ 81.6875 12.0625 81.6875 18.40625 \r\nQ 81.6875 24.8125 79.265625 28.4375 \r\nQ 76.859375 32.078125 72.703125 32.078125 \r\nz\r\nM 72.703125 38.28125 \r\nQ 80.421875 38.28125 84.953125 32.90625 \r\nQ 89.5 27.546875 89.5 18.40625 \r\nQ 89.5 9.28125 84.9375 3.921875 \r\nQ 80.375 -1.421875 72.703125 -1.421875 \r\nQ 64.890625 -1.421875 60.34375 3.921875 \r\nQ 55.8125 9.28125 55.8125 18.40625 \r\nQ 55.8125 27.59375 60.375 32.9375 \r\nQ 64.9375 38.28125 72.703125 38.28125 \r\nz\r\nM 22.3125 68.015625 \r\nQ 18.109375 68.015625 15.6875 64.375 \r\nQ 13.28125 60.75 13.28125 54.390625 \r\nQ 13.28125 47.953125 15.671875 44.328125 \r\nQ 18.0625 40.71875 22.3125 40.71875 \r\nQ 26.5625 40.71875 28.96875 44.328125 \r\nQ 31.390625 47.953125 31.390625 54.390625 \r\nQ 31.390625 60.6875 28.953125 64.34375 \r\nQ 26.515625 68.015625 22.3125 68.015625 \r\nz\r\nM 66.40625 74.21875 \r\nL 74.21875 74.21875 \r\nL 28.609375 -1.421875 \r\nL 20.796875 -1.421875 \r\nz\r\nM 22.3125 74.21875 \r\nQ 30.03125 74.21875 34.609375 68.875 \r\nQ 39.203125 63.53125 39.203125 54.390625 \r\nQ 39.203125 45.171875 34.640625 39.84375 \r\nQ 30.078125 34.515625 22.3125 34.515625 \r\nQ 14.546875 34.515625 10.03125 39.859375 \r\nQ 5.515625 45.21875 5.515625 54.390625 \r\nQ 5.515625 63.484375 10.046875 68.84375 \r\nQ 14.59375 74.21875 22.3125 74.21875 \r\nz\r\n\" id=\"DejaVuSans-37\"/>\r\n     </defs>\r\n     <use xlink:href=\"#DejaVuSans-49\"/>\r\n     <use x=\"63.623047\" xlink:href=\"#DejaVuSans-54\"/>\r\n     <use x=\"127.246094\" xlink:href=\"#DejaVuSans-46\"/>\r\n     <use x=\"159.033203\" xlink:href=\"#DejaVuSans-54\"/>\r\n     <use x=\"222.65625\" xlink:href=\"#DejaVuSans-37\"/>\r\n    </g>\r\n   </g>\r\n   <g id=\"text_3\">\r\n    <!-- Без подписки -->\r\n    <g transform=\"translate(13.292299 238.52401)rotate(-29.900601)scale(0.1 -0.1)\">\r\n     <defs>\r\n      <path d=\"M 51.125 21.4375 \r\nQ 51.125 28.21875 47.28125 31.515625 \r\nQ 43.453125 34.8125 35.5 34.8125 \r\nL 19.671875 34.8125 \r\nL 19.671875 8.109375 \r\nL 35.5 8.109375 \r\nQ 43.453125 8.109375 47.28125 11.40625 \r\nQ 51.125 14.703125 51.125 21.4375 \r\nz\r\nM 56.390625 72.90625 \r\nL 56.390625 64.796875 \r\nL 19.671875 64.796875 \r\nL 19.671875 42.921875 \r\nL 35.984375 42.921875 \r\nQ 48.25 42.921875 54.890625 37.59375 \r\nQ 61.53125 32.28125 61.53125 21.4375 \r\nQ 61.53125 10.640625 55.109375 5.3125 \r\nQ 48.6875 0 35.984375 0 \r\nL 9.8125 0 \r\nL 9.8125 72.90625 \r\nz\r\n\" id=\"DejaVuSans-1041\"/>\r\n      <path d=\"M 34.46875 29.5 \r\nQ 40.53125 28.328125 43.890625 24.75 \r\nQ 47.265625 21.1875 47.265625 15.921875 \r\nQ 47.265625 7.46875 40.96875 3.015625 \r\nQ 34.671875 -1.421875 23.046875 -1.421875 \r\nQ 19.140625 -1.421875 15.015625 -0.734375 \r\nQ 10.890625 -0.046875 6.5 1.3125 \r\nL 6.5 9.671875 \r\nQ 9.96875 7.859375 14.109375 6.953125 \r\nQ 18.265625 6.0625 22.796875 6.0625 \r\nQ 30.171875 6.0625 34.296875 8.796875 \r\nQ 38.421875 11.53125 38.421875 15.921875 \r\nQ 38.421875 20.21875 34.765625 22.828125 \r\nQ 31.109375 25.4375 24.421875 25.4375 \r\nL 17.1875 25.4375 \r\nL 17.1875 32.859375 \r\nL 24.75 32.859375 \r\nQ 30.421875 32.859375 33.71875 35.03125 \r\nQ 37.015625 37.203125 37.015625 40.625 \r\nQ 37.015625 43.75 33.609375 46 \r\nQ 30.21875 48.25 24.421875 48.25 \r\nQ 20.953125 48.25 17.015625 47.609375 \r\nQ 13.09375 46.96875 8.34375 45.5625 \r\nL 8.34375 53.71875 \r\nQ 13.140625 54.890625 17.28125 55.46875 \r\nQ 21.4375 56.0625 25.140625 56.0625 \r\nQ 34.71875 56.0625 40.25 52.21875 \r\nQ 45.796875 48.390625 45.796875 41.5 \r\nQ 45.796875 36.96875 42.859375 33.8125 \r\nQ 39.9375 30.671875 34.46875 29.5 \r\nz\r\n\" id=\"DejaVuSans-1079\"/>\r\n     </defs>\r\n     <use xlink:href=\"#DejaVuSans-1041\"/>\r\n     <use x=\"68.603516\" xlink:href=\"#DejaVuSans-1077\"/>\r\n     <use x=\"130.126953\" xlink:href=\"#DejaVuSans-1079\"/>\r\n     <use x=\"183.300781\" xlink:href=\"#DejaVuSans-32\"/>\r\n     <use x=\"215.087891\" xlink:href=\"#DejaVuSans-1087\"/>\r\n     <use x=\"280.46875\" xlink:href=\"#DejaVuSans-1086\"/>\r\n     <use x=\"341.650391\" xlink:href=\"#DejaVuSans-1076\"/>\r\n     <use x=\"410.791016\" xlink:href=\"#DejaVuSans-1087\"/>\r\n     <use x=\"476.171875\" xlink:href=\"#DejaVuSans-1080\"/>\r\n     <use x=\"541.162109\" xlink:href=\"#DejaVuSans-1089\"/>\r\n     <use x=\"596.142578\" xlink:href=\"#DejaVuSans-1082\"/>\r\n     <use x=\"656.542969\" xlink:href=\"#DejaVuSans-1080\"/>\r\n    </g>\r\n   </g>\r\n   <g id=\"text_4\">\r\n    <!-- 83.4% -->\r\n    <g transform=\"translate(103.603459 174.226344)scale(0.1 -0.1)\">\r\n     <defs>\r\n      <path d=\"M 31.78125 34.625 \r\nQ 24.75 34.625 20.71875 30.859375 \r\nQ 16.703125 27.09375 16.703125 20.515625 \r\nQ 16.703125 13.921875 20.71875 10.15625 \r\nQ 24.75 6.390625 31.78125 6.390625 \r\nQ 38.8125 6.390625 42.859375 10.171875 \r\nQ 46.921875 13.96875 46.921875 20.515625 \r\nQ 46.921875 27.09375 42.890625 30.859375 \r\nQ 38.875 34.625 31.78125 34.625 \r\nz\r\nM 21.921875 38.8125 \r\nQ 15.578125 40.375 12.03125 44.71875 \r\nQ 8.5 49.078125 8.5 55.328125 \r\nQ 8.5 64.0625 14.71875 69.140625 \r\nQ 20.953125 74.21875 31.78125 74.21875 \r\nQ 42.671875 74.21875 48.875 69.140625 \r\nQ 55.078125 64.0625 55.078125 55.328125 \r\nQ 55.078125 49.078125 51.53125 44.71875 \r\nQ 48 40.375 41.703125 38.8125 \r\nQ 48.828125 37.15625 52.796875 32.3125 \r\nQ 56.78125 27.484375 56.78125 20.515625 \r\nQ 56.78125 9.90625 50.3125 4.234375 \r\nQ 43.84375 -1.421875 31.78125 -1.421875 \r\nQ 19.734375 -1.421875 13.25 4.234375 \r\nQ 6.78125 9.90625 6.78125 20.515625 \r\nQ 6.78125 27.484375 10.78125 32.3125 \r\nQ 14.796875 37.15625 21.921875 38.8125 \r\nz\r\nM 18.3125 54.390625 \r\nQ 18.3125 48.734375 21.84375 45.5625 \r\nQ 25.390625 42.390625 31.78125 42.390625 \r\nQ 38.140625 42.390625 41.71875 45.5625 \r\nQ 45.3125 48.734375 45.3125 54.390625 \r\nQ 45.3125 60.0625 41.71875 63.234375 \r\nQ 38.140625 66.40625 31.78125 66.40625 \r\nQ 25.390625 66.40625 21.84375 63.234375 \r\nQ 18.3125 60.0625 18.3125 54.390625 \r\nz\r\n\" id=\"DejaVuSans-56\"/>\r\n      <path d=\"M 40.578125 39.3125 \r\nQ 47.65625 37.796875 51.625 33 \r\nQ 55.609375 28.21875 55.609375 21.1875 \r\nQ 55.609375 10.40625 48.1875 4.484375 \r\nQ 40.765625 -1.421875 27.09375 -1.421875 \r\nQ 22.515625 -1.421875 17.65625 -0.515625 \r\nQ 12.796875 0.390625 7.625 2.203125 \r\nL 7.625 11.71875 \r\nQ 11.71875 9.328125 16.59375 8.109375 \r\nQ 21.484375 6.890625 26.8125 6.890625 \r\nQ 36.078125 6.890625 40.9375 10.546875 \r\nQ 45.796875 14.203125 45.796875 21.1875 \r\nQ 45.796875 27.640625 41.28125 31.265625 \r\nQ 36.765625 34.90625 28.71875 34.90625 \r\nL 20.21875 34.90625 \r\nL 20.21875 43.015625 \r\nL 29.109375 43.015625 \r\nQ 36.375 43.015625 40.234375 45.921875 \r\nQ 44.09375 48.828125 44.09375 54.296875 \r\nQ 44.09375 59.90625 40.109375 62.90625 \r\nQ 36.140625 65.921875 28.71875 65.921875 \r\nQ 24.65625 65.921875 20.015625 65.03125 \r\nQ 15.375 64.15625 9.8125 62.3125 \r\nL 9.8125 71.09375 \r\nQ 15.4375 72.65625 20.34375 73.4375 \r\nQ 25.25 74.21875 29.59375 74.21875 \r\nQ 40.828125 74.21875 47.359375 69.109375 \r\nQ 53.90625 64.015625 53.90625 55.328125 \r\nQ 53.90625 49.265625 50.4375 45.09375 \r\nQ 46.96875 40.921875 40.578125 39.3125 \r\nz\r\n\" id=\"DejaVuSans-51\"/>\r\n      <path d=\"M 37.796875 64.3125 \r\nL 12.890625 25.390625 \r\nL 37.796875 25.390625 \r\nz\r\nM 35.203125 72.90625 \r\nL 47.609375 72.90625 \r\nL 47.609375 25.390625 \r\nL 58.015625 25.390625 \r\nL 58.015625 17.1875 \r\nL 47.609375 17.1875 \r\nL 47.609375 0 \r\nL 37.796875 0 \r\nL 37.796875 17.1875 \r\nL 4.890625 17.1875 \r\nL 4.890625 26.703125 \r\nz\r\n\" id=\"DejaVuSans-52\"/>\r\n     </defs>\r\n     <use xlink:href=\"#DejaVuSans-56\"/>\r\n     <use x=\"63.623047\" xlink:href=\"#DejaVuSans-51\"/>\r\n     <use x=\"127.246094\" xlink:href=\"#DejaVuSans-46\"/>\r\n     <use x=\"159.033203\" xlink:href=\"#DejaVuSans-52\"/>\r\n     <use x=\"222.65625\" xlink:href=\"#DejaVuSans-37\"/>\r\n    </g>\r\n   </g>\r\n  </g>\r\n </g>\r\n</svg>\r\n",
      "image/png": "[encoded data removed]"
     },
     "metadata": {}
    }
   ],
   "source": [
    "percent = count_user / len(users) * 100\n",
    "vals = [percent, 100-percent]\n",
    "labels = ['Рекомендована подписка', 'Без подписки']\n",
    "explode = (0.1, 0)\n",
    "\n",
    "fig, ax = plt.subplots()\n",
    "ax.pie(vals, labels=labels, autopct='%1.1f%%', shadow=True, explode=explode, wedgeprops={'lw':1, 'ls':'--','edgecolor':\"k\"}, rotatelabels=True)\n",
    "ax.axis(\"equal\")"
   ]
  },
  {
   "source": [
    "## В данном случае пользователем которому стоит порекомендовать подписку считается такой пользователь, который совершил более 2 уникальных покупок одного товара. Уникальной покупкой считается такая покупка лекарства которая была произведена не в один день, в разных корзинах. "
   ],
   "cell_type": "markdown",
   "metadata": {}
  },
  {
   "cell_type": "code",
   "execution_count": 20,
   "metadata": {},
   "outputs": [],
   "source": [
    "for ind, id in users.items():\n",
    "    df = gbbuys.get_group(id)"
   ]
  },
  {
   "cell_type": "code",
   "execution_count": 31,
   "metadata": {},
   "outputs": [
    {
     "output_type": "execute_result",
     "data": {
      "text/plain": [
       "               ID  PRODUCT_ID  QANTITY   PRICE       DETAIL_PAGE_URL  \\\n",
       "2        11881937      466634        4   222.0  /spb/goods/id215482/   \n",
       "3        11881937      465982        4   179.0  /spb/goods/id214008/   \n",
       "4        11881937      477396        4   126.0  /spb/goods/id241663/   \n",
       "545316   12611735      826399        2   198.0  /spb/goods/id296172/   \n",
       "545317   12611735      473450        5     4.0  /spb/goods/id234140/   \n",
       "545318   12611735      947696        1  1146.0  /spb/goods/id294524/   \n",
       "545319   12611735      471504        1   301.0  /spb/goods/id227381/   \n",
       "545320   12611735     1169345        1   104.0  /spb/goods/id498514/   \n",
       "545321   12611735      624407        2    86.0   /spb/goods/id44413/   \n",
       "684657   12794324      465568        1   501.0  /spb/goods/id213089/   \n",
       "684658   12794324      468388        2   234.0  /spb/goods/id219701/   \n",
       "684659   12794324     1045615        1   544.0  /spb/goods/id350674/   \n",
       "684660   12794324      466603        1   495.0  /spb/goods/id215423/   \n",
       "684661   12794324      494945        1   259.0   /spb/goods/id98983/   \n",
       "684662   12794324      464318       10    58.0  /spb/goods/id210345/   \n",
       "684663   12794324      465744        1   794.0  /spb/goods/id213429/   \n",
       "1060690  13285462     1023768        1   649.0  /spb/goods/id336691/   \n",
       "1060691  13285462      461393        2   400.0  /spb/goods/id101416/   \n",
       "1060692  13285462      465982        2   183.0  /spb/goods/id214008/   \n",
       "1060693  13285462      473087        1   100.0  /spb/goods/id233368/   \n",
       "1060694  13285462      616775        2    85.0  /spb/goods/id228766/   \n",
       "1060695  13285462      483534        1   116.0  /spb/goods/id250732/   \n",
       "1060696  13285462      886161        1    42.0  /spb/goods/id297615/   \n",
       "\n",
       "                 DATE_INSERT  USER_ID  \n",
       "2        2021-03-01 00:01:19  3408182  \n",
       "3        2021-03-01 00:01:19  3408182  \n",
       "4        2021-03-01 00:01:19  3408182  \n",
       "545316   2021-04-04 21:19:08  3408182  \n",
       "545317   2021-04-04 21:19:08  3408182  \n",
       "545318   2021-04-04 21:19:08  3408182  \n",
       "545319   2021-04-04 21:19:08  3408182  \n",
       "545320   2021-04-04 21:19:08  3408182  \n",
       "545321   2021-04-04 21:19:08  3408182  \n",
       "684657   2021-04-12 22:45:30  3408182  \n",
       "684658   2021-04-12 22:45:30  3408182  \n",
       "684659   2021-04-12 22:45:30  3408182  \n",
       "684660   2021-04-12 22:45:30  3408182  \n",
       "684661   2021-04-12 22:45:30  3408182  \n",
       "684662   2021-04-12 22:45:30  3408182  \n",
       "684663   2021-04-12 22:45:30  3408182  \n",
       "1060690  2021-05-06 21:03:42  3408182  \n",
       "1060691  2021-05-06 21:03:42  3408182  \n",
       "1060692  2021-05-06 21:03:42  3408182  \n",
       "1060693  2021-05-06 21:03:42  3408182  \n",
       "1060694  2021-05-06 21:03:42  3408182  \n",
       "1060695  2021-05-06 21:03:42  3408182  \n",
       "1060696  2021-05-06 21:03:42  3408182  "
      ],
      "text/html": "<div>\n<style scoped>\n    .dataframe tbody tr th:only-of-type {\n        vertical-align: middle;\n    }\n\n    .dataframe tbody tr th {\n        vertical-align: top;\n    }\n\n    .dataframe thead th {\n        text-align: right;\n    }\n</style>\n<table border=\"1\" class=\"dataframe\">\n  <thead>\n    <tr style=\"text-align: right;\">\n      <th></th>\n      <th>ID</th>\n      <th>PRODUCT_ID</th>\n      <th>QANTITY</th>\n      <th>PRICE</th>\n      <th>DETAIL_PAGE_URL</th>\n      <th>DATE_INSERT</th>\n      <th>USER_ID</th>\n    </tr>\n  </thead>\n  <tbody>\n    <tr>\n      <th>2</th>\n      <td>11881937</td>\n      <td>466634</td>\n      <td>4</td>\n      <td>222.0</td>\n      <td>/spb/goods/id215482/</td>\n      <td>2021-03-01 00:01:19</td>\n      <td>3408182</td>\n    </tr>\n    <tr>\n      <th>3</th>\n      <td>11881937</td>\n      <td>465982</td>\n      <td>4</td>\n      <td>179.0</td>\n      <td>/spb/goods/id214008/</td>\n      <td>2021-03-01 00:01:19</td>\n      <td>3408182</td>\n    </tr>\n    <tr>\n      <th>4</th>\n      <td>11881937</td>\n      <td>477396</td>\n      <td>4</td>\n      <td>126.0</td>\n      <td>/spb/goods/id241663/</td>\n      <td>2021-03-01 00:01:19</td>\n      <td>3408182</td>\n    </tr>\n    <tr>\n      <th>545316</th>\n      <td>12611735</td>\n      <td>826399</td>\n      <td>2</td>\n      <td>198.0</td>\n      <td>/spb/goods/id296172/</td>\n      <td>2021-04-04 21:19:08</td>\n      <td>3408182</td>\n    </tr>\n    <tr>\n      <th>545317</th>\n      <td>12611735</td>\n      <td>473450</td>\n      <td>5</td>\n      <td>4.0</td>\n      <td>/spb/goods/id234140/</td>\n      <td>2021-04-04 21:19:08</td>\n      <td>3408182</td>\n    </tr>\n    <tr>\n      <th>545318</th>\n      <td>12611735</td>\n      <td>947696</td>\n      <td>1</td>\n      <td>1146.0</td>\n      <td>/spb/goods/id294524/</td>\n      <td>2021-04-04 21:19:08</td>\n      <td>3408182</td>\n    </tr>\n    <tr>\n      <th>545319</th>\n      <td>12611735</td>\n      <td>471504</td>\n      <td>1</td>\n      <td>301.0</td>\n      <td>/spb/goods/id227381/</td>\n      <td>2021-04-04 21:19:08</td>\n      <td>3408182</td>\n    </tr>\n    <tr>\n      <th>545320</th>\n      <td>12611735</td>\n      <td>1169345</td>\n      <td>1</td>\n      <td>104.0</td>\n      <td>/spb/goods/id498514/</td>\n      <td>2021-04-04 21:19:08</td>\n      <td>3408182</td>\n    </tr>\n    <tr>\n      <th>545321</th>\n      <td>12611735</td>\n      <td>624407</td>\n      <td>2</td>\n      <td>86.0</td>\n      <td>/spb/goods/id44413/</td>\n      <td>2021-04-04 21:19:08</td>\n      <td>3408182</td>\n    </tr>\n    <tr>\n      <th>684657</th>\n      <td>12794324</td>\n      <td>465568</td>\n      <td>1</td>\n      <td>501.0</td>\n      <td>/spb/goods/id213089/</td>\n      <td>2021-04-12 22:45:30</td>\n      <td>3408182</td>\n    </tr>\n    <tr>\n      <th>684658</th>\n      <td>12794324</td>\n      <td>468388</td>\n      <td>2</td>\n      <td>234.0</td>\n      <td>/spb/goods/id219701/</td>\n      <td>2021-04-12 22:45:30</td>\n      <td>3408182</td>\n    </tr>\n    <tr>\n      <th>684659</th>\n      <td>12794324</td>\n      <td>1045615</td>\n      <td>1</td>\n      <td>544.0</td>\n      <td>/spb/goods/id350674/</td>\n      <td>2021-04-12 22:45:30</td>\n      <td>3408182</td>\n    </tr>\n    <tr>\n      <th>684660</th>\n      <td>12794324</td>\n      <td>466603</td>\n      <td>1</td>\n      <td>495.0</td>\n      <td>/spb/goods/id215423/</td>\n      <td>2021-04-12 22:45:30</td>\n      <td>3408182</td>\n    </tr>\n    <tr>\n      <th>684661</th>\n      <td>12794324</td>\n      <td>494945</td>\n      <td>1</td>\n      <td>259.0</td>\n      <td>/spb/goods/id98983/</td>\n      <td>2021-04-12 22:45:30</td>\n      <td>3408182</td>\n    </tr>\n    <tr>\n      <th>684662</th>\n      <td>12794324</td>\n      <td>464318</td>\n      <td>10</td>\n      <td>58.0</td>\n      <td>/spb/goods/id210345/</td>\n      <td>2021-04-12 22:45:30</td>\n      <td>3408182</td>\n    </tr>\n    <tr>\n      <th>684663</th>\n      <td>12794324</td>\n      <td>465744</td>\n      <td>1</td>\n      <td>794.0</td>\n      <td>/spb/goods/id213429/</td>\n      <td>2021-04-12 22:45:30</td>\n      <td>3408182</td>\n    </tr>\n    <tr>\n      <th>1060690</th>\n      <td>13285462</td>\n      <td>1023768</td>\n      <td>1</td>\n      <td>649.0</td>\n      <td>/spb/goods/id336691/</td>\n      <td>2021-05-06 21:03:42</td>\n      <td>3408182</td>\n    </tr>\n    <tr>\n      <th>1060691</th>\n      <td>13285462</td>\n      <td>461393</td>\n      <td>2</td>\n      <td>400.0</td>\n      <td>/spb/goods/id101416/</td>\n      <td>2021-05-06 21:03:42</td>\n      <td>3408182</td>\n    </tr>\n    <tr>\n      <th>1060692</th>\n      <td>13285462</td>\n      <td>465982</td>\n      <td>2</td>\n      <td>183.0</td>\n      <td>/spb/goods/id214008/</td>\n      <td>2021-05-06 21:03:42</td>\n      <td>3408182</td>\n    </tr>\n    <tr>\n      <th>1060693</th>\n      <td>13285462</td>\n      <td>473087</td>\n      <td>1</td>\n      <td>100.0</td>\n      <td>/spb/goods/id233368/</td>\n      <td>2021-05-06 21:03:42</td>\n      <td>3408182</td>\n    </tr>\n    <tr>\n      <th>1060694</th>\n      <td>13285462</td>\n      <td>616775</td>\n      <td>2</td>\n      <td>85.0</td>\n      <td>/spb/goods/id228766/</td>\n      <td>2021-05-06 21:03:42</td>\n      <td>3408182</td>\n    </tr>\n    <tr>\n      <th>1060695</th>\n      <td>13285462</td>\n      <td>483534</td>\n      <td>1</td>\n      <td>116.0</td>\n      <td>/spb/goods/id250732/</td>\n      <td>2021-05-06 21:03:42</td>\n      <td>3408182</td>\n    </tr>\n    <tr>\n      <th>1060696</th>\n      <td>13285462</td>\n      <td>886161</td>\n      <td>1</td>\n      <td>42.0</td>\n      <td>/spb/goods/id297615/</td>\n      <td>2021-05-06 21:03:42</td>\n      <td>3408182</td>\n    </tr>\n  </tbody>\n</table>\n</div>"
     },
     "metadata": {},
     "execution_count": 31
    }
   ],
   "source": [
    "df = gbbuys.get_group(3408182)\n",
    "df"
   ]
  },
  {
   "cell_type": "code",
   "execution_count": 25,
   "metadata": {},
   "outputs": [],
   "source": [
    "drug = pd.read_json('drugs.json')"
   ]
  },
  {
   "cell_type": "code",
   "execution_count": 26,
   "metadata": {},
   "outputs": [
    {
     "output_type": "execute_result",
     "data": {
      "text/plain": [
       "       ID_DRUG  ID_PRODUCT     NAME_DRUG      DRUG_CODE  \\\n",
       "0         53.0      461363    Силденафил     sildenafil   \n",
       "1         53.0      461364    Силденафил     sildenafil   \n",
       "2         53.0      461365    Силденафил     sildenafil   \n",
       "3         53.0      461366    Силденафил     sildenafil   \n",
       "4         53.0      461367    Силденафил     sildenafil   \n",
       "...        ...         ...           ...            ...   \n",
       "40017      NaN     1311472          None           None   \n",
       "40018      NaN     1311513          None           None   \n",
       "40019      NaN     1311514          None           None   \n",
       "40020      NaN     1311515          None           None   \n",
       "40021   1513.0     1316818  Магния оксид  magniya_oksid   \n",
       "\n",
       "                                            NAME_PRODUCT  DOSAGE DRUG_FORM  \\\n",
       "0                         Виагра, таблетки 100 мг, 2 шт.  100 мг  таблетки   \n",
       "1                          Виагра, таблетки 50 мг, 2 шт.   50 мг  таблетки   \n",
       "2                          Виагра, таблетки 25 мг, 1 шт.   25 мг  таблетки   \n",
       "3                          Виагра, таблетки 50 мг, 1 шт.   50 мг  таблетки   \n",
       "4                          Виагра, таблетки 50 мг, 4 шт.   50 мг  таблетки   \n",
       "...                                                  ...     ...       ...   \n",
       "40017  Medhelp Лейкопластырь фиксирующий на шелковой ...                     \n",
       "40018        Топинамбур Премиум сироп без сахара, 250 мл                     \n",
       "40019  Maneki Диски ватные двусторонние косметические...                     \n",
       "40020  Vichy Purete Thermale набор Тоник 200 мл+Гель ...                     \n",
       "40021                  Магнерот таблетки 500 мг, 100 шт.  500 мг  таблетки   \n",
       "\n",
       "      PACKING  \n",
       "0           2  \n",
       "1           2  \n",
       "2           1  \n",
       "3           1  \n",
       "4           4  \n",
       "...       ...  \n",
       "40017          \n",
       "40018  250 мл  \n",
       "40019          \n",
       "40020          \n",
       "40021     100  \n",
       "\n",
       "[40022 rows x 8 columns]"
      ],
      "text/html": "<div>\n<style scoped>\n    .dataframe tbody tr th:only-of-type {\n        vertical-align: middle;\n    }\n\n    .dataframe tbody tr th {\n        vertical-align: top;\n    }\n\n    .dataframe thead th {\n        text-align: right;\n    }\n</style>\n<table border=\"1\" class=\"dataframe\">\n  <thead>\n    <tr style=\"text-align: right;\">\n      <th></th>\n      <th>ID_DRUG</th>\n      <th>ID_PRODUCT</th>\n      <th>NAME_DRUG</th>\n      <th>DRUG_CODE</th>\n      <th>NAME_PRODUCT</th>\n      <th>DOSAGE</th>\n      <th>DRUG_FORM</th>\n      <th>PACKING</th>\n    </tr>\n  </thead>\n  <tbody>\n    <tr>\n      <th>0</th>\n      <td>53.0</td>\n      <td>461363</td>\n      <td>Силденафил</td>\n      <td>sildenafil</td>\n      <td>Виагра, таблетки 100 мг, 2 шт.</td>\n      <td>100 мг</td>\n      <td>таблетки</td>\n      <td>2</td>\n    </tr>\n    <tr>\n      <th>1</th>\n      <td>53.0</td>\n      <td>461364</td>\n      <td>Силденафил</td>\n      <td>sildenafil</td>\n      <td>Виагра, таблетки 50 мг, 2 шт.</td>\n      <td>50 мг</td>\n      <td>таблетки</td>\n      <td>2</td>\n    </tr>\n    <tr>\n      <th>2</th>\n      <td>53.0</td>\n      <td>461365</td>\n      <td>Силденафил</td>\n      <td>sildenafil</td>\n      <td>Виагра, таблетки 25 мг, 1 шт.</td>\n      <td>25 мг</td>\n      <td>таблетки</td>\n      <td>1</td>\n    </tr>\n    <tr>\n      <th>3</th>\n      <td>53.0</td>\n      <td>461366</td>\n      <td>Силденафил</td>\n      <td>sildenafil</td>\n      <td>Виагра, таблетки 50 мг, 1 шт.</td>\n      <td>50 мг</td>\n      <td>таблетки</td>\n      <td>1</td>\n    </tr>\n    <tr>\n      <th>4</th>\n      <td>53.0</td>\n      <td>461367</td>\n      <td>Силденафил</td>\n      <td>sildenafil</td>\n      <td>Виагра, таблетки 50 мг, 4 шт.</td>\n      <td>50 мг</td>\n      <td>таблетки</td>\n      <td>4</td>\n    </tr>\n    <tr>\n      <th>...</th>\n      <td>...</td>\n      <td>...</td>\n      <td>...</td>\n      <td>...</td>\n      <td>...</td>\n      <td>...</td>\n      <td>...</td>\n      <td>...</td>\n    </tr>\n    <tr>\n      <th>40017</th>\n      <td>NaN</td>\n      <td>1311472</td>\n      <td>None</td>\n      <td>None</td>\n      <td>Medhelp Лейкопластырь фиксирующий на шелковой ...</td>\n      <td></td>\n      <td></td>\n      <td></td>\n    </tr>\n    <tr>\n      <th>40018</th>\n      <td>NaN</td>\n      <td>1311513</td>\n      <td>None</td>\n      <td>None</td>\n      <td>Топинамбур Премиум сироп без сахара, 250 мл</td>\n      <td></td>\n      <td></td>\n      <td>250 мл</td>\n    </tr>\n    <tr>\n      <th>40019</th>\n      <td>NaN</td>\n      <td>1311514</td>\n      <td>None</td>\n      <td>None</td>\n      <td>Maneki Диски ватные двусторонние косметические...</td>\n      <td></td>\n      <td></td>\n      <td></td>\n    </tr>\n    <tr>\n      <th>40020</th>\n      <td>NaN</td>\n      <td>1311515</td>\n      <td>None</td>\n      <td>None</td>\n      <td>Vichy Purete Thermale набор Тоник 200 мл+Гель ...</td>\n      <td></td>\n      <td></td>\n      <td></td>\n    </tr>\n    <tr>\n      <th>40021</th>\n      <td>1513.0</td>\n      <td>1316818</td>\n      <td>Магния оксид</td>\n      <td>magniya_oksid</td>\n      <td>Магнерот таблетки 500 мг, 100 шт.</td>\n      <td>500 мг</td>\n      <td>таблетки</td>\n      <td>100</td>\n    </tr>\n  </tbody>\n</table>\n<p>40022 rows × 8 columns</p>\n</div>"
     },
     "metadata": {},
     "execution_count": 26
    }
   ],
   "source": [
    "drug "
   ]
  },
  {
   "cell_type": "code",
   "execution_count": null,
   "metadata": {},
   "outputs": [],
   "source": []
  }
 ]
}